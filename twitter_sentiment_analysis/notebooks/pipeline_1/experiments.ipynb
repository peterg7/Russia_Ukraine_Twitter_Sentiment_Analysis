{
 "cells": [
  {
   "cell_type": "markdown",
   "id": "d8a60fe7",
   "metadata": {},
   "source": [
    "# Sentiment Analysis Training"
   ]
  },
  {
   "cell_type": "markdown",
   "id": "87f9c7b1",
   "metadata": {},
   "source": [
    "## Import dependencies"
   ]
  },
  {
   "cell_type": "code",
   "execution_count": 1,
   "id": "e5ff9dc1",
   "metadata": {
    "ExecuteTime": {
     "end_time": "2022-03-09T00:42:09.326341Z",
     "start_time": "2022-03-09T00:42:09.319658Z"
    }
   },
   "outputs": [],
   "source": [
    "# System\n",
    "import re\n",
    "import multiprocessing\n",
    "\n",
    "# Data manipulation\n",
    "import pandas as pd\n",
    "import numpy as np\n",
    "\n",
    "# Graphing\n",
    "import matplotlib.pyplot as plt\n",
    "import seaborn as sns\n",
    "\n",
    "# Set plot style\n",
    "from jupyterthemes import jtplot\n",
    "jtplot.style(theme='onedork')"
   ]
  },
  {
   "cell_type": "code",
   "execution_count": 2,
   "id": "a9be4bd3",
   "metadata": {
    "ExecuteTime": {
     "end_time": "2022-03-08T23:07:26.457480Z",
     "start_time": "2022-03-08T23:07:26.096721Z"
    }
   },
   "outputs": [],
   "source": [
    "# ML\n",
    "\n",
    "from sklearn.model_selection import train_test_split\n",
    "from sklearn import metrics\n",
    "from sklearn.metrics import confusion_matrix, plot_confusion_matrix, classification_report\n",
    "from sklearn.metrics import accuracy_score, recall_score, get_scorer, f1_score,roc_auc_score,precision_score\n",
    "from sklearn.feature_extraction.text import TfidfVectorizer\n",
    "\n",
    "from sklearn.cluster import KMeans\n",
    "from sklearn.linear_model import LogisticRegression\n",
    "from sklearn.ensemble import RandomForestClassifier\n",
    "from sklearn.svm import LinearSVC\n",
    "from sklearn.model_selection import cross_val_score\n",
    "from sklearn.naive_bayes import MultinomialNB\n",
    "\n",
    "from joblib import dump, load"
   ]
  },
  {
   "cell_type": "code",
   "execution_count": 3,
   "id": "3366ac60",
   "metadata": {
    "ExecuteTime": {
     "end_time": "2022-03-08T23:07:28.194107Z",
     "start_time": "2022-03-08T23:07:27.350419Z"
    }
   },
   "outputs": [
    {
     "name": "stderr",
     "output_type": "stream",
     "text": [
      "/Users/petergish/opt/anaconda3/envs/nlp/lib/python3.10/site-packages/xgboost/compat.py:36: FutureWarning: pandas.Int64Index is deprecated and will be removed from pandas in a future version. Use pandas.Index with the appropriate dtype instead.\n",
      "  from pandas import MultiIndex, Int64Index\n",
      "[nltk_data] Downloading package stopwords to\n",
      "[nltk_data]     /Users/petergish/nltk_data...\n",
      "[nltk_data]   Package stopwords is already up-to-date!\n",
      "[nltk_data] Downloading package wordnet to\n",
      "[nltk_data]     /Users/petergish/nltk_data...\n",
      "[nltk_data]   Package wordnet is already up-to-date!\n",
      "[nltk_data] Downloading package omw-1.4 to\n",
      "[nltk_data]     /Users/petergish/nltk_data...\n",
      "[nltk_data]   Package omw-1.4 is already up-to-date!\n"
     ]
    },
    {
     "data": {
      "text/plain": [
       "True"
      ]
     },
     "execution_count": 3,
     "metadata": {},
     "output_type": "execute_result"
    }
   ],
   "source": [
    "# NLP\n",
    "from wordcloud import WordCloud\n",
    "\n",
    "from xgboost import XGBClassifier\n",
    "\n",
    "from gensim.models.phrases import Phrases, Phraser\n",
    "from gensim.models import Word2Vec\n",
    "\n",
    "import nltk\n",
    "from nltk.stem import WordNetLemmatizer\n",
    "from nltk.corpus import stopwords\n",
    "\n",
    "# Prep nltk library\n",
    "nltk.download('stopwords')\n",
    "nltk.download('wordnet')\n",
    "nltk.download('omw-1.4')"
   ]
  },
  {
   "cell_type": "markdown",
   "id": "9443d12c",
   "metadata": {},
   "source": [
    "## Load & inspect"
   ]
  },
  {
   "cell_type": "code",
   "execution_count": 5,
   "id": "417cde9e",
   "metadata": {
    "ExecuteTime": {
     "end_time": "2022-03-08T23:07:31.560488Z",
     "start_time": "2022-03-08T23:07:31.318711Z"
    }
   },
   "outputs": [
    {
     "data": {
      "text/html": [
       "<div>\n",
       "<style scoped>\n",
       "    .dataframe tbody tr th:only-of-type {\n",
       "        vertical-align: middle;\n",
       "    }\n",
       "\n",
       "    .dataframe tbody tr th {\n",
       "        vertical-align: top;\n",
       "    }\n",
       "\n",
       "    .dataframe thead th {\n",
       "        text-align: right;\n",
       "    }\n",
       "</style>\n",
       "<table border=\"1\" class=\"dataframe\">\n",
       "  <thead>\n",
       "    <tr style=\"text-align: right;\">\n",
       "      <th></th>\n",
       "      <th>id</th>\n",
       "      <th>user_name</th>\n",
       "      <th>user_location</th>\n",
       "      <th>user_description</th>\n",
       "      <th>user_created</th>\n",
       "      <th>user_followers</th>\n",
       "      <th>user_friends</th>\n",
       "      <th>user_favourites</th>\n",
       "      <th>user_verified</th>\n",
       "      <th>date</th>\n",
       "      <th>text</th>\n",
       "      <th>hashtags</th>\n",
       "      <th>source</th>\n",
       "      <th>retweets</th>\n",
       "      <th>favorites</th>\n",
       "      <th>is_retweet</th>\n",
       "    </tr>\n",
       "  </thead>\n",
       "  <tbody>\n",
       "    <tr>\n",
       "      <th>0</th>\n",
       "      <td>1498446801376002051</td>\n",
       "      <td>Rob Smith 🇨🇦 🇺🇦</td>\n",
       "      <td>Ontario, Canada</td>\n",
       "      <td>Proud Canadian 🇨🇦, ❤️ baseball ⚾️, ❤️ history,...</td>\n",
       "      <td>2013-02-18 18:05:01</td>\n",
       "      <td>395</td>\n",
       "      <td>1898</td>\n",
       "      <td>4137</td>\n",
       "      <td>False</td>\n",
       "      <td>2022-02-28 23:55:31</td>\n",
       "      <td>@kiraincongress Photos of rally in support of ...</td>\n",
       "      <td>NaN</td>\n",
       "      <td>Twitter for iPhone</td>\n",
       "      <td>0</td>\n",
       "      <td>0</td>\n",
       "      <td>False</td>\n",
       "    </tr>\n",
       "    <tr>\n",
       "      <th>1</th>\n",
       "      <td>1498446755947499524</td>\n",
       "      <td>Frags</td>\n",
       "      <td>Chicago</td>\n",
       "      <td>ay yo video games\\nMarried To My Best Friend @...</td>\n",
       "      <td>2013-05-18 16:53:43</td>\n",
       "      <td>10523</td>\n",
       "      <td>269</td>\n",
       "      <td>3051</td>\n",
       "      <td>False</td>\n",
       "      <td>2022-02-28 23:55:21</td>\n",
       "      <td>#Russia propaganda on #Twitter attempting to d...</td>\n",
       "      <td>['Russia', 'Twitter', 'Ukraine']</td>\n",
       "      <td>Twitter for iPhone</td>\n",
       "      <td>0</td>\n",
       "      <td>1</td>\n",
       "      <td>False</td>\n",
       "    </tr>\n",
       "    <tr>\n",
       "      <th>2</th>\n",
       "      <td>1498446700096245760</td>\n",
       "      <td>Mark Malahosky 🇺🇦</td>\n",
       "      <td>Webster, NY</td>\n",
       "      <td>Pharmacist practicing at a Federally Qualified...</td>\n",
       "      <td>2015-07-14 12:38:43</td>\n",
       "      <td>184</td>\n",
       "      <td>164</td>\n",
       "      <td>38434</td>\n",
       "      <td>False</td>\n",
       "      <td>2022-02-28 23:55:07</td>\n",
       "      <td>@1Arnold_Friend @MaryEmBern @13WHAM Putin lack...</td>\n",
       "      <td>['SlavaUkraini']</td>\n",
       "      <td>Twitter for iPhone</td>\n",
       "      <td>0</td>\n",
       "      <td>1</td>\n",
       "      <td>False</td>\n",
       "    </tr>\n",
       "    <tr>\n",
       "      <th>3</th>\n",
       "      <td>1498446601710448647</td>\n",
       "      <td>oz</td>\n",
       "      <td>Hlavní město Praha, Česká repu</td>\n",
       "      <td>foodandfilms</td>\n",
       "      <td>2013-07-21 11:38:47</td>\n",
       "      <td>17</td>\n",
       "      <td>93</td>\n",
       "      <td>7907</td>\n",
       "      <td>False</td>\n",
       "      <td>2022-02-28 23:54:44</td>\n",
       "      <td>@profgalloway Dear prof, I have been following...</td>\n",
       "      <td>NaN</td>\n",
       "      <td>Twitter for Android</td>\n",
       "      <td>0</td>\n",
       "      <td>1</td>\n",
       "      <td>False</td>\n",
       "    </tr>\n",
       "    <tr>\n",
       "      <th>4</th>\n",
       "      <td>1498446536820224000</td>\n",
       "      <td>Sydfish 🇺🇦🇺🇦🇺🇦🇺🇦</td>\n",
       "      <td>California, USA</td>\n",
       "      <td>Soccer mom with a punk rock heart!!!!🛑NO LISTS...</td>\n",
       "      <td>2008-12-20 22:41:51</td>\n",
       "      <td>9136</td>\n",
       "      <td>8070</td>\n",
       "      <td>167748</td>\n",
       "      <td>False</td>\n",
       "      <td>2022-02-28 23:54:28</td>\n",
       "      <td>I’ve done more than 100 in St. Petersburg. \\n\\...</td>\n",
       "      <td>NaN</td>\n",
       "      <td>Twitter for iPhone</td>\n",
       "      <td>0</td>\n",
       "      <td>0</td>\n",
       "      <td>False</td>\n",
       "    </tr>\n",
       "    <tr>\n",
       "      <th>5</th>\n",
       "      <td>1498446504528207872</td>\n",
       "      <td>Kwolikowa 🇺🇦💪🇵🇱</td>\n",
       "      <td>The East Bay</td>\n",
       "      <td>working cat mom. lover of freedom. hater of di...</td>\n",
       "      <td>2011-12-20 02:32:24</td>\n",
       "      <td>31</td>\n",
       "      <td>295</td>\n",
       "      <td>635</td>\n",
       "      <td>False</td>\n",
       "      <td>2022-02-28 23:54:21</td>\n",
       "      <td>@lesiavasylenko Speak your truth!! #SlavaUkraini</td>\n",
       "      <td>['SlavaUkraini']</td>\n",
       "      <td>Twitter for iPhone</td>\n",
       "      <td>0</td>\n",
       "      <td>1</td>\n",
       "      <td>False</td>\n",
       "    </tr>\n",
       "    <tr>\n",
       "      <th>6</th>\n",
       "      <td>1498446476493701123</td>\n",
       "      <td>Kas</td>\n",
       "      <td>Guadalajara, Jalisco</td>\n",
       "      <td>Looking through the glass of rainbow</td>\n",
       "      <td>2009-12-14 22:55:37</td>\n",
       "      <td>675</td>\n",
       "      <td>1269</td>\n",
       "      <td>28334</td>\n",
       "      <td>False</td>\n",
       "      <td>2022-02-28 23:54:14</td>\n",
       "      <td>Heroes\\n#SlavaUkraini https://t.co/gl7n6LgEWF</td>\n",
       "      <td>['SlavaUkraini']</td>\n",
       "      <td>Twitter for iPad</td>\n",
       "      <td>0</td>\n",
       "      <td>0</td>\n",
       "      <td>False</td>\n",
       "    </tr>\n",
       "    <tr>\n",
       "      <th>7</th>\n",
       "      <td>1498446442406588419</td>\n",
       "      <td>Jinx Spidox ➡️ Gdakon</td>\n",
       "      <td>Glasgow, Scotland</td>\n",
       "      <td>Railway Electrician, Lanky Wuff, Skoda driver,...</td>\n",
       "      <td>2012-08-23 14:06:58</td>\n",
       "      <td>758</td>\n",
       "      <td>774</td>\n",
       "      <td>40027</td>\n",
       "      <td>False</td>\n",
       "      <td>2022-02-28 23:54:06</td>\n",
       "      <td>#SlavaUkraini good night #Ukraine keep up the ...</td>\n",
       "      <td>['SlavaUkraini', 'Ukraine']</td>\n",
       "      <td>Twitter Web App</td>\n",
       "      <td>0</td>\n",
       "      <td>4</td>\n",
       "      <td>False</td>\n",
       "    </tr>\n",
       "    <tr>\n",
       "      <th>8</th>\n",
       "      <td>1498446410227851265</td>\n",
       "      <td>Jackie Blue 🇺🇸 🇨🇦 🇺🇦 🌻</td>\n",
       "      <td>🇺🇸 Wrong Side of the 49th</td>\n",
       "      <td>Well, now on to the next emergency. (And more ...</td>\n",
       "      <td>2022-02-02 05:14:11</td>\n",
       "      <td>254</td>\n",
       "      <td>221</td>\n",
       "      <td>3880</td>\n",
       "      <td>False</td>\n",
       "      <td>2022-02-28 23:53:58</td>\n",
       "      <td>@anagin40 @NATO It sadly took Ukraine being a ...</td>\n",
       "      <td>NaN</td>\n",
       "      <td>Twitter Web App</td>\n",
       "      <td>0</td>\n",
       "      <td>2</td>\n",
       "      <td>False</td>\n",
       "    </tr>\n",
       "    <tr>\n",
       "      <th>9</th>\n",
       "      <td>1498446402267095040</td>\n",
       "      <td>Lydia B. 🗝🐉</td>\n",
       "      <td>NaN</td>\n",
       "      <td>it was his hat mr krabs. he was number one!\\n\\...</td>\n",
       "      <td>2013-10-04 20:52:31</td>\n",
       "      <td>208</td>\n",
       "      <td>915</td>\n",
       "      <td>4401</td>\n",
       "      <td>False</td>\n",
       "      <td>2022-02-28 23:53:56</td>\n",
       "      <td>@MrBeast @AndreaRussett @RosannaPansino @Jacks...</td>\n",
       "      <td>NaN</td>\n",
       "      <td>Twitter Web App</td>\n",
       "      <td>0</td>\n",
       "      <td>1</td>\n",
       "      <td>False</td>\n",
       "    </tr>\n",
       "  </tbody>\n",
       "</table>\n",
       "</div>"
      ],
      "text/plain": [
       "                    id               user_name  \\\n",
       "0  1498446801376002051         Rob Smith 🇨🇦 🇺🇦   \n",
       "1  1498446755947499524                   Frags   \n",
       "2  1498446700096245760       Mark Malahosky 🇺🇦   \n",
       "3  1498446601710448647                      oz   \n",
       "4  1498446536820224000        Sydfish 🇺🇦🇺🇦🇺🇦🇺🇦   \n",
       "5  1498446504528207872         Kwolikowa 🇺🇦💪🇵🇱   \n",
       "6  1498446476493701123                     Kas   \n",
       "7  1498446442406588419   Jinx Spidox ➡️ Gdakon   \n",
       "8  1498446410227851265  Jackie Blue 🇺🇸 🇨🇦 🇺🇦 🌻   \n",
       "9  1498446402267095040             Lydia B. 🗝🐉   \n",
       "\n",
       "                    user_location  \\\n",
       "0                 Ontario, Canada   \n",
       "1                         Chicago   \n",
       "2                     Webster, NY   \n",
       "3  Hlavní město Praha, Česká repu   \n",
       "4                 California, USA   \n",
       "5                    The East Bay   \n",
       "6            Guadalajara, Jalisco   \n",
       "7               Glasgow, Scotland   \n",
       "8       🇺🇸 Wrong Side of the 49th   \n",
       "9                             NaN   \n",
       "\n",
       "                                    user_description         user_created  \\\n",
       "0  Proud Canadian 🇨🇦, ❤️ baseball ⚾️, ❤️ history,...  2013-02-18 18:05:01   \n",
       "1  ay yo video games\\nMarried To My Best Friend @...  2013-05-18 16:53:43   \n",
       "2  Pharmacist practicing at a Federally Qualified...  2015-07-14 12:38:43   \n",
       "3                                       foodandfilms  2013-07-21 11:38:47   \n",
       "4  Soccer mom with a punk rock heart!!!!🛑NO LISTS...  2008-12-20 22:41:51   \n",
       "5  working cat mom. lover of freedom. hater of di...  2011-12-20 02:32:24   \n",
       "6               Looking through the glass of rainbow  2009-12-14 22:55:37   \n",
       "7  Railway Electrician, Lanky Wuff, Skoda driver,...  2012-08-23 14:06:58   \n",
       "8  Well, now on to the next emergency. (And more ...  2022-02-02 05:14:11   \n",
       "9  it was his hat mr krabs. he was number one!\\n\\...  2013-10-04 20:52:31   \n",
       "\n",
       "   user_followers  user_friends  user_favourites  user_verified  \\\n",
       "0             395          1898             4137          False   \n",
       "1           10523           269             3051          False   \n",
       "2             184           164            38434          False   \n",
       "3              17            93             7907          False   \n",
       "4            9136          8070           167748          False   \n",
       "5              31           295              635          False   \n",
       "6             675          1269            28334          False   \n",
       "7             758           774            40027          False   \n",
       "8             254           221             3880          False   \n",
       "9             208           915             4401          False   \n",
       "\n",
       "                  date                                               text  \\\n",
       "0  2022-02-28 23:55:31  @kiraincongress Photos of rally in support of ...   \n",
       "1  2022-02-28 23:55:21  #Russia propaganda on #Twitter attempting to d...   \n",
       "2  2022-02-28 23:55:07  @1Arnold_Friend @MaryEmBern @13WHAM Putin lack...   \n",
       "3  2022-02-28 23:54:44  @profgalloway Dear prof, I have been following...   \n",
       "4  2022-02-28 23:54:28  I’ve done more than 100 in St. Petersburg. \\n\\...   \n",
       "5  2022-02-28 23:54:21   @lesiavasylenko Speak your truth!! #SlavaUkraini   \n",
       "6  2022-02-28 23:54:14      Heroes\\n#SlavaUkraini https://t.co/gl7n6LgEWF   \n",
       "7  2022-02-28 23:54:06  #SlavaUkraini good night #Ukraine keep up the ...   \n",
       "8  2022-02-28 23:53:58  @anagin40 @NATO It sadly took Ukraine being a ...   \n",
       "9  2022-02-28 23:53:56  @MrBeast @AndreaRussett @RosannaPansino @Jacks...   \n",
       "\n",
       "                           hashtags               source  retweets  favorites  \\\n",
       "0                               NaN   Twitter for iPhone         0          0   \n",
       "1  ['Russia', 'Twitter', 'Ukraine']   Twitter for iPhone         0          1   \n",
       "2                  ['SlavaUkraini']   Twitter for iPhone         0          1   \n",
       "3                               NaN  Twitter for Android         0          1   \n",
       "4                               NaN   Twitter for iPhone         0          0   \n",
       "5                  ['SlavaUkraini']   Twitter for iPhone         0          1   \n",
       "6                  ['SlavaUkraini']     Twitter for iPad         0          0   \n",
       "7       ['SlavaUkraini', 'Ukraine']      Twitter Web App         0          4   \n",
       "8                               NaN      Twitter Web App         0          2   \n",
       "9                               NaN      Twitter Web App         0          1   \n",
       "\n",
       "   is_retweet  \n",
       "0       False  \n",
       "1       False  \n",
       "2       False  \n",
       "3       False  \n",
       "4       False  \n",
       "5       False  \n",
       "6       False  \n",
       "7       False  \n",
       "8       False  \n",
       "9       False  "
      ]
     },
     "execution_count": 5,
     "metadata": {},
     "output_type": "execute_result"
    }
   ],
   "source": [
    "# Load data\n",
    "file_path = '../../data/slava_ukraini_tweets.csv'\n",
    "raw_tweets_df = pd.read_csv(file_path)\n",
    "raw_tweets_df.head(10)"
   ]
  },
  {
   "cell_type": "code",
   "execution_count": 6,
   "id": "0dab8f59",
   "metadata": {
    "ExecuteTime": {
     "end_time": "2022-03-08T23:07:32.946551Z",
     "start_time": "2022-03-08T23:07:32.902670Z"
    }
   },
   "outputs": [
    {
     "name": "stdout",
     "output_type": "stream",
     "text": [
      "<class 'pandas.core.frame.DataFrame'>\n",
      "RangeIndex: 30468 entries, 0 to 30467\n",
      "Data columns (total 16 columns):\n",
      " #   Column            Non-Null Count  Dtype \n",
      "---  ------            --------------  ----- \n",
      " 0   id                30468 non-null  int64 \n",
      " 1   user_name         30468 non-null  object\n",
      " 2   user_location     20963 non-null  object\n",
      " 3   user_description  27257 non-null  object\n",
      " 4   user_created      30468 non-null  object\n",
      " 5   user_followers    30468 non-null  int64 \n",
      " 6   user_friends      30468 non-null  int64 \n",
      " 7   user_favourites   30468 non-null  int64 \n",
      " 8   user_verified     30468 non-null  bool  \n",
      " 9   date              30468 non-null  object\n",
      " 10  text              30468 non-null  object\n",
      " 11  hashtags          19869 non-null  object\n",
      " 12  source            30468 non-null  object\n",
      " 13  retweets          30468 non-null  int64 \n",
      " 14  favorites         30468 non-null  int64 \n",
      " 15  is_retweet        30468 non-null  bool  \n",
      "dtypes: bool(2), int64(6), object(8)\n",
      "memory usage: 3.3+ MB\n"
     ]
    }
   ],
   "source": [
    "# Get general overview\n",
    "raw_tweets_df.info()"
   ]
  },
  {
   "cell_type": "code",
   "execution_count": 7,
   "id": "c398c043",
   "metadata": {
    "ExecuteTime": {
     "end_time": "2022-03-08T23:07:35.608386Z",
     "start_time": "2022-03-08T23:07:35.558879Z"
    }
   },
   "outputs": [
    {
     "data": {
      "text/plain": [
       "id                  30468\n",
       "user_name           12256\n",
       "user_location        4691\n",
       "user_description    10907\n",
       "user_created        12010\n",
       "user_followers       4638\n",
       "user_friends         4600\n",
       "user_favourites     12741\n",
       "user_verified           2\n",
       "date                29564\n",
       "text                30414\n",
       "hashtags             7154\n",
       "source                 41\n",
       "retweets              139\n",
       "favorites             301\n",
       "is_retweet              1\n",
       "dtype: int64"
      ]
     },
     "execution_count": 7,
     "metadata": {},
     "output_type": "execute_result"
    }
   ],
   "source": [
    "# Get unique values\n",
    "raw_tweets_df.nunique()"
   ]
  },
  {
   "cell_type": "code",
   "execution_count": 8,
   "id": "c7313c9a",
   "metadata": {
    "ExecuteTime": {
     "end_time": "2022-03-08T23:07:36.587663Z",
     "start_time": "2022-03-08T23:07:36.574212Z"
    }
   },
   "outputs": [
    {
     "data": {
      "text/plain": [
       "United States                    406\n",
       "Bracknell UK                     351\n",
       "London                           216\n",
       "Canada                           213\n",
       "London, England                  197\n",
       "                                ... \n",
       "iPhone: 33.580254,-117.198929      1\n",
       "Albany, NY                         1\n",
       "Jersey City, NJ                    1\n",
       "A State Of Rarefied Delirium       1\n",
       "Western MA                         1\n",
       "Name: user_location, Length: 4691, dtype: int64"
      ]
     },
     "execution_count": 8,
     "metadata": {},
     "output_type": "execute_result"
    }
   ],
   "source": [
    "# Check locations (may imply language)\n",
    "raw_tweets_df['user_location'].value_counts()"
   ]
  },
  {
   "cell_type": "markdown",
   "id": "a5f81aec",
   "metadata": {},
   "source": [
    "## Cleaning"
   ]
  },
  {
   "cell_type": "code",
   "execution_count": 9,
   "id": "12cc1c0f",
   "metadata": {
    "ExecuteTime": {
     "end_time": "2022-03-08T23:07:38.520067Z",
     "start_time": "2022-03-08T23:07:38.511605Z"
    }
   },
   "outputs": [
    {
     "data": {
      "text/plain": [
       "(30468, 6)"
      ]
     },
     "execution_count": 9,
     "metadata": {},
     "output_type": "execute_result"
    }
   ],
   "source": [
    "# Select relevant columns\n",
    "col_rename_map = {\n",
    "    'date': 'date',\n",
    "    'user_name': 'username',\n",
    "    'user_description': 'description',\n",
    "    'user_location': 'location',\n",
    "    'text': 'tweet',\n",
    "    'hashtags': 'hashtags'\n",
    "}\n",
    "\n",
    "tweets_df = raw_tweets_df[list(col_rename_map.keys())].rename(columns=col_rename_map)\n",
    "\n",
    "tweets_df.shape"
   ]
  },
  {
   "cell_type": "code",
   "execution_count": 10,
   "id": "11a9eb63",
   "metadata": {
    "ExecuteTime": {
     "end_time": "2022-03-08T23:07:39.665276Z",
     "start_time": "2022-03-08T23:07:39.653626Z"
    }
   },
   "outputs": [
    {
     "data": {
      "text/plain": [
       "54"
      ]
     },
     "execution_count": 10,
     "metadata": {},
     "output_type": "execute_result"
    }
   ],
   "source": [
    "# Check duplicate tweets\n",
    "tweets_df['tweet'].duplicated(keep='first').sum()"
   ]
  },
  {
   "cell_type": "code",
   "execution_count": 11,
   "id": "e2e02453",
   "metadata": {
    "ExecuteTime": {
     "end_time": "2022-03-08T23:07:40.594336Z",
     "start_time": "2022-03-08T23:07:40.573633Z"
    }
   },
   "outputs": [
    {
     "data": {
      "text/plain": [
       "(30414, 6)"
      ]
     },
     "execution_count": 11,
     "metadata": {},
     "output_type": "execute_result"
    }
   ],
   "source": [
    "# Drop duplicate tweets\n",
    "tweets_df = tweets_df.drop_duplicates(subset='tweet', keep='first')\n",
    "tweets_df.shape"
   ]
  },
  {
   "cell_type": "code",
   "execution_count": 12,
   "id": "5e4d8754",
   "metadata": {
    "ExecuteTime": {
     "end_time": "2022-03-08T23:07:41.375088Z",
     "start_time": "2022-03-08T23:07:41.365259Z"
    }
   },
   "outputs": [],
   "source": [
    "# Initialize Lemmatizer and stopwords\n",
    "lemma = WordNetLemmatizer()\n",
    "stop_words = stopwords.words(\"english\")"
   ]
  },
  {
   "cell_type": "code",
   "execution_count": 13,
   "id": "55c4e3b1",
   "metadata": {
    "ExecuteTime": {
     "end_time": "2022-03-08T23:07:42.598682Z",
     "start_time": "2022-03-08T23:07:42.512927Z"
    }
   },
   "outputs": [],
   "source": [
    "# Define cleaning functions\n",
    "\n",
    "def cleanTweet(tweet):\n",
    "\n",
    "    tweet = tweet.lower()\n",
    "    tweet = re.sub('https?:\\/\\/[a-zA-Z0-9@:%._\\/+~#=?&;-]*', ' ', tweet)\n",
    "    tweet = re.sub('\\$[a-zA-Z0-9]*', ' ', tweet)\n",
    "    tweet = re.sub('\\@[a-zA-Z0-9]*', ' ', tweet)\n",
    "    tweet = re.sub('[^a-zA-Z\\']', ' ', tweet)\n",
    "    tweet = ' '.join( [w for w in tweet.split() if len(w)>1] )\n",
    "    \n",
    "    lem_stopwords = [lemma.lemmatize(x) for x in nltk.wordpunct_tokenize(tweet) \n",
    "                     if x not in stop_words]\n",
    "    tweet = ' '.join(lem_stopwords)\n",
    "    \n",
    "    return [lemma.lemmatize(x, nltk.corpus.reader.wordnet.VERB) for x in nltk.wordpunct_tokenize(tweet) \n",
    "             if x not in stop_words]\n",
    "\n",
    "\n",
    "def cleanHashtags(hashtags):\n",
    "\n",
    "    if hashtags:\n",
    "        hashtags = hashtags.lower()\n",
    "        hashtags = re.sub('\\$[a-zA-Z0-9]*', ' ', hashtags)\n",
    "        hashtags = re.sub('[^a-zA-Z]', ' ', hashtags)\n",
    "        hashtags=hashtags.strip() \n",
    "    return hashtags"
   ]
  },
  {
   "cell_type": "code",
   "execution_count": 14,
   "id": "10902c5b",
   "metadata": {
    "ExecuteTime": {
     "end_time": "2022-03-08T23:07:48.447806Z",
     "start_time": "2022-03-08T23:07:44.270783Z"
    }
   },
   "outputs": [],
   "source": [
    "# Clean tweets\n",
    "tweets_df['clean_tweet'] = tweets_df['tweet'].apply(lambda x: cleanTweet(x))\n",
    "tweets_df['cleaned_tweet'] = tweets_df['clean_tweet'].apply(lambda x:' '.join(x))"
   ]
  },
  {
   "cell_type": "code",
   "execution_count": 15,
   "id": "eca79699",
   "metadata": {
    "ExecuteTime": {
     "end_time": "2022-03-08T23:07:49.423813Z",
     "start_time": "2022-03-08T23:07:49.334067Z"
    }
   },
   "outputs": [],
   "source": [
    "# Clean hashtags\n",
    "tweets_df[\"hashtags\"] = tweets_df[\"hashtags\"].astype(str)\n",
    "tweets_df[\"hashtags\"] = tweets_df[\"hashtags\"].apply(lambda x: cleanHashtags(x))"
   ]
  },
  {
   "cell_type": "code",
   "execution_count": 16,
   "id": "4cc1fb1a",
   "metadata": {
    "ExecuteTime": {
     "end_time": "2022-03-08T23:07:50.621071Z",
     "start_time": "2022-03-08T23:07:50.607137Z"
    }
   },
   "outputs": [
    {
     "data": {
      "text/html": [
       "<div>\n",
       "<style scoped>\n",
       "    .dataframe tbody tr th:only-of-type {\n",
       "        vertical-align: middle;\n",
       "    }\n",
       "\n",
       "    .dataframe tbody tr th {\n",
       "        vertical-align: top;\n",
       "    }\n",
       "\n",
       "    .dataframe thead th {\n",
       "        text-align: right;\n",
       "    }\n",
       "</style>\n",
       "<table border=\"1\" class=\"dataframe\">\n",
       "  <thead>\n",
       "    <tr style=\"text-align: right;\">\n",
       "      <th></th>\n",
       "      <th>date</th>\n",
       "      <th>username</th>\n",
       "      <th>description</th>\n",
       "      <th>location</th>\n",
       "      <th>tweet</th>\n",
       "      <th>hashtags</th>\n",
       "      <th>clean_tweet</th>\n",
       "      <th>cleaned_tweet</th>\n",
       "    </tr>\n",
       "  </thead>\n",
       "  <tbody>\n",
       "    <tr>\n",
       "      <th>0</th>\n",
       "      <td>2022-02-28 23:55:31</td>\n",
       "      <td>Rob Smith 🇨🇦 🇺🇦</td>\n",
       "      <td>Proud Canadian 🇨🇦, ❤️ baseball ⚾️, ❤️ history,...</td>\n",
       "      <td>Ontario, Canada</td>\n",
       "      <td>@kiraincongress Photos of rally in support of ...</td>\n",
       "      <td>nan</td>\n",
       "      <td>[photo, rally, support, ukraine, toronto, cana...</td>\n",
       "      <td>photo rally support ukraine toronto canada sun...</td>\n",
       "    </tr>\n",
       "    <tr>\n",
       "      <th>1</th>\n",
       "      <td>2022-02-28 23:55:21</td>\n",
       "      <td>Frags</td>\n",
       "      <td>ay yo video games\\nMarried To My Best Friend @...</td>\n",
       "      <td>Chicago</td>\n",
       "      <td>#Russia propaganda on #Twitter attempting to d...</td>\n",
       "      <td>russia    twitter    ukraine</td>\n",
       "      <td>[russia, propaganda, twitter, attempt, diminis...</td>\n",
       "      <td>russia propaganda twitter attempt diminish eve...</td>\n",
       "    </tr>\n",
       "    <tr>\n",
       "      <th>2</th>\n",
       "      <td>2022-02-28 23:55:07</td>\n",
       "      <td>Mark Malahosky 🇺🇦</td>\n",
       "      <td>Pharmacist practicing at a Federally Qualified...</td>\n",
       "      <td>Webster, NY</td>\n",
       "      <td>@1Arnold_Friend @MaryEmBern @13WHAM Putin lack...</td>\n",
       "      <td>slavaukraini</td>\n",
       "      <td>[friend, putin, lackey, slavaukraini]</td>\n",
       "      <td>friend putin lackey slavaukraini</td>\n",
       "    </tr>\n",
       "    <tr>\n",
       "      <th>3</th>\n",
       "      <td>2022-02-28 23:54:44</td>\n",
       "      <td>oz</td>\n",
       "      <td>foodandfilms</td>\n",
       "      <td>Hlavní město Praha, Česká repu</td>\n",
       "      <td>@profgalloway Dear prof, I have been following...</td>\n",
       "      <td>nan</td>\n",
       "      <td>[dear, prof, follow, podcast, time, think, sor...</td>\n",
       "      <td>dear prof follow podcast time think sort under...</td>\n",
       "    </tr>\n",
       "    <tr>\n",
       "      <th>4</th>\n",
       "      <td>2022-02-28 23:54:28</td>\n",
       "      <td>Sydfish 🇺🇦🇺🇦🇺🇦🇺🇦</td>\n",
       "      <td>Soccer mom with a punk rock heart!!!!🛑NO LISTS...</td>\n",
       "      <td>California, USA</td>\n",
       "      <td>I’ve done more than 100 in St. Petersburg. \\n\\...</td>\n",
       "      <td>nan</td>\n",
       "      <td>[do, st, petersburg, dm, would, like, blurb, r...</td>\n",
       "      <td>do st petersburg dm would like blurb russian t...</td>\n",
       "    </tr>\n",
       "  </tbody>\n",
       "</table>\n",
       "</div>"
      ],
      "text/plain": [
       "                  date           username  \\\n",
       "0  2022-02-28 23:55:31    Rob Smith 🇨🇦 🇺🇦   \n",
       "1  2022-02-28 23:55:21              Frags   \n",
       "2  2022-02-28 23:55:07  Mark Malahosky 🇺🇦   \n",
       "3  2022-02-28 23:54:44                 oz   \n",
       "4  2022-02-28 23:54:28   Sydfish 🇺🇦🇺🇦🇺🇦🇺🇦   \n",
       "\n",
       "                                         description  \\\n",
       "0  Proud Canadian 🇨🇦, ❤️ baseball ⚾️, ❤️ history,...   \n",
       "1  ay yo video games\\nMarried To My Best Friend @...   \n",
       "2  Pharmacist practicing at a Federally Qualified...   \n",
       "3                                       foodandfilms   \n",
       "4  Soccer mom with a punk rock heart!!!!🛑NO LISTS...   \n",
       "\n",
       "                         location  \\\n",
       "0                 Ontario, Canada   \n",
       "1                         Chicago   \n",
       "2                     Webster, NY   \n",
       "3  Hlavní město Praha, Česká repu   \n",
       "4                 California, USA   \n",
       "\n",
       "                                               tweet  \\\n",
       "0  @kiraincongress Photos of rally in support of ...   \n",
       "1  #Russia propaganda on #Twitter attempting to d...   \n",
       "2  @1Arnold_Friend @MaryEmBern @13WHAM Putin lack...   \n",
       "3  @profgalloway Dear prof, I have been following...   \n",
       "4  I’ve done more than 100 in St. Petersburg. \\n\\...   \n",
       "\n",
       "                       hashtags  \\\n",
       "0                           nan   \n",
       "1  russia    twitter    ukraine   \n",
       "2                  slavaukraini   \n",
       "3                           nan   \n",
       "4                           nan   \n",
       "\n",
       "                                         clean_tweet  \\\n",
       "0  [photo, rally, support, ukraine, toronto, cana...   \n",
       "1  [russia, propaganda, twitter, attempt, diminis...   \n",
       "2              [friend, putin, lackey, slavaukraini]   \n",
       "3  [dear, prof, follow, podcast, time, think, sor...   \n",
       "4  [do, st, petersburg, dm, would, like, blurb, r...   \n",
       "\n",
       "                                       cleaned_tweet  \n",
       "0  photo rally support ukraine toronto canada sun...  \n",
       "1  russia propaganda twitter attempt diminish eve...  \n",
       "2                   friend putin lackey slavaukraini  \n",
       "3  dear prof follow podcast time think sort under...  \n",
       "4  do st petersburg dm would like blurb russian t...  "
      ]
     },
     "execution_count": 16,
     "metadata": {},
     "output_type": "execute_result"
    }
   ],
   "source": [
    "tweets_df.head()"
   ]
  },
  {
   "cell_type": "code",
   "execution_count": 17,
   "id": "0a8f97e8",
   "metadata": {
    "ExecuteTime": {
     "end_time": "2022-03-08T23:07:51.926549Z",
     "start_time": "2022-03-08T23:07:51.912565Z"
    }
   },
   "outputs": [],
   "source": [
    "# Convert date to datetime and extract month/year\n",
    "tweets_df['date'] = pd.to_datetime(tweets_df['date'])\n",
    "tweets_df['month'] = tweets_df['date'].dt.month\n",
    "tweets_df['year'] = tweets_df['date'].dt.year"
   ]
  },
  {
   "cell_type": "code",
   "execution_count": 18,
   "id": "6ae08e61",
   "metadata": {
    "ExecuteTime": {
     "end_time": "2022-03-08T23:07:52.997064Z",
     "start_time": "2022-03-08T23:07:52.982968Z"
    }
   },
   "outputs": [
    {
     "data": {
      "text/html": [
       "<div>\n",
       "<style scoped>\n",
       "    .dataframe tbody tr th:only-of-type {\n",
       "        vertical-align: middle;\n",
       "    }\n",
       "\n",
       "    .dataframe tbody tr th {\n",
       "        vertical-align: top;\n",
       "    }\n",
       "\n",
       "    .dataframe thead th {\n",
       "        text-align: right;\n",
       "    }\n",
       "</style>\n",
       "<table border=\"1\" class=\"dataframe\">\n",
       "  <thead>\n",
       "    <tr style=\"text-align: right;\">\n",
       "      <th></th>\n",
       "      <th>date</th>\n",
       "      <th>username</th>\n",
       "      <th>description</th>\n",
       "      <th>location</th>\n",
       "      <th>tweet</th>\n",
       "      <th>hashtags</th>\n",
       "      <th>clean_tweet</th>\n",
       "      <th>cleaned_tweet</th>\n",
       "      <th>month</th>\n",
       "      <th>year</th>\n",
       "    </tr>\n",
       "  </thead>\n",
       "  <tbody>\n",
       "    <tr>\n",
       "      <th>30463</th>\n",
       "      <td>2022-03-23 04:24:51</td>\n",
       "      <td>John Matthews 🇺🇦</td>\n",
       "      <td>Voice Actor. Geek. Loves Video Games. Loves lo...</td>\n",
       "      <td>Texas, USA</td>\n",
       "      <td>This is still one of the most moving videos I ...</td>\n",
       "      <td>nan</td>\n",
       "      <td>[still, one, move, video, see, war, air, raid,...</td>\n",
       "      <td>still one move video see war air raid siren go...</td>\n",
       "      <td>3</td>\n",
       "      <td>2022</td>\n",
       "    </tr>\n",
       "    <tr>\n",
       "      <th>30464</th>\n",
       "      <td>2022-03-23 04:21:18</td>\n",
       "      <td>D. Rodriqueqez 🇺🇦 🇺🇸 🇪🇸 🇲🇽</td>\n",
       "      <td>\"Envision a dream, but with eyes open.\"\\nFollo...</td>\n",
       "      <td>NaN</td>\n",
       "      <td>@AFP I'm not for war because it brings much de...</td>\n",
       "      <td>ukraine</td>\n",
       "      <td>[', war, bring, much, death, say, amp, since, ...</td>\n",
       "      <td>' war bring much death say amp since ukraine i...</td>\n",
       "      <td>3</td>\n",
       "      <td>2022</td>\n",
       "    </tr>\n",
       "    <tr>\n",
       "      <th>30465</th>\n",
       "      <td>2022-03-23 04:20:35</td>\n",
       "      <td>SLP</td>\n",
       "      <td>Neuroscientist👩‍🔬, Biologist🔬, Educator👩‍🏫, Eq...</td>\n",
       "      <td>Western MA</td>\n",
       "      <td>#LongLiveUkraine \\n#SlavaUkraini 🇺🇦🌻\\nThe smal...</td>\n",
       "      <td>longliveukraine    slavaukraini</td>\n",
       "      <td>[longliveukraine, slavaukraini, small, town, u...</td>\n",
       "      <td>longliveukraine slavaukraini small town ukrain...</td>\n",
       "      <td>3</td>\n",
       "      <td>2022</td>\n",
       "    </tr>\n",
       "    <tr>\n",
       "      <th>30466</th>\n",
       "      <td>2022-03-23 04:20:14</td>\n",
       "      <td>James Kent</td>\n",
       "      <td>Old biker, hate bully's, like to smile at life...</td>\n",
       "      <td>NaN</td>\n",
       "      <td>@BrianKarem He is right and the rest of the wo...</td>\n",
       "      <td>nan</td>\n",
       "      <td>[right, rest, world, quake, boot, wrong, putin...</td>\n",
       "      <td>right rest world quake boot wrong putin must c...</td>\n",
       "      <td>3</td>\n",
       "      <td>2022</td>\n",
       "    </tr>\n",
       "    <tr>\n",
       "      <th>30467</th>\n",
       "      <td>2022-03-23 04:20:13</td>\n",
       "      <td>Joey Contino</td>\n",
       "      <td>Executive Audio Producer 🎙️ iHeartMedia - iHea...</td>\n",
       "      <td>New York City</td>\n",
       "      <td>Good morning Kyiv. You are still Ukrainian!  #...</td>\n",
       "      <td>slavaukraini    ukraine</td>\n",
       "      <td>[good, morning, kyiv, still, ukrainian, slavau...</td>\n",
       "      <td>good morning kyiv still ukrainian slavaukraini...</td>\n",
       "      <td>3</td>\n",
       "      <td>2022</td>\n",
       "    </tr>\n",
       "  </tbody>\n",
       "</table>\n",
       "</div>"
      ],
      "text/plain": [
       "                     date                    username  \\\n",
       "30463 2022-03-23 04:24:51            John Matthews 🇺🇦   \n",
       "30464 2022-03-23 04:21:18  D. Rodriqueqez 🇺🇦 🇺🇸 🇪🇸 🇲🇽   \n",
       "30465 2022-03-23 04:20:35                         SLP   \n",
       "30466 2022-03-23 04:20:14                  James Kent   \n",
       "30467 2022-03-23 04:20:13                Joey Contino   \n",
       "\n",
       "                                             description       location  \\\n",
       "30463  Voice Actor. Geek. Loves Video Games. Loves lo...     Texas, USA   \n",
       "30464  \"Envision a dream, but with eyes open.\"\\nFollo...            NaN   \n",
       "30465  Neuroscientist👩‍🔬, Biologist🔬, Educator👩‍🏫, Eq...     Western MA   \n",
       "30466  Old biker, hate bully's, like to smile at life...            NaN   \n",
       "30467  Executive Audio Producer 🎙️ iHeartMedia - iHea...  New York City   \n",
       "\n",
       "                                                   tweet  \\\n",
       "30463  This is still one of the most moving videos I ...   \n",
       "30464  @AFP I'm not for war because it brings much de...   \n",
       "30465  #LongLiveUkraine \\n#SlavaUkraini 🇺🇦🌻\\nThe smal...   \n",
       "30466  @BrianKarem He is right and the rest of the wo...   \n",
       "30467  Good morning Kyiv. You are still Ukrainian!  #...   \n",
       "\n",
       "                              hashtags  \\\n",
       "30463                              nan   \n",
       "30464                          ukraine   \n",
       "30465  longliveukraine    slavaukraini   \n",
       "30466                              nan   \n",
       "30467          slavaukraini    ukraine   \n",
       "\n",
       "                                             clean_tweet  \\\n",
       "30463  [still, one, move, video, see, war, air, raid,...   \n",
       "30464  [', war, bring, much, death, say, amp, since, ...   \n",
       "30465  [longliveukraine, slavaukraini, small, town, u...   \n",
       "30466  [right, rest, world, quake, boot, wrong, putin...   \n",
       "30467  [good, morning, kyiv, still, ukrainian, slavau...   \n",
       "\n",
       "                                           cleaned_tweet  month  year  \n",
       "30463  still one move video see war air raid siren go...      3  2022  \n",
       "30464  ' war bring much death say amp since ukraine i...      3  2022  \n",
       "30465  longliveukraine slavaukraini small town ukrain...      3  2022  \n",
       "30466  right rest world quake boot wrong putin must c...      3  2022  \n",
       "30467  good morning kyiv still ukrainian slavaukraini...      3  2022  "
      ]
     },
     "execution_count": 18,
     "metadata": {},
     "output_type": "execute_result"
    }
   ],
   "source": [
    "tweets_df.tail()"
   ]
  },
  {
   "cell_type": "code",
   "execution_count": 19,
   "id": "efe25b6b",
   "metadata": {
    "ExecuteTime": {
     "end_time": "2022-03-08T23:07:54.191143Z",
     "start_time": "2022-03-08T23:07:54.181988Z"
    }
   },
   "outputs": [
    {
     "data": {
      "text/plain": [
       "['photo rally support ukraine toronto canada sunday ukraine alone',\n",
       " 'russia propaganda twitter attempt diminish everything ukraine fight spread lie mi',\n",
       " 'friend putin lackey slavaukraini',\n",
       " 'dear prof follow podcast time think sort understand',\n",
       " 'do st petersburg dm would like blurb russian translation',\n",
       " 'speak truth slavaukraini',\n",
       " 'hero slavaukraini',\n",
       " 'slavaukraini good night ukraine keep good fight tonight may saint javelin protector keep',\n",
       " 'sadly take ukraine sacrificial lamb world wake mount unify assault',\n",
       " 'please speak ukraine',\n",
       " 'starlink arrive pretty quickly ukraine slavaukraini ukrainerussiawar',\n",
       " 'glad hear kid okay slavaukraini slavaukraine',\n",
       " 'saw news footage family child separate father ukraine upset',\n",
       " 'swear art form ukraine slavaukraini fckptn',\n",
       " 'much love southern highland nsw australia slavaukraini',\n",
       " 'minute silence lisbon ukraine ukrainerussiawar slavaukraini',\n",
       " 'like laugh johnsonout hoyleout slavaukraini',\n",
       " 'new video ukraine invasion explain get please watch like amp subscribe',\n",
       " 'beautiful unity yet still haunt ever truly find time trauma terror los',\n",
       " 'know almost nothing ukrainian people past week stand awe people resilience slavaukraini',\n",
       " 'beautiful ukraine innocent tear two world pray ukraine slavaukraini',\n",
       " 'usa full support slavaukraini',\n",
       " 'amaze definition fight spirit citizen ukraine inspire see',\n",
       " 'friend donate today slavaukraini',\n",
       " 'show support ukrainian people standwithukriane tomorrow quad pm slavaukraini',\n",
       " 'slavaukraini strong spirit fight hard viking regard',\n",
       " 'thank post disturb know erikprince suppose',\n",
       " \"whiteheaduk tory love farmer much love russian ' worry\",\n",
       " 'lol unbelievable love people slavaukraini',\n",
       " \"interest slavaukraini become st century ' pasaran\",\n",
       " 'slavaukraini opinion michael de adder finest hour washington post',\n",
       " 'get refer pm standwithukraine standingwithukraine slavaukraini stopputin',\n",
       " 'well swift slavaukraini',\n",
       " \"see ' renounce christian value world see slavaukraini\",\n",
       " 'one serious wtf moment father law assemble molotov cocktail balcony kyiv slavaukraini',\n",
       " 'mr president strategic idea blow russian convoy still hav',\n",
       " 'hardship proud pay slavaukraini',\n",
       " \"crisis avert ' russian ' influencer ' amp ' also insta yt tiktok etc originally post insta feb\",\n",
       " 'welcome city slavaukraini ukraine russia putin molotov ukrainerussiawar eu nato',\n",
       " 'time last week catch think oh yeah ukrainian know know slavaukraini',\n",
       " 'steff wessex torybrexitdisaster wessexindy putinsbrexit slavaukraini',\n",
       " 'say stay safe slavaukraini',\n",
       " 'ukraine hit park social medium huge respect team behind',\n",
       " 'even cat hate putin slavaukraini russianarmy',\n",
       " 'hero motherland slavaukraini',\n",
       " 'sorry hear many reason people want government office',\n",
       " \"' do wait gop show capitol attack slavaukraini\",\n",
       " 'absolute warrior slavaukraini',\n",
       " 'craig tomorrow shrink beyond recognition putinwarcriminal slavaukraini',\n",
       " \"signal secure platform use right ' russia ukraine ukraine russiainvasion\",\n",
       " 'good beer open heart slavaukraini',\n",
       " 'president mr zelensky fantastic leader person many people certainly wish ha',\n",
       " 'ck em slavaukraini',\n",
       " 'joke foreign national fight go ukraine slavaukraini',\n",
       " 'pretty certain video post several day ago disprove video expl',\n",
       " 'elate u eu amp nato nation finally find ball cut kremlin financially weste',\n",
       " 'support ukraine stop war slavaukraini stoprussia stopputin putinwarcriminal nft nftcommunity',\n",
       " 'world slavaukraini',\n",
       " \"' notice say much ukraine input change thing ' totally aware cog\",\n",
       " 'verbeek iamcanadian standwithukriane slavaukraini crimeagainsthumanity world crisis',\n",
       " 'meet dems flight kyiv red bull happy talk gam',\n",
       " 'follow canada father family lviv area mother shewchuk',\n",
       " 'think big thing johnsonout hoyleout slavaukraini',\n",
       " 'powerful end programme tonight ukraine stopwarinukraine slavaukraini',\n",
       " 'cologne stand ukraine slavaukraini',\n",
       " 'soon torybrexitdisaster zerotories putinsbrexit slavaukraini',\n",
       " \"america lie ' deserve know truth please tell slavaukraini\",\n",
       " 'good memory odessa cool city full really nice people welcome u visitor hopefully th',\n",
       " 'true galvanize leader slavaukraini',\n",
       " 'stay strong kristina whole world guy slavaukraini',\n",
       " 'map democratic socialist people get bend slavaukraini',\n",
       " 'maybe gift turn around fire slavaukraini',\n",
       " \"brave people ukraine salute ' everything free world right slavaukraini\",\n",
       " 'citizen secure private platform slavaukraini',\n",
       " 'hero europe slavaukraini ukraine',\n",
       " 'good news take time prosecute slavaukraini putinisawarcriminal putputinontrial',\n",
       " 'ignore pig opportunist slavaukraini',\n",
       " 'well do ukraine ukraineinvasion istandwithukriane slavaukraini',\n",
       " 'proud part organization slavaukraini ukraine ukrainerussiawar ukrainewar ukraineinvasion',\n",
       " 'identify vulnerable russian site osint infosec ukraine netlas vulnerability',\n",
       " 'industrial hero slavaukraini',\n",
       " 'sulayem need back ukraine support ukraine ban russian belorussian motorsport',\n",
       " 'slavaukraini stand ukraine',\n",
       " 'mess war always belong invader eg bush kuwait putin ukraine slavaukraini',\n",
       " 'beautiful see people wrap ukrainian flag charlotte city council meet tonight',\n",
       " 'much love idea also need careful since russia easily exploit sneak',\n",
       " 'irc suspend post anti vaxx rubbish wif',\n",
       " 'people u support ukrainian people slavaukraini',\n",
       " 'glory people ukraine slavaukraini handsoffukraine russiagohome',\n",
       " 'guy attention seeker jump popular topic wake opinion use',\n",
       " 'nem let cross slavaukraini',\n",
       " 'hu nem let cross slavaukraini',\n",
       " 'may wake sunshine freedom slavaukraini',\n",
       " 'noteworthy first glimpse acceptable tactic russianarmy happy dis',\n",
       " 'unacceptable literal war crime ukraine ukrainerussiawar ukrainekrieg ukrainewar',\n",
       " 'nhl ovechkin leaf leaf like coach slapshot put bounty ovechkins head',\n",
       " 'defend ukrainian people first time life see far leave friend far right friend',\n",
       " \"dance putin must say ' badass dancer slavaukraini president zelensky fckputin\",\n",
       " 'optimist part brain admittedly small nowadays hope abandon surrender',\n",
       " 'many russian soldier need conquer ukraine dont know let find many die try solve']"
      ]
     },
     "execution_count": 19,
     "metadata": {},
     "output_type": "execute_result"
    }
   ],
   "source": [
    "# Inspect sample of tweets\n",
    "filter_cond = (tweets_df['year']==2022) & (tweets_df['month']==2)\n",
    "list(tweets_df['cleaned_tweet'][filter_cond][:100])"
   ]
  },
  {
   "cell_type": "code",
   "execution_count": 20,
   "id": "7997b5e9",
   "metadata": {
    "ExecuteTime": {
     "end_time": "2022-03-08T23:07:55.847465Z",
     "start_time": "2022-03-08T23:07:55.791176Z"
    }
   },
   "outputs": [
    {
     "data": {
      "text/plain": [
       "(14391, 10)"
      ]
     },
     "execution_count": 20,
     "metadata": {},
     "output_type": "execute_result"
    }
   ],
   "source": [
    "# Remove all tweets which do not have the words \"ukraine\" or \"russia\"\n",
    "target_tweets_df = tweets_df.copy()\n",
    "\n",
    "filter_words = ['ukraine', 'russia']\n",
    "target_tweets_df = target_tweets_df[target_tweets_df[\"cleaned_tweet\"].str.contains('|'.join(filter_words))]\n",
    "target_tweets_df.shape"
   ]
  },
  {
   "cell_type": "markdown",
   "id": "fa442921",
   "metadata": {},
   "source": [
    "## Embeddings"
   ]
  },
  {
   "cell_type": "code",
   "execution_count": 21,
   "id": "8e468224",
   "metadata": {
    "ExecuteTime": {
     "end_time": "2022-03-08T23:08:01.288315Z",
     "start_time": "2022-03-08T23:08:00.806979Z"
    }
   },
   "outputs": [
    {
     "data": {
      "text/plain": [
       "['russia',\n",
       " 'propaganda',\n",
       " 'twitter',\n",
       " 'attempt',\n",
       " 'diminish',\n",
       " 'everything',\n",
       " 'ukraine',\n",
       " 'fight',\n",
       " 'spread_lie',\n",
       " 'mi']"
      ]
     },
     "execution_count": 21,
     "metadata": {},
     "output_type": "execute_result"
    }
   ],
   "source": [
    "# Converting the \"clean_text\" column in the format supported by embeddings.\n",
    "sent = [row for row in tweets_df[\"clean_tweet\"]]\n",
    "\n",
    "# Automatically detect common phrases (bigrams) from a list of sentences.\n",
    "phrases = Phrases(sent, min_count=1, progress_per=50000)\n",
    "bigram = Phraser(phrases)\n",
    "sentences = bigram[sent]\n",
    "sentences[1]"
   ]
  },
  {
   "cell_type": "code",
   "execution_count": 22,
   "id": "835e5575",
   "metadata": {
    "ExecuteTime": {
     "end_time": "2022-03-08T23:08:02.735805Z",
     "start_time": "2022-03-08T23:08:02.398078Z"
    }
   },
   "outputs": [],
   "source": [
    "# Initialize vector model\n",
    "\n",
    "w2v_model = Word2Vec(min_count=4,\n",
    "                     window=5,\n",
    "                     vector_size =300,\n",
    "                     sample=1e-5, \n",
    "                     alpha=0.03, \n",
    "                     min_alpha=0.0007, \n",
    "                     negative=20,\n",
    "                     seed= 42,\n",
    "                     workers=multiprocessing.cpu_count()-1)"
   ]
  },
  {
   "cell_type": "code",
   "execution_count": 23,
   "id": "d70f40f5",
   "metadata": {},
   "outputs": [],
   "source": [
    "# Build vocab of the word2vec model from the custom data\n",
    "w2v_model.build_vocab(sentences, progress_per=50000)"
   ]
  },
  {
   "cell_type": "code",
   "execution_count": 24,
   "id": "984ebb82",
   "metadata": {
    "ExecuteTime": {
     "end_time": "2022-03-08T23:08:14.532832Z",
     "start_time": "2022-03-08T23:08:06.359664Z"
    }
   },
   "outputs": [
    {
     "data": {
      "text/plain": [
       "(1309045, 6445980)"
      ]
     },
     "execution_count": 24,
     "metadata": {},
     "output_type": "execute_result"
    }
   ],
   "source": [
    "# Train the model\n",
    "w2v_model.train(sentences, \n",
    "                total_examples=w2v_model.corpus_count, \n",
    "                epochs=30, \n",
    "                report_delay=1)"
   ]
  },
  {
   "cell_type": "code",
   "execution_count": 25,
   "id": "4ceb42bb",
   "metadata": {
    "ExecuteTime": {
     "end_time": "2022-03-08T23:08:34.537280Z",
     "start_time": "2022-03-08T23:08:34.527924Z"
    }
   },
   "outputs": [
    {
     "data": {
      "text/plain": [
       "[('new_york', 0.99955815076828),\n",
       " ('chicken', 0.999544620513916),\n",
       " ('difficult_time', 0.9995445609092712),\n",
       " ('south_africa', 0.9995366930961609),\n",
       " ('except', 0.9995364546775818),\n",
       " ('simply', 0.9995362162590027),\n",
       " ('act', 0.999535858631134),\n",
       " ('europe', 0.9995341300964355),\n",
       " ('one', 0.9995339512825012),\n",
       " ('face', 0.9995315074920654)]"
      ]
     },
     "execution_count": 25,
     "metadata": {},
     "output_type": "execute_result"
    }
   ],
   "source": [
    "# Check similar words to war in the corpus\n",
    "w2v_model.wv.most_similar(positive=[\"war\"])"
   ]
  },
  {
   "cell_type": "code",
   "execution_count": 26,
   "id": "3a1922d1",
   "metadata": {},
   "outputs": [],
   "source": [
    "# Save the word2vec model\n",
    "# w2v_model.save(\"../models/word2vec.model\")"
   ]
  },
  {
   "cell_type": "code",
   "execution_count": 27,
   "id": "fb6d23fe",
   "metadata": {},
   "outputs": [],
   "source": [
    "# Load the word2vec model\n",
    "# word_vectors = Word2Vec.load(\"../models/word2vec.model\").wv\n",
    "word_vectors = w2v_model.wv"
   ]
  },
  {
   "cell_type": "markdown",
   "id": "72035b17",
   "metadata": {},
   "source": [
    "## Clustering model"
   ]
  },
  {
   "cell_type": "code",
   "execution_count": 28,
   "id": "806f28d5",
   "metadata": {
    "ExecuteTime": {
     "end_time": "2022-03-08T23:08:42.072634Z",
     "start_time": "2022-03-08T23:08:39.974637Z"
    }
   },
   "outputs": [],
   "source": [
    "# Feed the embeddings to a KMeans model to cluster words into positive, negative, and neutral clusters\n",
    "cluster_model = KMeans(n_clusters=3, \n",
    "               max_iter=1000, \n",
    "               random_state=42, \n",
    "               n_init=50).fit(X=word_vectors.vectors.astype('double'))"
   ]
  },
  {
   "cell_type": "code",
   "execution_count": 29,
   "id": "6ac39284",
   "metadata": {},
   "outputs": [
    {
     "data": {
      "text/plain": [
       "[('russia_lapresse', 0.017149033024907112),\n",
       " ('neverwherdle', -0.1091218814253807),\n",
       " ('arrest_putin', -0.9836624264717102),\n",
       " ('action_ukrainestands', -0.9849017858505249),\n",
       " ('hetbo', -0.9863110780715942),\n",
       " ('world_depend', -0.9868490099906921),\n",
       " ('day_brave', -0.9872220754623413),\n",
       " ('russia_save', -0.9876988530158997),\n",
       " ('nobel_peace', -0.9884894490242004),\n",
       " ('zelenskiy_invite', -0.9888178110122681)]"
      ]
     },
     "execution_count": 29,
     "metadata": {},
     "output_type": "execute_result"
    }
   ],
   "source": [
    "word_vectors.most_similar(negative=['bad', 'suffer', 'bomb'])"
   ]
  },
  {
   "cell_type": "code",
   "execution_count": null,
   "id": "2bb9af02",
   "metadata": {},
   "outputs": [],
   "source": []
  },
  {
   "cell_type": "code",
   "execution_count": 30,
   "id": "b9266870",
   "metadata": {},
   "outputs": [
    {
     "name": "stdout",
     "output_type": "stream",
     "text": [
      "Cluster 0\t\t\tCluster 1\t\t\tCluster 2\n",
      "---------\t\t\t---------\t\t\t---------\n",
      "0: give_hell - (0.99984)\t\tgive_hell - (0.99983)\t\tgive_hell - (0.99984)\n",
      "1: beat - (0.99984)\t\tdeclare - (0.99983)\t\tbeat - (0.99984)\n",
      "2: mood - (0.99983)\t\tmood - (0.99983)\t\tmight - (0.99983)\n",
      "3: might - (0.99983)\t\tstopputinnow_stoprussia - (0.99983)\t\tmood - (0.99983)\n",
      "4: stopputinnow_stoprussia - (0.99983)\t\tnew_zealand - (0.99983)\t\tsuggest - (0.99983)\n",
      "5: likely - (0.99983)\t\tbeat - (0.99983)\t\twhole - (0.99983)\n",
      "6: declare - (0.99983)\t\tpl - (0.99983)\t\tlikely - (0.99983)\n",
      "7: whole - (0.99983)\t\tamerica - (0.99982)\t\tdeclare - (0.99983)\n",
      "8: ministry_defense - (0.99983)\t\tdefendukraine - (0.99982)\t\ttexas - (0.99983)\n",
      "9: texas - (0.99983)\t\tcentre - (0.99982)\t\tsc - (0.99983)\n",
      "10: sc - (0.99983)\t\tmight - (0.99982)\t\tstopputinnow_stoprussia - (0.99983)\n",
      "11: suggest - (0.99983)\t\tsuggest - (0.99982)\t\tamerica - (0.99983)\n",
      "12: america - (0.99983)\t\tfamous - (0.99982)\t\tnew_zealand - (0.99983)\n",
      "13: ukrainecrisis - (0.99983)\t\tministry_defense - (0.99982)\t\tinstitute - (0.99983)\n",
      "14: institute - (0.99983)\t\tsc - (0.99982)\t\tsafety - (0.99983)\n",
      "15: new_zealand - (0.99983)\t\tvladimir_vladimirovich - (0.99982)\t\tministry_defense - (0.99983)\n",
      "16: sotu - (0.99983)\t\tukrainecrisis - (0.99982)\t\tukrainecrisis - (0.99983)\n",
      "17: shit - (0.99983)\t\tnever_forget - (0.99982)\t\tsotu - (0.99983)\n",
      "18: week - (0.99983)\t\taccurate - (0.99982)\t\tshit - (0.99983)\n",
      "19: quick - (0.99983)\t\tespecially - (0.99982)\t\tbelong - (0.99983)\n"
     ]
    }
   ],
   "source": [
    "cluster_values = zip(word_vectors.similar_by_vector(cluster_model.cluster_centers_[0], \n",
    "                                                        topn=20, \n",
    "                                                        restrict_vocab=None),\n",
    "    word_vectors.similar_by_vector(cluster_model.cluster_centers_[1], \n",
    "                                                        topn=20, \n",
    "                                                        restrict_vocab=None),\n",
    "    word_vectors.similar_by_vector(cluster_model.cluster_centers_[2], \n",
    "                                                        topn=20, \n",
    "                                                        restrict_vocab=None))\n",
    "\n",
    "print('Cluster 0\\t\\t\\tCluster 1\\t\\t\\tCluster 2')\n",
    "print('---------\\t\\t\\t---------\\t\\t\\t---------')\n",
    "for i, (c1, c2, c3) in enumerate(cluster_values):\n",
    "    print(f'{i}: {c1[0]} - ({str(c1[1])[:7]})\\t\\t{c2[0]} - ({str(c2[1])[:7]})\\t\\t{c3[0]} - ({str(c3[1])[:7]})')\n"
   ]
  },
  {
   "cell_type": "code",
   "execution_count": 31,
   "id": "a5718728",
   "metadata": {},
   "outputs": [],
   "source": [
    "test = list(cluster_values)"
   ]
  },
  {
   "cell_type": "code",
   "execution_count": 32,
   "id": "57710895",
   "metadata": {
    "ExecuteTime": {
     "end_time": "2022-03-08T23:08:42.963070Z",
     "start_time": "2022-03-08T23:08:42.944624Z"
    }
   },
   "outputs": [
    {
     "name": "stdout",
     "output_type": "stream",
     "text": [
      "0: give_hell - (0.999846339225769)\n",
      "1: beat - (0.999841570854187)\n",
      "2: mood - (0.9998394846916199)\n",
      "3: might - (0.9998388290405273)\n",
      "4: stopputinnow_stoprussia - (0.9998387098312378)\n",
      "5: likely - (0.9998365640640259)\n",
      "6: declare - (0.9998364448547363)\n",
      "7: whole - (0.9998363256454468)\n",
      "8: ministry_defense - (0.9998355507850647)\n",
      "9: texas - (0.9998349547386169)\n",
      "10: sc - (0.9998340010643005)\n",
      "11: suggest - (0.9998338222503662)\n",
      "12: america - (0.9998330473899841)\n",
      "13: ukrainecrisis - (0.9998329877853394)\n",
      "14: institute - (0.9998329281806946)\n",
      "15: new_zealand - (0.9998326301574707)\n",
      "16: sotu - (0.9998317360877991)\n",
      "17: shit - (0.9998316168785095)\n",
      "18: week - (0.9998311996459961)\n",
      "19: quick - (0.9998311400413513)\n",
      "\n",
      "\n",
      "[('give_hell', 0.9998352527618408), ('declare', 0.9998336434364319), ('mood', 0.9998331665992737), ('stopputinnow_stoprussia', 0.9998331069946289), ('new_zealand', 0.9998327493667603), ('beat', 0.9998321533203125), ('pl', 0.9998312592506409), ('america', 0.9998296499252319), ('defendukraine', 0.9998293519020081), ('centre', 0.9998292922973633), ('might', 0.9998285174369812), ('suggest', 0.9998283982276917), ('famous', 0.9998283386230469), ('ministry_defense', 0.9998282194137573), ('sc', 0.9998281002044678), ('vladimir_vladimirovich', 0.9998276829719543), ('ukrainecrisis', 0.9998272657394409), ('never_forget', 0.9998271465301514), ('accurate', 0.9998267292976379), ('especially', 0.9998262524604797)]\n",
      "\n",
      "[('give_hell', 0.999846875667572), ('beat', 0.9998429417610168), ('might', 0.9998396635055542), ('mood', 0.9998394846916199), ('suggest', 0.9998371005058289), ('whole', 0.9998370409011841), ('likely', 0.9998369216918945), ('declare', 0.9998361468315125), ('texas', 0.9998353719711304), ('sc', 0.9998341798782349), ('stopputinnow_stoprussia', 0.9998341202735901), ('america', 0.9998341202735901), ('new_zealand', 0.9998340606689453), ('institute', 0.9998335838317871), ('safety', 0.9998332858085632), ('ministry_defense', 0.9998331069946289), ('ukrainecrisis', 0.9998330473899841), ('sotu', 0.9998329281806946), ('shit', 0.9998329281806946), ('belong', 0.9998326301574707)]\n"
     ]
    }
   ],
   "source": [
    "# Check each cluster to label the clusters\n",
    "for i, (word, vector) in enumerate(word_vectors.similar_by_vector(cluster_model.cluster_centers_[0], \n",
    "                                                        topn=20, \n",
    "                                                        restrict_vocab=None)):\n",
    "\n",
    "    print(f'{i}: {word} - ({vector})')\n",
    "\n",
    "print()\n",
    "print()\n",
    "print(word_vectors.similar_by_vector(cluster_model.cluster_centers_[1], \n",
    "                               topn=20, \n",
    "                               restrict_vocab=None))\n",
    "print()\n",
    "print(word_vectors.similar_by_vector(cluster_model.cluster_centers_[2], \n",
    "                               topn=20, \n",
    "                               restrict_vocab=None))"
   ]
  },
  {
   "cell_type": "code",
   "execution_count": null,
   "id": "68cc8932",
   "metadata": {},
   "outputs": [],
   "source": []
  },
  {
   "cell_type": "code",
   "execution_count": 33,
   "id": "e2d122bf",
   "metadata": {},
   "outputs": [
    {
     "name": "stdout",
     "output_type": "stream",
     "text": [
      "[('give_hell', 0.999846339225769), ('beat', 0.999841570854187), ('mood', 0.9998394846916199), ('might', 0.9998388290405273), ('stopputinnow_stoprussia', 0.9998387098312378), ('likely', 0.9998365640640259), ('declare', 0.9998364448547363), ('whole', 0.9998363256454468), ('ministry_defense', 0.9998355507850647), ('texas', 0.9998349547386169)]\n"
     ]
    }
   ],
   "source": [
    "temp = word_vectors.similar_by_vector(cluster_model.cluster_centers_[0], \n",
    "                               topn=10, \n",
    "                               restrict_vocab=None)\n",
    "\n",
    "print(temp)"
   ]
  },
  {
   "cell_type": "code",
   "execution_count": 34,
   "id": "a4f1434d",
   "metadata": {},
   "outputs": [
    {
     "data": {
      "text/plain": [
       "[('assault', 0.9997616410255432),\n",
       " ('grave', 0.9997482895851135),\n",
       " ('donation', 0.9997475147247314),\n",
       " ('towards', 0.9997459650039673),\n",
       " ('fascinate', 0.9997448325157166),\n",
       " ('short', 0.9997443556785583),\n",
       " ('give_hell', 0.9997431039810181),\n",
       " ('honour', 0.9997425675392151),\n",
       " ('wit', 0.9997418522834778),\n",
       " ('savage', 0.9997410774230957)]"
      ]
     },
     "execution_count": 34,
     "metadata": {},
     "output_type": "execute_result"
    }
   ],
   "source": [
    "word_vectors.most_similar(positive=['slava', 'slavaukraine'], restrict_vocab=False)"
   ]
  },
  {
   "cell_type": "code",
   "execution_count": 35,
   "id": "7a34b3be",
   "metadata": {},
   "outputs": [
    {
     "data": {
      "text/plain": [
       "[('assault', 0.9997029304504395),\n",
       " ('proud_country', 0.9996891021728516),\n",
       " ('without', 0.9996870756149292),\n",
       " ('mess', 0.9996832609176636),\n",
       " ('inflict', 0.9996815919876099),\n",
       " ('stopwar_stopputinnow', 0.9996803998947144),\n",
       " ('horrify', 0.9996796250343323),\n",
       " ('mi', 0.9996785521507263),\n",
       " ('school', 0.9996755719184875),\n",
       " ('website', 0.9996746778488159)]"
      ]
     },
     "execution_count": 35,
     "metadata": {},
     "output_type": "execute_result"
    }
   ],
   "source": [
    "word_vectors.similar_by_word('suffer', restrict_vocab=False)"
   ]
  },
  {
   "cell_type": "code",
   "execution_count": 36,
   "id": "d71953c6",
   "metadata": {},
   "outputs": [
    {
     "data": {
      "text/plain": [
       "[('russia_lapresse', 0.015198283828794956),\n",
       " ('neverwherdle', -0.10944555699825287),\n",
       " ('arrest_putin', -0.9834212064743042),\n",
       " ('action_ukrainestands', -0.9847651720046997),\n",
       " ('day_brave', -0.9858996868133545),\n",
       " ('hetbo', -0.986076295375824),\n",
       " ('world_depend', -0.9866771101951599),\n",
       " ('russia_save', -0.9874927401542664),\n",
       " ('nobel_peace', -0.9880840182304382),\n",
       " ('ukranian_woman', -0.9881120920181274)]"
      ]
     },
     "execution_count": 36,
     "metadata": {},
     "output_type": "execute_result"
    }
   ],
   "source": [
    "word_vectors.most_similar(negative=['death', 'suffer'], positive=['freedom'], restrict_vocab=False)"
   ]
  },
  {
   "cell_type": "code",
   "execution_count": 37,
   "id": "1745e4bb",
   "metadata": {
    "ExecuteTime": {
     "end_time": "2022-03-08T23:08:47.746050Z",
     "start_time": "2022-03-08T23:08:47.742571Z"
    }
   },
   "outputs": [],
   "source": [
    "# Label the clusters based on the type of words they carry\n",
    "positive_cluster_center = cluster_model.cluster_centers_[2]\n",
    "negative_cluster_center = cluster_model.cluster_centers_[1]\n",
    "neutral_cluster_center= cluster_model.cluster_centers_[0]"
   ]
  },
  {
   "cell_type": "code",
   "execution_count": 38,
   "id": "77cd075b",
   "metadata": {
    "ExecuteTime": {
     "end_time": "2022-03-08T23:08:50.910260Z",
     "start_time": "2022-03-08T23:08:48.982560Z"
    }
   },
   "outputs": [],
   "source": [
    "# Create a DataFrame of words with their embeddings and cluster values\n",
    "\n",
    "words = pd.DataFrame(word_vectors.index_to_key)\n",
    "words.columns = ['words']\n",
    "words['vectors'] = words.words.apply(lambda x: word_vectors[f'{x}'])\n",
    "words['cluster'] = words.vectors.apply(lambda x: cluster_model.predict([np.array(x)]))\n",
    "words.cluster = words.cluster.apply(lambda x: x[0])"
   ]
  },
  {
   "cell_type": "code",
   "execution_count": 39,
   "id": "c178c284",
   "metadata": {
    "ExecuteTime": {
     "end_time": "2022-03-08T23:08:52.897111Z",
     "start_time": "2022-03-08T23:08:51.959235Z"
    }
   },
   "outputs": [],
   "source": [
    "# Assign 1 to positive values, 0 to neutral and -1 for negative values\n",
    "words['cluster_value'] = [1 if i==2 else 0 if i==0 else -1 for i in words.cluster]\n",
    "words['closeness_score'] = words.apply(lambda x: 1/(cluster_model.transform([x.vectors]).min()), axis=1)"
   ]
  },
  {
   "cell_type": "code",
   "execution_count": null,
   "id": "3c67d6d3",
   "metadata": {},
   "outputs": [],
   "source": [
    "# Save word embeddings to file\n",
    "words.to_csv('../embeddings/words.csv')"
   ]
  },
  {
   "cell_type": "code",
   "execution_count": null,
   "id": "59861fdb",
   "metadata": {},
   "outputs": [],
   "source": [
    "# Load word embeddings\n",
    "# words = pd.read_csv('../embeddings/words.csv')"
   ]
  },
  {
   "cell_type": "markdown",
   "id": "4bc045f7",
   "metadata": {},
   "source": [
    "## Analysis"
   ]
  },
  {
   "cell_type": "code",
   "execution_count": 40,
   "id": "4ff184a4",
   "metadata": {
    "ExecuteTime": {
     "end_time": "2022-03-08T23:08:56.799268Z",
     "start_time": "2022-03-08T23:08:56.774204Z"
    }
   },
   "outputs": [
    {
     "data": {
      "text/html": [
       "<div>\n",
       "<style scoped>\n",
       "    .dataframe tbody tr th:only-of-type {\n",
       "        vertical-align: middle;\n",
       "    }\n",
       "\n",
       "    .dataframe tbody tr th {\n",
       "        vertical-align: top;\n",
       "    }\n",
       "\n",
       "    .dataframe thead th {\n",
       "        text-align: right;\n",
       "    }\n",
       "</style>\n",
       "<table border=\"1\" class=\"dataframe\">\n",
       "  <thead>\n",
       "    <tr style=\"text-align: right;\">\n",
       "      <th></th>\n",
       "      <th>words</th>\n",
       "      <th>vectors</th>\n",
       "      <th>cluster</th>\n",
       "      <th>cluster_value</th>\n",
       "      <th>closeness_score</th>\n",
       "    </tr>\n",
       "  </thead>\n",
       "  <tbody>\n",
       "    <tr>\n",
       "      <th>1274</th>\n",
       "      <td>russia_lapresse</td>\n",
       "      <td>[-0.0030669873, -0.0011541379, 0.0016483144, 0...</td>\n",
       "      <td>1</td>\n",
       "      <td>-1</td>\n",
       "      <td>0.596188</td>\n",
       "    </tr>\n",
       "    <tr>\n",
       "      <th>4190</th>\n",
       "      <td>neverwherdle</td>\n",
       "      <td>[-0.0010240778, -0.001838458, -0.001678642, 0....</td>\n",
       "      <td>1</td>\n",
       "      <td>-1</td>\n",
       "      <td>0.597617</td>\n",
       "    </tr>\n",
       "    <tr>\n",
       "      <th>5659</th>\n",
       "      <td>wow_amaze</td>\n",
       "      <td>[-0.0014745627, -0.02496887, 0.03401748, -0.01...</td>\n",
       "      <td>1</td>\n",
       "      <td>-1</td>\n",
       "      <td>1.576472</td>\n",
       "    </tr>\n",
       "    <tr>\n",
       "      <th>5006</th>\n",
       "      <td>access_point</td>\n",
       "      <td>[9.87738e-05, -0.027309967, 0.03696047, -0.012...</td>\n",
       "      <td>1</td>\n",
       "      <td>-1</td>\n",
       "      <td>1.606168</td>\n",
       "    </tr>\n",
       "    <tr>\n",
       "      <th>5161</th>\n",
       "      <td>freedom_priceless</td>\n",
       "      <td>[0.00021349725, -0.03168649, 0.036236763, -0.0...</td>\n",
       "      <td>1</td>\n",
       "      <td>-1</td>\n",
       "      <td>1.775245</td>\n",
       "    </tr>\n",
       "    <tr>\n",
       "      <th>...</th>\n",
       "      <td>...</td>\n",
       "      <td>...</td>\n",
       "      <td>...</td>\n",
       "      <td>...</td>\n",
       "      <td>...</td>\n",
       "    </tr>\n",
       "    <tr>\n",
       "      <th>5602</th>\n",
       "      <td>anonymus</td>\n",
       "      <td>[0.0054338505, -0.04154355, 0.051320817, -0.02...</td>\n",
       "      <td>1</td>\n",
       "      <td>-1</td>\n",
       "      <td>28.400244</td>\n",
       "    </tr>\n",
       "    <tr>\n",
       "      <th>4883</th>\n",
       "      <td>bulletproof</td>\n",
       "      <td>[0.0034457701, -0.04493488, 0.052139074, -0.02...</td>\n",
       "      <td>1</td>\n",
       "      <td>-1</td>\n",
       "      <td>28.404586</td>\n",
       "    </tr>\n",
       "    <tr>\n",
       "      <th>4165</th>\n",
       "      <td>classy</td>\n",
       "      <td>[0.0018500802, -0.040727176, 0.057783566, -0.0...</td>\n",
       "      <td>1</td>\n",
       "      <td>-1</td>\n",
       "      <td>28.504986</td>\n",
       "    </tr>\n",
       "    <tr>\n",
       "      <th>5782</th>\n",
       "      <td>maker</td>\n",
       "      <td>[-0.00030913754, -0.04606298, 0.056014825, -0....</td>\n",
       "      <td>1</td>\n",
       "      <td>-1</td>\n",
       "      <td>28.567127</td>\n",
       "    </tr>\n",
       "    <tr>\n",
       "      <th>4362</th>\n",
       "      <td>healthy_happy</td>\n",
       "      <td>[0.00043131868, -0.04488285, 0.05765671, -0.02...</td>\n",
       "      <td>1</td>\n",
       "      <td>-1</td>\n",
       "      <td>29.914222</td>\n",
       "    </tr>\n",
       "  </tbody>\n",
       "</table>\n",
       "<p>589 rows × 5 columns</p>\n",
       "</div>"
      ],
      "text/plain": [
       "                  words                                            vectors  \\\n",
       "1274    russia_lapresse  [-0.0030669873, -0.0011541379, 0.0016483144, 0...   \n",
       "4190       neverwherdle  [-0.0010240778, -0.001838458, -0.001678642, 0....   \n",
       "5659          wow_amaze  [-0.0014745627, -0.02496887, 0.03401748, -0.01...   \n",
       "5006       access_point  [9.87738e-05, -0.027309967, 0.03696047, -0.012...   \n",
       "5161  freedom_priceless  [0.00021349725, -0.03168649, 0.036236763, -0.0...   \n",
       "...                 ...                                                ...   \n",
       "5602           anonymus  [0.0054338505, -0.04154355, 0.051320817, -0.02...   \n",
       "4883        bulletproof  [0.0034457701, -0.04493488, 0.052139074, -0.02...   \n",
       "4165             classy  [0.0018500802, -0.040727176, 0.057783566, -0.0...   \n",
       "5782              maker  [-0.00030913754, -0.04606298, 0.056014825, -0....   \n",
       "4362      healthy_happy  [0.00043131868, -0.04488285, 0.05765671, -0.02...   \n",
       "\n",
       "      cluster  cluster_value  closeness_score  \n",
       "1274        1             -1         0.596188  \n",
       "4190        1             -1         0.597617  \n",
       "5659        1             -1         1.576472  \n",
       "5006        1             -1         1.606168  \n",
       "5161        1             -1         1.775245  \n",
       "...       ...            ...              ...  \n",
       "5602        1             -1        28.400244  \n",
       "4883        1             -1        28.404586  \n",
       "4165        1             -1        28.504986  \n",
       "5782        1             -1        28.567127  \n",
       "4362        1             -1        29.914222  \n",
       "\n",
       "[589 rows x 5 columns]"
      ]
     },
     "execution_count": 40,
     "metadata": {},
     "output_type": "execute_result"
    }
   ],
   "source": [
    "# Display negative values\n",
    "words[words[\"cluster_value\"]==-1].sort_values(\"closeness_score\")"
   ]
  },
  {
   "cell_type": "code",
   "execution_count": 41,
   "id": "008fa57c",
   "metadata": {
    "ExecuteTime": {
     "end_time": "2022-03-08T23:09:00.647016Z",
     "start_time": "2022-03-08T23:09:00.512129Z"
    }
   },
   "outputs": [
    {
     "data": {
      "image/png": "[encoded data removed]",
      "text/plain": [
       "<Figure size 504x504 with 1 Axes>"
      ]
     },
     "metadata": {},
     "output_type": "display_data"
    },
    {
     "data": {
      "text/html": [
       "<div>\n",
       "<style scoped>\n",
       "    .dataframe tbody tr th:only-of-type {\n",
       "        vertical-align: middle;\n",
       "    }\n",
       "\n",
       "    .dataframe tbody tr th {\n",
       "        vertical-align: top;\n",
       "    }\n",
       "\n",
       "    .dataframe thead th {\n",
       "        text-align: right;\n",
       "    }\n",
       "</style>\n",
       "<table border=\"1\" class=\"dataframe\">\n",
       "  <thead>\n",
       "    <tr style=\"text-align: right;\">\n",
       "      <th></th>\n",
       "      <th>index</th>\n",
       "      <th>sentiments</th>\n",
       "    </tr>\n",
       "  </thead>\n",
       "  <tbody>\n",
       "    <tr>\n",
       "      <th>0</th>\n",
       "      <td>positive</td>\n",
       "      <td>3701</td>\n",
       "    </tr>\n",
       "    <tr>\n",
       "      <th>1</th>\n",
       "      <td>neutral</td>\n",
       "      <td>1706</td>\n",
       "    </tr>\n",
       "    <tr>\n",
       "      <th>2</th>\n",
       "      <td>negative</td>\n",
       "      <td>589</td>\n",
       "    </tr>\n",
       "  </tbody>\n",
       "</table>\n",
       "</div>"
      ],
      "text/plain": [
       "      index  sentiments\n",
       "0  positive        3701\n",
       "1   neutral        1706\n",
       "2  negative         589"
      ]
     },
     "execution_count": 41,
     "metadata": {},
     "output_type": "execute_result"
    }
   ],
   "source": [
    "# Plot pie chart of Sentiment Distribution of words\n",
    "emotion = {\n",
    "        0: \"neutral\",\n",
    "        1: \"positive\",\n",
    "        -1: \"negative\"\n",
    "}\n",
    "\n",
    "words[\"sentiments\"] = words[\"cluster_value\"].map(emotion)\n",
    "\n",
    "fig = plt.gcf()\n",
    "fig.set_size_inches(7,7)\n",
    "colors = [\"cyan\",\"pink\",\"yellow\"]\n",
    "\n",
    "words_df_pie = words[\"sentiments\"].value_counts().reset_index()\n",
    "\n",
    "plt.pie(words_df_pie[\"sentiments\"],\n",
    "        labels=words_df_pie[\"index\"],\n",
    "        radius=2,\n",
    "        colors=colors,\n",
    "        autopct=\"%1.1f%%\")\n",
    "\n",
    "plt.axis('equal')\n",
    "plt.title(\"Sentiment Distribution of Words\", fontsize=20)\n",
    "plt.show()\n",
    "words_df_pie"
   ]
  },
  {
   "cell_type": "code",
   "execution_count": 42,
   "id": "6c02f3c8",
   "metadata": {
    "ExecuteTime": {
     "end_time": "2022-03-08T23:09:04.902246Z",
     "start_time": "2022-03-08T23:09:04.898135Z"
    }
   },
   "outputs": [],
   "source": [
    "# Define a function to get the sentiment for the entire tweet\n",
    "def getSentiments(row, sentiment_dict):\n",
    "\n",
    "    total=0\n",
    "    count=0\n",
    "    test = row[\"clean_tweet\"]\n",
    "    for t in test:\n",
    "        if words_cluster_dict.get(t):\n",
    "            total+=int(sentiment_dict.get(t))\n",
    "        count+=1 \n",
    "        \n",
    "    avg = total / count\n",
    "    return -1 if (avg < -0.15) else 1 if (avg > 0.15) else 0"
   ]
  },
  {
   "cell_type": "code",
   "execution_count": 43,
   "id": "c7c06983",
   "metadata": {
    "ExecuteTime": {
     "end_time": "2022-03-08T23:09:06.364299Z",
     "start_time": "2022-03-08T23:09:06.359522Z"
    }
   },
   "outputs": [],
   "source": [
    "# Create a dictionary of the word and its cluster value\n",
    "words_cluster_dict = dict(zip(words.words, words.cluster_value))"
   ]
  },
  {
   "cell_type": "code",
   "execution_count": 44,
   "id": "49e2464f",
   "metadata": {
    "ExecuteTime": {
     "end_time": "2022-03-08T23:09:07.712484Z",
     "start_time": "2022-03-08T23:09:07.559199Z"
    }
   },
   "outputs": [],
   "source": [
    "# Add sentiment column\n",
    "target_tweets_df[\"sentiment\"] = target_tweets_df.apply(getSentiments,\n",
    "                                                         args=(words_cluster_dict,),\n",
    "                                                         axis=1)"
   ]
  },
  {
   "cell_type": "code",
   "execution_count": 45,
   "id": "1f0122b3",
   "metadata": {
    "ExecuteTime": {
     "end_time": "2022-03-08T23:09:09.687625Z",
     "start_time": "2022-03-08T23:09:09.677931Z"
    }
   },
   "outputs": [
    {
     "data": {
      "text/plain": [
       " 1    14331\n",
       " 0       59\n",
       "-1        1\n",
       "Name: sentiment, dtype: int64"
      ]
     },
     "execution_count": 45,
     "metadata": {},
     "output_type": "execute_result"
    }
   ],
   "source": [
    "# Check the value counts of each sentiment\n",
    "target_tweets_df[\"sentiment\"].value_counts()"
   ]
  },
  {
   "cell_type": "code",
   "execution_count": 46,
   "id": "2f7caef2",
   "metadata": {
    "ExecuteTime": {
     "end_time": "2022-03-08T23:09:11.398788Z",
     "start_time": "2022-03-08T23:09:11.295335Z"
    }
   },
   "outputs": [
    {
     "data": {
      "image/png": "[encoded data removed]",
      "text/plain": [
       "<Figure size 504x504 with 1 Axes>"
      ]
     },
     "metadata": {},
     "output_type": "display_data"
    },
    {
     "data": {
      "text/html": [
       "<div>\n",
       "<style scoped>\n",
       "    .dataframe tbody tr th:only-of-type {\n",
       "        vertical-align: middle;\n",
       "    }\n",
       "\n",
       "    .dataframe tbody tr th {\n",
       "        vertical-align: top;\n",
       "    }\n",
       "\n",
       "    .dataframe thead th {\n",
       "        text-align: right;\n",
       "    }\n",
       "</style>\n",
       "<table border=\"1\" class=\"dataframe\">\n",
       "  <thead>\n",
       "    <tr style=\"text-align: right;\">\n",
       "      <th></th>\n",
       "      <th>index</th>\n",
       "      <th>sentiments_val</th>\n",
       "    </tr>\n",
       "  </thead>\n",
       "  <tbody>\n",
       "    <tr>\n",
       "      <th>0</th>\n",
       "      <td>positive</td>\n",
       "      <td>14331</td>\n",
       "    </tr>\n",
       "    <tr>\n",
       "      <th>1</th>\n",
       "      <td>neutral</td>\n",
       "      <td>59</td>\n",
       "    </tr>\n",
       "    <tr>\n",
       "      <th>2</th>\n",
       "      <td>negative</td>\n",
       "      <td>1</td>\n",
       "    </tr>\n",
       "  </tbody>\n",
       "</table>\n",
       "</div>"
      ],
      "text/plain": [
       "      index  sentiments_val\n",
       "0  positive           14331\n",
       "1   neutral              59\n",
       "2  negative               1"
      ]
     },
     "execution_count": 46,
     "metadata": {},
     "output_type": "execute_result"
    }
   ],
   "source": [
    "# Plotting pie chart of Sentiment Distribution of tweets\n",
    "emotion = {\n",
    "        0: \"neutral\",\n",
    "        1: \"positive\",\n",
    "        -1: \"negative\"\n",
    "}\n",
    "\n",
    "target_tweets_df[\"sentiments_val\"] = target_tweets_df[\"sentiment\"].map(emotion)\n",
    "\n",
    "fig = plt.gcf()\n",
    "fig.set_size_inches(7,7)\n",
    "colors = [\"yellow\",\"cyan\",\"pink\"]\n",
    "\n",
    "tweets_df_pie = target_tweets_df[\"sentiments_val\"].value_counts().reset_index()\n",
    "\n",
    "plt.pie(tweets_df_pie[\"sentiments_val\"],\n",
    "        labels=tweets_df_pie[\"index\"],\n",
    "        radius=2,\n",
    "        autopct=\"%1.1f%%\",\n",
    "        colors=colors)\n",
    "\n",
    "plt.axis('equal')\n",
    "plt.title(\"Sentiment Distribution of Tweets \", fontsize=20)\n",
    "plt.show()\n",
    "tweets_df_pie"
   ]
  },
  {
   "cell_type": "code",
   "execution_count": null,
   "id": "ce1c91af",
   "metadata": {},
   "outputs": [],
   "source": [
    "# Save sentiment df\n",
    "target_tweets_df.to_csv('../data/slava_ukraini_tweets_sentiment.csv')"
   ]
  },
  {
   "cell_type": "code",
   "execution_count": 47,
   "id": "a7184ec1",
   "metadata": {
    "ExecuteTime": {
     "end_time": "2022-03-08T23:09:19.581909Z",
     "start_time": "2022-03-08T23:09:19.572587Z"
    }
   },
   "outputs": [],
   "source": [
    "# Extract negative sentiments\n",
    "negative_tweets_df = target_tweets_df[target_tweets_df[\"sentiment\"]==-1]"
   ]
  },
  {
   "cell_type": "code",
   "execution_count": 48,
   "id": "d1bec240",
   "metadata": {
    "ExecuteTime": {
     "end_time": "2022-03-08T23:09:20.557891Z",
     "start_time": "2022-03-08T23:09:20.550246Z"
    }
   },
   "outputs": [
    {
     "data": {
      "text/plain": [
       "[]"
      ]
     },
     "execution_count": 48,
     "metadata": {},
     "output_type": "execute_result"
    }
   ],
   "source": [
    "# Inspect the cause of negative tweets\n",
    "filter_cond = (target_tweets_df['year']==2022) & (target_tweets_df['month']==2)\n",
    "list(negative_tweets_df['cleaned_tweet'][filter_cond])"
   ]
  },
  {
   "cell_type": "code",
   "execution_count": 49,
   "id": "de1bf6e2",
   "metadata": {
    "ExecuteTime": {
     "end_time": "2022-03-08T23:09:21.949980Z",
     "start_time": "2022-03-08T23:09:21.944400Z"
    }
   },
   "outputs": [
    {
     "data": {
      "text/plain": [
       "[]"
      ]
     },
     "execution_count": 49,
     "metadata": {},
     "output_type": "execute_result"
    }
   ],
   "source": [
    "# Trim for sample of negative tweets\n",
    "list(negative_tweets_df[\"cleaned_tweet\"][300:330])"
   ]
  },
  {
   "cell_type": "markdown",
   "id": "00a6a030",
   "metadata": {},
   "source": [
    "## Visualization"
   ]
  },
  {
   "cell_type": "code",
   "execution_count": 50,
   "id": "5e16a956",
   "metadata": {
    "ExecuteTime": {
     "end_time": "2022-03-08T23:09:24.155639Z",
     "start_time": "2022-03-08T23:09:24.031642Z"
    }
   },
   "outputs": [
    {
     "data": {
      "image/png": "[encoded data removed]",
      "text/plain": [
       "<Figure size 460.8x403.2 with 1 Axes>"
      ]
     },
     "metadata": {},
     "output_type": "display_data"
    }
   ],
   "source": [
    "# Inspect keyword sentiment\n",
    "selections = ['slava', 'zelensky', 'volodimir']\n",
    "\n",
    "keyword_sent_df = target_tweets_df[(target_tweets_df[\"cleaned_tweet\"].str.contains('|'.join(selections)))]\n",
    "sns.countplot(x=keyword_sent_df[\"sentiments_val\"]);"
   ]
  },
  {
   "cell_type": "code",
   "execution_count": null,
   "id": "6cca59ea",
   "metadata": {
    "ExecuteTime": {
     "end_time": "2022-03-08T23:09:25.387014Z",
     "start_time": "2022-03-08T23:09:25.278499Z"
    }
   },
   "outputs": [],
   "source": [
    "# Inspect ukraine sentiment\n",
    "selections = [\"ukraine\"]\n",
    "\n",
    "keyword_sent_df = target_tweets_df[(target_tweets_df[\"cleaned_tweet\"].str.contains('|'.join(selections)))]\n",
    "sns.countplot(x = keyword_sent_df[\"sentiments_val\"]);"
   ]
  },
  {
   "cell_type": "code",
   "execution_count": null,
   "id": "21bce9bc",
   "metadata": {
    "ExecuteTime": {
     "end_time": "2022-03-08T23:09:26.387405Z",
     "start_time": "2022-03-08T23:09:26.257433Z"
    }
   },
   "outputs": [],
   "source": [
    "# Inspect russia sentiment\n",
    "selections = [\"russia\"]\n",
    "\n",
    "keyword_sent_df = target_tweets_df[(target_tweets_df[\"cleaned_tweet\"].str.contains('|'.join(selections)))]\n",
    "sns.countplot(x=keyword_sent_df[\"sentiments_val\"]);"
   ]
  },
  {
   "cell_type": "code",
   "execution_count": null,
   "id": "b269ed78",
   "metadata": {
    "ExecuteTime": {
     "end_time": "2022-03-08T23:09:28.310090Z",
     "start_time": "2022-03-08T23:09:28.206208Z"
    }
   },
   "outputs": [],
   "source": [
    "# Tweet counts\n",
    "\n",
    "plt.subplots(figsize = (10,8))\n",
    "\n",
    "chart = sns.countplot(x=\"month\", data=target_tweets_df, palette=\"Set2\");\n",
    "chart.set_xticklabels(chart.get_xticklabels())\n",
    "\n",
    "plt.title(\"Tweets per Month \", fontsize=20)\n",
    "plt.show()"
   ]
  },
  {
   "cell_type": "code",
   "execution_count": null,
   "id": "514c9496",
   "metadata": {
    "ExecuteTime": {
     "end_time": "2022-03-08T23:09:32.264526Z",
     "start_time": "2022-03-08T23:09:32.111605Z"
    }
   },
   "outputs": [],
   "source": [
    "# Tweet sentiments for each month\n",
    "plt.subplots(figsize = (10,8))\n",
    "\n",
    "chart = sns.countplot(x=\"month\", data=target_tweets_df, palette=\"Set2\", hue=\"sentiments_val\");\n",
    "chart.set_xticklabels(chart.get_xticklabels())\n",
    "\n",
    "plt.title(\"Tweets Sentiments' per month \", fontsize=20)\n",
    "plt.show();"
   ]
  },
  {
   "cell_type": "code",
   "execution_count": null,
   "id": "048ee039",
   "metadata": {
    "ExecuteTime": {
     "end_time": "2022-03-08T23:09:33.913535Z",
     "start_time": "2022-03-08T23:09:33.622965Z"
    }
   },
   "outputs": [],
   "source": [
    "# Top 10 highest tweeting usernames\n",
    "plt.subplots(figsize = (10,8))\n",
    "\n",
    "plt.title(\"Top 10 highest tweeting usernames\", fontsize=20)\n",
    "\n",
    "chart = sns.countplot(x=\"username\",\n",
    "                    hue=\"sentiments_val\",\n",
    "                    data=target_tweets_df,\n",
    "                    palette=\"Set2\",\n",
    "                    order= target_tweets_df[\"username\"].value_counts().iloc[:10].index);\n",
    "\n",
    "chart.set_xticklabels(chart.get_xticklabels(), \n",
    "                      rotation=30, \n",
    "                      horizontalalignment='right');"
   ]
  },
  {
   "cell_type": "code",
   "execution_count": null,
   "id": "f4d920b2",
   "metadata": {
    "ExecuteTime": {
     "end_time": "2022-03-08T23:09:36.388620Z",
     "start_time": "2022-03-08T23:09:36.086196Z"
    }
   },
   "outputs": [],
   "source": [
    "# Top 10 most used hashtags\n",
    "plt.subplots(figsize = (15,10))\n",
    "plt.title(\"Top 10 hashtags\", fontsize=20)\n",
    "\n",
    "chart=sns.countplot(x=\"hashtags\",\n",
    "                    hue=\"sentiments_val\",\n",
    "                    data=target_tweets_df,\n",
    "                    palette=\"Set2\",\n",
    "                    order=target_tweets_df[\"hashtags\"].value_counts().iloc[1:10].index);\n",
    "\n",
    "chart.set_xticklabels(chart.get_xticklabels(), \n",
    "                      rotation=30, \n",
    "                      horizontalalignment='right');"
   ]
  },
  {
   "cell_type": "markdown",
   "id": "eaa192ad",
   "metadata": {},
   "source": [
    "### WordCloud"
   ]
  },
  {
   "cell_type": "code",
   "execution_count": null,
   "id": "511ac525",
   "metadata": {
    "ExecuteTime": {
     "end_time": "2022-03-08T23:09:38.618261Z",
     "start_time": "2022-03-08T23:09:38.614042Z"
    }
   },
   "outputs": [],
   "source": [
    "def generateWordcloud(text):\n",
    "    words=' '.join([words for words in text])\n",
    "    wordcloud = WordCloud(max_font_size=50, max_words=100, background_color=\"white\").generate(words)\n",
    "    plt.figure(figsize=(10, 7))\n",
    "    plt.imshow(wordcloud, interpolation=\"bilinear\")\n",
    "    plt.axis('off')\n",
    "    plt.show()"
   ]
  },
  {
   "cell_type": "code",
   "execution_count": null,
   "id": "4d58d634",
   "metadata": {
    "ExecuteTime": {
     "end_time": "2022-03-08T23:09:40.610661Z",
     "start_time": "2022-03-08T23:09:39.844066Z"
    }
   },
   "outputs": [],
   "source": [
    "# Wordcloud for all tweets\n",
    "generateWordcloud(target_tweets_df[\"cleaned_tweet\"].values)"
   ]
  },
  {
   "cell_type": "code",
   "execution_count": null,
   "id": "f02d4a0c",
   "metadata": {
    "ExecuteTime": {
     "end_time": "2022-03-08T23:09:41.457843Z",
     "start_time": "2022-03-08T23:09:41.271319Z"
    }
   },
   "outputs": [],
   "source": [
    "# Wordcloud for positive tweets\n",
    "generateWordcloud(target_tweets_df[target_tweets_df[\"sentiment\"]==1][\"cleaned_tweet\"].values)"
   ]
  },
  {
   "cell_type": "code",
   "execution_count": null,
   "id": "1a2c0f42",
   "metadata": {
    "ExecuteTime": {
     "end_time": "2022-03-08T23:09:42.759095Z",
     "start_time": "2022-03-08T23:09:42.161795Z"
    }
   },
   "outputs": [],
   "source": [
    "# Wordcloud for negative tweets\n",
    "generateWordcloud(target_tweets_df[target_tweets_df[\"sentiment\"]==-1][\"cleaned_tweet\"].values)"
   ]
  },
  {
   "cell_type": "code",
   "execution_count": null,
   "id": "b29e920c",
   "metadata": {
    "ExecuteTime": {
     "end_time": "2022-03-08T23:09:43.423000Z",
     "start_time": "2022-03-08T23:09:43.054235Z"
    }
   },
   "outputs": [],
   "source": [
    "# Wordcloud for neutral tweets\n",
    "generateWordcloud(target_tweets_df[target_tweets_df[\"sentiment\"]==0][\"cleaned_tweet\"].values)"
   ]
  },
  {
   "cell_type": "code",
   "execution_count": null,
   "id": "5f4b3c72",
   "metadata": {},
   "outputs": [],
   "source": []
  },
  {
   "cell_type": "code",
   "execution_count": null,
   "id": "b5adc885",
   "metadata": {},
   "outputs": [],
   "source": []
  },
  {
   "cell_type": "markdown",
   "id": "82308f68",
   "metadata": {},
   "source": [
    "## Prediction modelling"
   ]
  },
  {
   "cell_type": "code",
   "execution_count": 51,
   "id": "e67db023",
   "metadata": {
    "ExecuteTime": {
     "end_time": "2022-03-08T23:09:44.861294Z",
     "start_time": "2022-03-08T23:09:44.845583Z"
    }
   },
   "outputs": [
    {
     "data": {
      "text/html": [
       "<div>\n",
       "<style scoped>\n",
       "    .dataframe tbody tr th:only-of-type {\n",
       "        vertical-align: middle;\n",
       "    }\n",
       "\n",
       "    .dataframe tbody tr th {\n",
       "        vertical-align: top;\n",
       "    }\n",
       "\n",
       "    .dataframe thead th {\n",
       "        text-align: right;\n",
       "    }\n",
       "</style>\n",
       "<table border=\"1\" class=\"dataframe\">\n",
       "  <thead>\n",
       "    <tr style=\"text-align: right;\">\n",
       "      <th></th>\n",
       "      <th>date</th>\n",
       "      <th>username</th>\n",
       "      <th>description</th>\n",
       "      <th>location</th>\n",
       "      <th>tweet</th>\n",
       "      <th>hashtags</th>\n",
       "      <th>clean_tweet</th>\n",
       "      <th>cleaned_tweet</th>\n",
       "      <th>month</th>\n",
       "      <th>year</th>\n",
       "      <th>sentiment</th>\n",
       "      <th>sentiments_val</th>\n",
       "    </tr>\n",
       "  </thead>\n",
       "  <tbody>\n",
       "    <tr>\n",
       "      <th>0</th>\n",
       "      <td>2022-02-28 23:55:31</td>\n",
       "      <td>Rob Smith 🇨🇦 🇺🇦</td>\n",
       "      <td>Proud Canadian 🇨🇦, ❤️ baseball ⚾️, ❤️ history,...</td>\n",
       "      <td>Ontario, Canada</td>\n",
       "      <td>@kiraincongress Photos of rally in support of ...</td>\n",
       "      <td>nan</td>\n",
       "      <td>[photo, rally, support, ukraine, toronto, cana...</td>\n",
       "      <td>photo rally support ukraine toronto canada sun...</td>\n",
       "      <td>2</td>\n",
       "      <td>2022</td>\n",
       "      <td>1</td>\n",
       "      <td>positive</td>\n",
       "    </tr>\n",
       "    <tr>\n",
       "      <th>1</th>\n",
       "      <td>2022-02-28 23:55:21</td>\n",
       "      <td>Frags</td>\n",
       "      <td>ay yo video games\\nMarried To My Best Friend @...</td>\n",
       "      <td>Chicago</td>\n",
       "      <td>#Russia propaganda on #Twitter attempting to d...</td>\n",
       "      <td>russia    twitter    ukraine</td>\n",
       "      <td>[russia, propaganda, twitter, attempt, diminis...</td>\n",
       "      <td>russia propaganda twitter attempt diminish eve...</td>\n",
       "      <td>2</td>\n",
       "      <td>2022</td>\n",
       "      <td>1</td>\n",
       "      <td>positive</td>\n",
       "    </tr>\n",
       "    <tr>\n",
       "      <th>4</th>\n",
       "      <td>2022-02-28 23:54:28</td>\n",
       "      <td>Sydfish 🇺🇦🇺🇦🇺🇦🇺🇦</td>\n",
       "      <td>Soccer mom with a punk rock heart!!!!🛑NO LISTS...</td>\n",
       "      <td>California, USA</td>\n",
       "      <td>I’ve done more than 100 in St. Petersburg. \\n\\...</td>\n",
       "      <td>nan</td>\n",
       "      <td>[do, st, petersburg, dm, would, like, blurb, r...</td>\n",
       "      <td>do st petersburg dm would like blurb russian t...</td>\n",
       "      <td>2</td>\n",
       "      <td>2022</td>\n",
       "      <td>1</td>\n",
       "      <td>positive</td>\n",
       "    </tr>\n",
       "    <tr>\n",
       "      <th>7</th>\n",
       "      <td>2022-02-28 23:54:06</td>\n",
       "      <td>Jinx Spidox ➡️ Gdakon</td>\n",
       "      <td>Railway Electrician, Lanky Wuff, Skoda driver,...</td>\n",
       "      <td>Glasgow, Scotland</td>\n",
       "      <td>#SlavaUkraini good night #Ukraine keep up the ...</td>\n",
       "      <td>slavaukraini    ukraine</td>\n",
       "      <td>[slavaukraini, good, night, ukraine, keep, goo...</td>\n",
       "      <td>slavaukraini good night ukraine keep good figh...</td>\n",
       "      <td>2</td>\n",
       "      <td>2022</td>\n",
       "      <td>1</td>\n",
       "      <td>positive</td>\n",
       "    </tr>\n",
       "    <tr>\n",
       "      <th>8</th>\n",
       "      <td>2022-02-28 23:53:58</td>\n",
       "      <td>Jackie Blue 🇺🇸 🇨🇦 🇺🇦 🌻</td>\n",
       "      <td>Well, now on to the next emergency. (And more ...</td>\n",
       "      <td>🇺🇸 Wrong Side of the 49th</td>\n",
       "      <td>@anagin40 @NATO It sadly took Ukraine being a ...</td>\n",
       "      <td>nan</td>\n",
       "      <td>[sadly, take, ukraine, sacrificial, lamb, worl...</td>\n",
       "      <td>sadly take ukraine sacrificial lamb world wake...</td>\n",
       "      <td>2</td>\n",
       "      <td>2022</td>\n",
       "      <td>1</td>\n",
       "      <td>positive</td>\n",
       "    </tr>\n",
       "  </tbody>\n",
       "</table>\n",
       "</div>"
      ],
      "text/plain": [
       "                 date                username  \\\n",
       "0 2022-02-28 23:55:31         Rob Smith 🇨🇦 🇺🇦   \n",
       "1 2022-02-28 23:55:21                   Frags   \n",
       "4 2022-02-28 23:54:28        Sydfish 🇺🇦🇺🇦🇺🇦🇺🇦   \n",
       "7 2022-02-28 23:54:06   Jinx Spidox ➡️ Gdakon   \n",
       "8 2022-02-28 23:53:58  Jackie Blue 🇺🇸 🇨🇦 🇺🇦 🌻   \n",
       "\n",
       "                                         description  \\\n",
       "0  Proud Canadian 🇨🇦, ❤️ baseball ⚾️, ❤️ history,...   \n",
       "1  ay yo video games\\nMarried To My Best Friend @...   \n",
       "4  Soccer mom with a punk rock heart!!!!🛑NO LISTS...   \n",
       "7  Railway Electrician, Lanky Wuff, Skoda driver,...   \n",
       "8  Well, now on to the next emergency. (And more ...   \n",
       "\n",
       "                    location  \\\n",
       "0            Ontario, Canada   \n",
       "1                    Chicago   \n",
       "4            California, USA   \n",
       "7          Glasgow, Scotland   \n",
       "8  🇺🇸 Wrong Side of the 49th   \n",
       "\n",
       "                                               tweet  \\\n",
       "0  @kiraincongress Photos of rally in support of ...   \n",
       "1  #Russia propaganda on #Twitter attempting to d...   \n",
       "4  I’ve done more than 100 in St. Petersburg. \\n\\...   \n",
       "7  #SlavaUkraini good night #Ukraine keep up the ...   \n",
       "8  @anagin40 @NATO It sadly took Ukraine being a ...   \n",
       "\n",
       "                       hashtags  \\\n",
       "0                           nan   \n",
       "1  russia    twitter    ukraine   \n",
       "4                           nan   \n",
       "7       slavaukraini    ukraine   \n",
       "8                           nan   \n",
       "\n",
       "                                         clean_tweet  \\\n",
       "0  [photo, rally, support, ukraine, toronto, cana...   \n",
       "1  [russia, propaganda, twitter, attempt, diminis...   \n",
       "4  [do, st, petersburg, dm, would, like, blurb, r...   \n",
       "7  [slavaukraini, good, night, ukraine, keep, goo...   \n",
       "8  [sadly, take, ukraine, sacrificial, lamb, worl...   \n",
       "\n",
       "                                       cleaned_tweet  month  year  sentiment  \\\n",
       "0  photo rally support ukraine toronto canada sun...      2  2022          1   \n",
       "1  russia propaganda twitter attempt diminish eve...      2  2022          1   \n",
       "4  do st petersburg dm would like blurb russian t...      2  2022          1   \n",
       "7  slavaukraini good night ukraine keep good figh...      2  2022          1   \n",
       "8  sadly take ukraine sacrificial lamb world wake...      2  2022          1   \n",
       "\n",
       "  sentiments_val  \n",
       "0       positive  \n",
       "1       positive  \n",
       "4       positive  \n",
       "7       positive  \n",
       "8       positive  "
      ]
     },
     "execution_count": 51,
     "metadata": {},
     "output_type": "execute_result"
    }
   ],
   "source": [
    "target_tweets_df.head()"
   ]
  },
  {
   "cell_type": "code",
   "execution_count": 52,
   "id": "5ae9ca14",
   "metadata": {
    "ExecuteTime": {
     "end_time": "2022-03-08T23:09:46.370907Z",
     "start_time": "2022-03-08T23:09:46.360701Z"
    }
   },
   "outputs": [],
   "source": [
    "# Convert each sentiment to df (no need to worry about memory crash, small dataset)\n",
    "pos_df = target_tweets_df[target_tweets_df[\"sentiments_val\"]==\"positive\"]\n",
    "neg_df = target_tweets_df[target_tweets_df[\"sentiments_val\"]==\"negative\"]\n",
    "neu_df = target_tweets_df[target_tweets_df[\"sentiments_val\"]==\"neutral\"]"
   ]
  },
  {
   "cell_type": "code",
   "execution_count": 53,
   "id": "c8a45c80",
   "metadata": {
    "ExecuteTime": {
     "end_time": "2022-03-08T23:09:48.162522Z",
     "start_time": "2022-03-08T23:09:48.155517Z"
    }
   },
   "outputs": [],
   "source": [
    "# Combine all sentiments in one df\n",
    "sentiments_df_list = [pos_df, neg_df, neu_df] \n",
    "agg_sentiment_df = pd.concat(sentiments_df_list)"
   ]
  },
  {
   "cell_type": "code",
   "execution_count": 54,
   "id": "8d97d53c",
   "metadata": {
    "ExecuteTime": {
     "end_time": "2022-03-08T23:09:49.374945Z",
     "start_time": "2022-03-08T23:09:49.361744Z"
    }
   },
   "outputs": [],
   "source": [
    "# Split the data to training, testing, and validation data \n",
    "train_test_df, valid_df = train_test_split(agg_sentiment_df, test_size=0.2, random_state=10)"
   ]
  },
  {
   "cell_type": "code",
   "execution_count": 55,
   "id": "d0c19c5b",
   "metadata": {
    "ExecuteTime": {
     "end_time": "2022-03-08T23:09:50.597254Z",
     "start_time": "2022-03-08T23:09:50.590553Z"
    }
   },
   "outputs": [],
   "source": [
    "X = train_test_df['cleaned_tweet']\n",
    "y = train_test_df['sentiment']\n",
    "\n",
    "# Split the dataset set int0 training and test set\n",
    "X_train, X_test, y_train, y_test = train_test_split(X, y, test_size=0.2, random_state=42)"
   ]
  },
  {
   "cell_type": "code",
   "execution_count": 69,
   "id": "a4358702",
   "metadata": {},
   "outputs": [
    {
     "data": {
      "text/plain": [
       "pandas.core.series.Series"
      ]
     },
     "execution_count": 69,
     "metadata": {},
     "output_type": "execute_result"
    }
   ],
   "source": [
    "type(X_train)"
   ]
  },
  {
   "cell_type": "markdown",
   "id": "b2ad682a",
   "metadata": {},
   "source": [
    "### Vectorization"
   ]
  },
  {
   "cell_type": "code",
   "execution_count": 56,
   "id": "a4aee1d2",
   "metadata": {
    "ExecuteTime": {
     "end_time": "2022-03-08T23:10:29.875092Z",
     "start_time": "2022-03-08T23:10:29.872024Z"
    }
   },
   "outputs": [],
   "source": [
    "# Instantiate TfidfVectorizer \n",
    "vectorizer = TfidfVectorizer(min_df=3,\n",
    "                             sublinear_tf=True,\n",
    "#                              encoding=\"latin-1\",\n",
    "                             ngram_range=(1,2),\n",
    "                             stop_words='english')"
   ]
  },
  {
   "cell_type": "code",
   "execution_count": 57,
   "id": "f11cf2ce",
   "metadata": {
    "ExecuteTime": {
     "end_time": "2022-03-08T23:10:58.770304Z",
     "start_time": "2022-03-08T23:10:58.473309Z"
    }
   },
   "outputs": [],
   "source": [
    "# Fit vectorizer\n",
    "X_train_tf = vectorizer.fit_transform(X_train.reset_index()[\"cleaned_tweet\"]).toarray()\n",
    "X_test_tf = vectorizer.transform(X_test.reset_index()[\"cleaned_tweet\"]).toarray()"
   ]
  },
  {
   "cell_type": "code",
   "execution_count": 73,
   "id": "73b8ff9c",
   "metadata": {},
   "outputs": [
    {
     "data": {
      "text/plain": [
       "pandas.core.series.Series"
      ]
     },
     "execution_count": 73,
     "metadata": {},
     "output_type": "execute_result"
    }
   ],
   "source": [
    "type(y_train)"
   ]
  },
  {
   "cell_type": "code",
   "execution_count": 74,
   "id": "39912b0a",
   "metadata": {},
   "outputs": [
    {
     "data": {
      "text/plain": [
       "numpy.ndarray"
      ]
     },
     "execution_count": 74,
     "metadata": {},
     "output_type": "execute_result"
    }
   ],
   "source": [
    "type(X_train_tf)"
   ]
  },
  {
   "cell_type": "code",
   "execution_count": 58,
   "id": "388ee01f",
   "metadata": {
    "ExecuteTime": {
     "end_time": "2022-03-08T23:11:05.202230Z",
     "start_time": "2022-03-08T23:11:05.198510Z"
    }
   },
   "outputs": [
    {
     "data": {
      "text/plain": [
       "(9209, 5334)"
      ]
     },
     "execution_count": 58,
     "metadata": {},
     "output_type": "execute_result"
    }
   ],
   "source": [
    "X_train_tf.shape"
   ]
  },
  {
   "cell_type": "code",
   "execution_count": 59,
   "id": "577dc0b4",
   "metadata": {
    "ExecuteTime": {
     "end_time": "2022-03-08T23:11:36.934828Z",
     "start_time": "2022-03-08T23:11:36.929521Z"
    }
   },
   "outputs": [],
   "source": [
    "feature_names = vectorizer.get_feature_names_out() "
   ]
  },
  {
   "cell_type": "markdown",
   "id": "2bd5b659",
   "metadata": {},
   "source": [
    "### Build models"
   ]
  },
  {
   "cell_type": "code",
   "execution_count": null,
   "id": "f542b29d",
   "metadata": {},
   "outputs": [],
   "source": [
    "# Evaluate various models\n",
    "\n",
    "models = [\n",
    "    RandomForestClassifier(n_estimators=200, max_depth=3, random_state=0),\n",
    "    LinearSVC(),\n",
    "    MultinomialNB(),\n",
    "    LogisticRegression(random_state=0),\n",
    "    XGBClassifier()\n",
    "]\n",
    "CV = 5\n",
    "cv_df = pd.DataFrame(index=range(CV * len(models)))\n",
    "entries = []\n",
    "\n",
    "for model in models:\n",
    "    model_name = model.__class__.__name__\n",
    "    accuracies = cross_val_score(model, \n",
    "                                 X_train_tf, \n",
    "                                 y_train, \n",
    "                                 scoring='accuracy', \n",
    "                                 cv=CV)\n",
    "    \n",
    "    for fold_idx, accuracy in enumerate(accuracies):\n",
    "        entries.append((model_name, fold_idx, accuracy))"
   ]
  },
  {
   "cell_type": "code",
   "execution_count": null,
   "id": "ccaef7d6",
   "metadata": {
    "ExecuteTime": {
     "end_time": "2022-03-08T23:25:59.269845Z",
     "start_time": "2022-03-08T23:25:59.263116Z"
    }
   },
   "outputs": [],
   "source": [
    "# Aggregate validation scorese\n",
    "cv_df = pd.DataFrame(entries, columns=['model_name', 'fold_idx', 'accuracy'])"
   ]
  },
  {
   "cell_type": "code",
   "execution_count": null,
   "id": "4ef41812",
   "metadata": {
    "ExecuteTime": {
     "end_time": "2022-03-08T23:26:01.548637Z",
     "start_time": "2022-03-08T23:26:01.334626Z"
    }
   },
   "outputs": [],
   "source": [
    "# Plot model performances\n",
    "plt.subplots(figsize = (10,7))\n",
    "sns.boxplot(x='model_name', y='accuracy', data=cv_df)\n",
    "sns.stripplot(x='model_name', \n",
    "              y='accuracy', \n",
    "              data=cv_df, \n",
    "              size=10,\n",
    "              jitter=True, \n",
    "              edgecolor=\"gray\", \n",
    "              linewidth=2)\n",
    "\n",
    "plt.show()"
   ]
  },
  {
   "cell_type": "code",
   "execution_count": null,
   "id": "ef21b488",
   "metadata": {
    "ExecuteTime": {
     "end_time": "2022-03-08T23:27:32.970165Z",
     "start_time": "2022-03-08T23:27:32.961640Z"
    }
   },
   "outputs": [],
   "source": [
    "# Check mean accuracy for each model\n",
    "cv_df.groupby('model_name').accuracy.mean()"
   ]
  },
  {
   "cell_type": "code",
   "execution_count": null,
   "id": "c2de93fa",
   "metadata": {
    "ExecuteTime": {
     "end_time": "2022-03-08T23:28:13.741793Z",
     "start_time": "2022-03-08T23:28:13.738609Z"
    }
   },
   "outputs": [],
   "source": [
    "# Above shows linearSVC has highest mean accuracy"
   ]
  },
  {
   "cell_type": "markdown",
   "id": "f81d8b24",
   "metadata": {},
   "source": [
    "## LinearSVC"
   ]
  },
  {
   "cell_type": "code",
   "execution_count": 60,
   "id": "1ceb117d",
   "metadata": {
    "ExecuteTime": {
     "end_time": "2022-03-08T23:29:14.275026Z",
     "start_time": "2022-03-08T23:29:14.266827Z"
    }
   },
   "outputs": [],
   "source": [
    "# Create a dict of Sentiment_val: sentiments to use with the confusion matrix\n",
    "sentiment_id_df = agg_sentiment_df[['sentiments_val', 'sentiment']].drop_duplicates().sort_values('sentiment')\n",
    "sentiment_to_id = dict(sentiment_id_df.values)"
   ]
  },
  {
   "cell_type": "code",
   "execution_count": 61,
   "id": "15541eaa",
   "metadata": {
    "ExecuteTime": {
     "end_time": "2022-03-08T23:30:14.791472Z",
     "start_time": "2022-03-08T23:30:14.788017Z"
    }
   },
   "outputs": [],
   "source": [
    "# Instantiate the model\n",
    "linearSVC = LinearSVC(random_state=0)"
   ]
  },
  {
   "cell_type": "code",
   "execution_count": 62,
   "id": "4c3d4558",
   "metadata": {
    "ExecuteTime": {
     "end_time": "2022-03-08T23:30:16.457861Z",
     "start_time": "2022-03-08T23:30:16.250985Z"
    }
   },
   "outputs": [
    {
     "data": {
      "text/plain": [
       "LinearSVC(random_state=0)"
      ]
     },
     "execution_count": 62,
     "metadata": {},
     "output_type": "execute_result"
    }
   ],
   "source": [
    "# Fit the model\n",
    "linearSVC.fit(X_train_tf, y_train)"
   ]
  },
  {
   "cell_type": "code",
   "execution_count": 63,
   "id": "4c84c9cb",
   "metadata": {
    "ExecuteTime": {
     "end_time": "2022-03-08T23:30:19.357632Z",
     "start_time": "2022-03-08T23:30:19.307659Z"
    }
   },
   "outputs": [],
   "source": [
    "# Predict\n",
    "svc_y_pred = linearSVC.predict(X_test_tf)"
   ]
  },
  {
   "cell_type": "code",
   "execution_count": null,
   "id": "720cb02c",
   "metadata": {
    "ExecuteTime": {
     "end_time": "2022-03-09T00:24:56.338710Z",
     "start_time": "2022-03-09T00:24:56.130833Z"
    }
   },
   "outputs": [],
   "source": [
    "# Plot confusion matrix to evaluate the model results\n",
    "svc_conf_mat = confusion_matrix(y_test, svc_y_pred)\n",
    "\n",
    "fig, ax = plt.subplots(figsize=(5,5))\n",
    "sns.heatmap(svc_conf_mat, \n",
    "            annot=True, \n",
    "            fmt='d',\n",
    "            xticklabels=sentiment_id_df.sentiments_val.values, \n",
    "            yticklabels=sentiment_id_df.sentiment.values)\n",
    "\n",
    "plt.ylabel('Actual')\n",
    "plt.xlabel('Predicted')\n",
    "plt.show()"
   ]
  },
  {
   "cell_type": "code",
   "execution_count": null,
   "id": "79859e72",
   "metadata": {
    "ExecuteTime": {
     "end_time": "2022-03-09T00:25:13.567455Z",
     "start_time": "2022-03-09T00:25:13.557231Z"
    }
   },
   "outputs": [],
   "source": [
    "# Get classification report\n",
    "print(metrics.classification_report(y_test, svc_y_pred))"
   ]
  },
  {
   "cell_type": "code",
   "execution_count": null,
   "id": "ed8410e5",
   "metadata": {
    "ExecuteTime": {
     "end_time": "2022-03-09T00:25:41.904026Z",
     "start_time": "2022-03-09T00:25:41.886291Z"
    }
   },
   "outputs": [],
   "source": [
    "# Use score method to get accuracy of model\n",
    "svc_score = linearSVC.score(X_test_tf, y_test)\n",
    "print(svc_score)"
   ]
  },
  {
   "cell_type": "code",
   "execution_count": null,
   "id": "b122684b",
   "metadata": {
    "ExecuteTime": {
     "end_time": "2022-03-09T00:39:53.829147Z",
     "start_time": "2022-03-09T00:39:53.810479Z"
    }
   },
   "outputs": [],
   "source": [
    "# Feature importance\n",
    "\n",
    "def plotCoefficients(classification, feature_names, top_features=20):\n",
    "    size = len(feature_names)\n",
    "    coef_neg = classification.coef_[-1][:size]\n",
    "    coef_pos = classification.coef_[1][:size]\n",
    "    top_positive_coefficients = np.argsort(coef_pos[coef_pos>0])[-top_features:]\n",
    "    top_negative_coefficients = np.argsort(coef_pos[coef_neg<0])[:top_features]\n",
    "    top_coefficients = np.hstack([top_negative_coefficients, top_positive_coefficients])\n",
    "    coef=np.hstack([coef_neg,coef_pos])\n",
    "    # create plot\n",
    "    plt.figure(figsize=(15, 5))\n",
    "    colors = ['red' if c < 0 else 'blue' for c in coef[top_coefficients]]\n",
    "    plt.bar(np.arange(2 * top_features), coef[top_coefficients], color=colors)\n",
    "    feature_names = np.array(feature_names)\n",
    "    plt.xticks(np.arange(1, 1 + 2 * top_features), feature_names[top_coefficients], rotation=60, ha='right')\n",
    "    title=\"Positive and Negative Labels\"\n",
    "    plt.title(title)\n",
    "    plt.show()"
   ]
  },
  {
   "cell_type": "code",
   "execution_count": null,
   "id": "36059e43",
   "metadata": {
    "ExecuteTime": {
     "end_time": "2022-03-09T00:42:20.637210Z",
     "start_time": "2022-03-09T00:42:20.270881Z"
    }
   },
   "outputs": [],
   "source": [
    "coefs_with_fns = sorted(zip(linearSVC.coef_[0], feature_names)) \n",
    "df_feat = pd.DataFrame(coefs_with_fns)\n",
    "df_feat.columns = 'coefficient','word'\n",
    "df_feat.sort_values(by='coefficient')\n",
    "\n",
    "plotCoefficients(linearSVC, feature_names)"
   ]
  },
  {
   "cell_type": "code",
   "execution_count": null,
   "id": "5dc50cb9",
   "metadata": {},
   "outputs": [],
   "source": [
    "# Save linearSVC model\n",
    "dump(linearSVC, '../models/linearSVC.joblib')"
   ]
  },
  {
   "cell_type": "markdown",
   "id": "da1e6999",
   "metadata": {
    "ExecuteTime": {
     "end_time": "2022-03-09T00:41:37.726578Z",
     "start_time": "2022-03-09T00:41:37.718625Z"
    }
   },
   "source": [
    "## MultinomialNB Model"
   ]
  },
  {
   "cell_type": "code",
   "execution_count": null,
   "id": "b601e837",
   "metadata": {
    "ExecuteTime": {
     "end_time": "2022-03-09T00:43:38.827812Z",
     "start_time": "2022-03-09T00:43:38.824709Z"
    }
   },
   "outputs": [],
   "source": [
    "# Instantiate the model\n",
    "multiNB = MultinomialNB()"
   ]
  },
  {
   "cell_type": "code",
   "execution_count": null,
   "id": "5c8ab573",
   "metadata": {
    "ExecuteTime": {
     "end_time": "2022-03-09T00:43:45.631732Z",
     "start_time": "2022-03-09T00:43:45.415092Z"
    }
   },
   "outputs": [],
   "source": [
    "# Fit the model\n",
    "multiNB.fit(X_train_tf, y_train)"
   ]
  },
  {
   "cell_type": "code",
   "execution_count": null,
   "id": "5703452f",
   "metadata": {
    "ExecuteTime": {
     "end_time": "2022-03-09T00:44:00.388187Z",
     "start_time": "2022-03-09T00:44:00.359079Z"
    }
   },
   "outputs": [],
   "source": [
    "# predict\n",
    "nb_y_pred = multiNB.predict(X_test_tf)"
   ]
  },
  {
   "cell_type": "code",
   "execution_count": null,
   "id": "9e73c18e",
   "metadata": {
    "ExecuteTime": {
     "end_time": "2022-03-09T00:44:45.244155Z",
     "start_time": "2022-03-09T00:44:45.057451Z"
    }
   },
   "outputs": [],
   "source": [
    "# Plot confusion matrix to evaluate the model results\n",
    "conf_mat = confusion_matrix(y_test, nb_y_pred)\n",
    "fig, ax = plt.subplots(figsize=(5,5))\n",
    "sns.heatmap(conf_mat, \n",
    "            annot=True, \n",
    "            fmt='d',\n",
    "            xticklabels=sentiment_id_df.sentiments_val.values, \n",
    "            yticklabels=sentiment_id_df.sentiment.values)\n",
    "plt.ylabel('Actual')\n",
    "plt.xlabel('Predicted')\n",
    "plt.show()"
   ]
  },
  {
   "cell_type": "code",
   "execution_count": null,
   "id": "a871e866",
   "metadata": {
    "ExecuteTime": {
     "end_time": "2022-03-09T00:45:01.464086Z",
     "start_time": "2022-03-09T00:45:01.447955Z"
    }
   },
   "outputs": [],
   "source": [
    "# Print classification report\n",
    "print(metrics.classification_report(y_test, nb_y_pred))"
   ]
  },
  {
   "cell_type": "code",
   "execution_count": null,
   "id": "8a4e26e7",
   "metadata": {
    "ExecuteTime": {
     "end_time": "2022-03-09T00:45:22.802279Z",
     "start_time": "2022-03-09T00:45:22.784797Z"
    }
   },
   "outputs": [],
   "source": [
    "# Use score method to get accuracy of model\n",
    "nb_score = multiNB.score(X_test_tf, y_test)\n",
    "print(nb_score)"
   ]
  },
  {
   "cell_type": "code",
   "execution_count": null,
   "id": "519da377",
   "metadata": {},
   "outputs": [],
   "source": [
    "# Save linearSVC model\n",
    "dump(multiNB, '../models/multinomialNB.joblib')"
   ]
  },
  {
   "cell_type": "markdown",
   "id": "66343957",
   "metadata": {},
   "source": [
    "## Comparison: LinearSVC vs. MultinomialNB"
   ]
  },
  {
   "cell_type": "code",
   "execution_count": null,
   "id": "f94ce829",
   "metadata": {
    "ExecuteTime": {
     "end_time": "2022-03-09T00:46:25.151438Z",
     "start_time": "2022-03-09T00:46:25.097807Z"
    }
   },
   "outputs": [],
   "source": [
    "# Format validation set\n",
    "valid_df = valid_df.reset_index()\n",
    "valid_df.tail()"
   ]
  },
  {
   "cell_type": "code",
   "execution_count": null,
   "id": "b5ebd9f5",
   "metadata": {
    "ExecuteTime": {
     "end_time": "2022-03-09T00:47:17.214118Z",
     "start_time": "2022-03-09T00:47:17.201943Z"
    }
   },
   "outputs": [],
   "source": [
    "# Create new df contains the sentiment and its encoded value, and create two dictionaries\n",
    "sentiment_id_df = target_tweets_df[['sentiments_val', 'sentiment']].drop_duplicates().sort_values('sentiment')\n",
    "sentiment_to_id = dict(sentiment_id_df.values)\n",
    "\n",
    "id_to_sentiment = dict(sentiment_id_df[['sentiment', 'sentiments_val']].values)\n",
    "\n",
    "print(\"sentiment_to_id: \",sentiment_to_id)\n",
    "print(\"id_to_sentiment: \",id_to_sentiment)"
   ]
  },
  {
   "cell_type": "code",
   "execution_count": null,
   "id": "88e456a5",
   "metadata": {
    "ExecuteTime": {
     "end_time": "2022-03-09T00:48:54.714634Z",
     "start_time": "2022-03-09T00:48:54.710449Z"
    }
   },
   "outputs": [],
   "source": [
    "# Select \"random\" tweet\n",
    "tweet = target_tweets_df[\"tweet\"][202]\n",
    "tweet"
   ]
  },
  {
   "cell_type": "code",
   "execution_count": null,
   "id": "bf9c83e6",
   "metadata": {
    "ExecuteTime": {
     "end_time": "2022-03-09T00:49:37.761646Z",
     "start_time": "2022-03-09T00:49:37.755867Z"
    }
   },
   "outputs": [],
   "source": [
    "# test the data\n",
    "clean = vectorizer.transform([tweet]) # apply TFIDF\n",
    "pred = linearSVC.predict(clean) # predict the tweet using out model\n",
    "pred = id_to_sentiment[pred[0]]\n",
    "print(pred)"
   ]
  },
  {
   "cell_type": "markdown",
   "id": "411f6c41",
   "metadata": {},
   "source": [
    "## Validation"
   ]
  },
  {
   "cell_type": "code",
   "execution_count": null,
   "id": "997b2f86",
   "metadata": {
    "ExecuteTime": {
     "end_time": "2022-03-09T00:50:05.151556Z",
     "start_time": "2022-03-09T00:50:05.148804Z"
    }
   },
   "outputs": [],
   "source": [
    "# Define our X and y\n",
    "X_val = valid_df['cleaned_text']\n",
    "y_val = valid_df['sentiment']"
   ]
  },
  {
   "cell_type": "code",
   "execution_count": null,
   "id": "4675e7d4",
   "metadata": {
    "ExecuteTime": {
     "end_time": "2022-03-09T00:50:30.506191Z",
     "start_time": "2022-03-09T00:50:30.499457Z"
    }
   },
   "outputs": [],
   "source": [
    "# Vectorize the model\n",
    "vectorizer = TfidfVectorizer(min_df=3,\n",
    "                             sublinear_tf=True,\n",
    "#                              encoding=\"latin-1\", \n",
    "                             ngram_range=(1,2),\n",
    "                             stop_words='english')"
   ]
  },
  {
   "cell_type": "code",
   "execution_count": null,
   "id": "ddfbbfe8",
   "metadata": {
    "ExecuteTime": {
     "end_time": "2022-03-09T00:51:00.288906Z",
     "start_time": "2022-03-09T00:51:00.213479Z"
    }
   },
   "outputs": [],
   "source": [
    "# Fit vectors\n",
    "X_val_tf = vectorizer.fit_transform(X_val.reset_index()['cleaned_text']).toarray()"
   ]
  },
  {
   "cell_type": "code",
   "execution_count": null,
   "id": "2510caa5",
   "metadata": {
    "ExecuteTime": {
     "end_time": "2022-03-09T00:51:19.590559Z",
     "start_time": "2022-03-09T00:51:19.572086Z"
    }
   },
   "outputs": [],
   "source": [
    "# Fit multinomialNB\n",
    "multiNB.fit(X_val_tf, y_val)"
   ]
  },
  {
   "cell_type": "code",
   "execution_count": null,
   "id": "e6bdd2f1",
   "metadata": {
    "ExecuteTime": {
     "end_time": "2022-03-09T00:51:57.563412Z",
     "start_time": "2022-03-09T00:51:57.364923Z"
    }
   },
   "outputs": [],
   "source": [
    "# Plot confusion matrix to evaluate the model results\n",
    "conf_mat = confusion_matrix(y_val, multiNB.predict(X_val_tf))\n",
    "\n",
    "fig, ax = plt.subplots(figsize=(5,5))\n",
    "sns.heatmap(conf_mat, \n",
    "            annot=True, \n",
    "            fmt='d',\n",
    "            cmap='viridis',\n",
    "            xticklabels=sentiment_id_df.sentiments_val.values, \n",
    "            yticklabels=sentiment_id_df.sentiment.values)\n",
    "\n",
    "plt.ylabel('Actual')\n",
    "plt.xlabel('Predicted')\n",
    "plt.show()"
   ]
  },
  {
   "cell_type": "code",
   "execution_count": null,
   "id": "c1c242ad",
   "metadata": {
    "ExecuteTime": {
     "end_time": "2022-03-09T00:52:20.500439Z",
     "start_time": "2022-03-09T00:52:20.484170Z"
    }
   },
   "outputs": [],
   "source": [
    "# Print classification report\n",
    "print(metrics.classification_report(y_val, multiNB.predict(X_val_tf)))"
   ]
  },
  {
   "cell_type": "code",
   "execution_count": null,
   "id": "aefc9258",
   "metadata": {},
   "outputs": [],
   "source": []
  }
 ],
 "metadata": {
  "interpreter": {
   "hash": "10d883baf2d2c020187d16fb74e1bc85e676b385dd78044a08a209b4abcafece"
  },
  "kernelspec": {
   "display_name": "Python 3 (ipykernel)",
   "language": "python",
   "name": "python3"
  },
  "language_info": {
   "codemirror_mode": {
    "name": "ipython",
    "version": 3
   },
   "file_extension": ".py",
   "mimetype": "text/x-python",
   "name": "python",
   "nbconvert_exporter": "python",
   "pygments_lexer": "ipython3",
   "version": "3.10.4"
  }
 },
 "nbformat": 4,
 "nbformat_minor": 5
}
