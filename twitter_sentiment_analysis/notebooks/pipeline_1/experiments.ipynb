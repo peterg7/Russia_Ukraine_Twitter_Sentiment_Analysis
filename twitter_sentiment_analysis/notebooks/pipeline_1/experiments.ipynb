{
 "cells": [
  {
   "cell_type": "markdown",
   "id": "d8a60fe7",
   "metadata": {},
   "source": [
    "# Sentiment Analysis Training"
   ]
  },
  {
   "cell_type": "markdown",
   "id": "87f9c7b1",
   "metadata": {},
   "source": [
    "## Import dependencies"
   ]
  },
  {
   "cell_type": "code",
   "execution_count": 49,
   "id": "e5ff9dc1",
   "metadata": {
    "ExecuteTime": {
     "end_time": "2022-03-09T00:42:09.326341Z",
     "start_time": "2022-03-09T00:42:09.319658Z"
    }
   },
   "outputs": [],
   "source": [
    "# System\n",
    "import re\n",
    "import multiprocessing\n",
    "\n",
    "# Data manipulation\n",
    "import pandas as pd\n",
    "import numpy as np\n",
    "\n",
    "# Graphing\n",
    "import matplotlib.pyplot as plt\n",
    "import seaborn as sns\n",
    "\n",
    "# Set plot style\n",
    "from jupyterthemes import jtplot\n",
    "jtplot.style(theme='onedork')"
   ]
  },
  {
   "cell_type": "code",
   "execution_count": 50,
   "id": "a9be4bd3",
   "metadata": {
    "ExecuteTime": {
     "end_time": "2022-03-08T23:07:26.457480Z",
     "start_time": "2022-03-08T23:07:26.096721Z"
    }
   },
   "outputs": [],
   "source": [
    "# ML\n",
    "\n",
    "from sklearn.model_selection import train_test_split\n",
    "from sklearn import metrics\n",
    "from sklearn.metrics import confusion_matrix, plot_confusion_matrix, classification_report\n",
    "from sklearn.metrics import accuracy_score, recall_score, get_scorer, f1_score,roc_auc_score,precision_score\n",
    "from sklearn.feature_extraction.text import TfidfVectorizer\n",
    "\n",
    "from sklearn.cluster import KMeans\n",
    "from sklearn.linear_model import LogisticRegression\n",
    "from sklearn.ensemble import RandomForestClassifier\n",
    "from sklearn.svm import LinearSVC\n",
    "from sklearn.model_selection import cross_val_score\n",
    "from sklearn.naive_bayes import MultinomialNB\n",
    "\n",
    "from joblib import dump, load"
   ]
  },
  {
   "cell_type": "code",
   "execution_count": 51,
   "id": "3366ac60",
   "metadata": {
    "ExecuteTime": {
     "end_time": "2022-03-08T23:07:28.194107Z",
     "start_time": "2022-03-08T23:07:27.350419Z"
    }
   },
   "outputs": [
    {
     "name": "stderr",
     "output_type": "stream",
     "text": [
      "[nltk_data] Downloading package stopwords to\n",
      "[nltk_data]     /Users/petergish/nltk_data...\n",
      "[nltk_data]   Package stopwords is already up-to-date!\n",
      "[nltk_data] Downloading package wordnet to\n",
      "[nltk_data]     /Users/petergish/nltk_data...\n",
      "[nltk_data]   Package wordnet is already up-to-date!\n",
      "[nltk_data] Downloading package omw-1.4 to\n",
      "[nltk_data]     /Users/petergish/nltk_data...\n",
      "[nltk_data]   Package omw-1.4 is already up-to-date!\n"
     ]
    },
    {
     "data": {
      "text/plain": [
       "True"
      ]
     },
     "execution_count": 51,
     "metadata": {},
     "output_type": "execute_result"
    }
   ],
   "source": [
    "# NLP\n",
    "from wordcloud import WordCloud\n",
    "\n",
    "from xgboost import XGBClassifier\n",
    "\n",
    "from gensim.models.phrases import Phrases, Phraser\n",
    "from gensim.models import Word2Vec\n",
    "\n",
    "import nltk\n",
    "from nltk.stem import WordNetLemmatizer\n",
    "from nltk.corpus import stopwords\n",
    "\n",
    "# Prep nltk library\n",
    "nltk.download('stopwords')\n",
    "nltk.download('wordnet')\n",
    "nltk.download('omw-1.4')"
   ]
  },
  {
   "cell_type": "markdown",
   "id": "9443d12c",
   "metadata": {},
   "source": [
    "## Load & inspect"
   ]
  },
  {
   "cell_type": "code",
   "execution_count": 52,
   "id": "417cde9e",
   "metadata": {
    "ExecuteTime": {
     "end_time": "2022-03-08T23:07:31.560488Z",
     "start_time": "2022-03-08T23:07:31.318711Z"
    }
   },
   "outputs": [
    {
     "data": {
      "text/html": [
       "<div>\n",
       "<style scoped>\n",
       "    .dataframe tbody tr th:only-of-type {\n",
       "        vertical-align: middle;\n",
       "    }\n",
       "\n",
       "    .dataframe tbody tr th {\n",
       "        vertical-align: top;\n",
       "    }\n",
       "\n",
       "    .dataframe thead th {\n",
       "        text-align: right;\n",
       "    }\n",
       "</style>\n",
       "<table border=\"1\" class=\"dataframe\">\n",
       "  <thead>\n",
       "    <tr style=\"text-align: right;\">\n",
       "      <th></th>\n",
       "      <th>id</th>\n",
       "      <th>user_name</th>\n",
       "      <th>user_location</th>\n",
       "      <th>user_description</th>\n",
       "      <th>user_created</th>\n",
       "      <th>user_followers</th>\n",
       "      <th>user_friends</th>\n",
       "      <th>user_favourites</th>\n",
       "      <th>user_verified</th>\n",
       "      <th>date</th>\n",
       "      <th>text</th>\n",
       "      <th>hashtags</th>\n",
       "      <th>source</th>\n",
       "      <th>retweets</th>\n",
       "      <th>favorites</th>\n",
       "      <th>is_retweet</th>\n",
       "    </tr>\n",
       "  </thead>\n",
       "  <tbody>\n",
       "    <tr>\n",
       "      <th>0</th>\n",
       "      <td>1498446801376002051</td>\n",
       "      <td>Rob Smith 🇨🇦 🇺🇦</td>\n",
       "      <td>Ontario, Canada</td>\n",
       "      <td>Proud Canadian 🇨🇦, ❤️ baseball ⚾️, ❤️ history,...</td>\n",
       "      <td>2013-02-18 18:05:01</td>\n",
       "      <td>395</td>\n",
       "      <td>1898</td>\n",
       "      <td>4137</td>\n",
       "      <td>False</td>\n",
       "      <td>2022-02-28 23:55:31</td>\n",
       "      <td>@kiraincongress Photos of rally in support of ...</td>\n",
       "      <td>NaN</td>\n",
       "      <td>Twitter for iPhone</td>\n",
       "      <td>0</td>\n",
       "      <td>0</td>\n",
       "      <td>False</td>\n",
       "    </tr>\n",
       "    <tr>\n",
       "      <th>1</th>\n",
       "      <td>1498446755947499524</td>\n",
       "      <td>Frags</td>\n",
       "      <td>Chicago</td>\n",
       "      <td>ay yo video games\\nMarried To My Best Friend @...</td>\n",
       "      <td>2013-05-18 16:53:43</td>\n",
       "      <td>10523</td>\n",
       "      <td>269</td>\n",
       "      <td>3051</td>\n",
       "      <td>False</td>\n",
       "      <td>2022-02-28 23:55:21</td>\n",
       "      <td>#Russia propaganda on #Twitter attempting to d...</td>\n",
       "      <td>['Russia', 'Twitter', 'Ukraine']</td>\n",
       "      <td>Twitter for iPhone</td>\n",
       "      <td>0</td>\n",
       "      <td>1</td>\n",
       "      <td>False</td>\n",
       "    </tr>\n",
       "    <tr>\n",
       "      <th>2</th>\n",
       "      <td>1498446700096245760</td>\n",
       "      <td>Mark Malahosky 🇺🇦</td>\n",
       "      <td>Webster, NY</td>\n",
       "      <td>Pharmacist practicing at a Federally Qualified...</td>\n",
       "      <td>2015-07-14 12:38:43</td>\n",
       "      <td>184</td>\n",
       "      <td>164</td>\n",
       "      <td>38434</td>\n",
       "      <td>False</td>\n",
       "      <td>2022-02-28 23:55:07</td>\n",
       "      <td>@1Arnold_Friend @MaryEmBern @13WHAM Putin lack...</td>\n",
       "      <td>['SlavaUkraini']</td>\n",
       "      <td>Twitter for iPhone</td>\n",
       "      <td>0</td>\n",
       "      <td>1</td>\n",
       "      <td>False</td>\n",
       "    </tr>\n",
       "    <tr>\n",
       "      <th>3</th>\n",
       "      <td>1498446601710448647</td>\n",
       "      <td>oz</td>\n",
       "      <td>Hlavní město Praha, Česká repu</td>\n",
       "      <td>foodandfilms</td>\n",
       "      <td>2013-07-21 11:38:47</td>\n",
       "      <td>17</td>\n",
       "      <td>93</td>\n",
       "      <td>7907</td>\n",
       "      <td>False</td>\n",
       "      <td>2022-02-28 23:54:44</td>\n",
       "      <td>@profgalloway Dear prof, I have been following...</td>\n",
       "      <td>NaN</td>\n",
       "      <td>Twitter for Android</td>\n",
       "      <td>0</td>\n",
       "      <td>1</td>\n",
       "      <td>False</td>\n",
       "    </tr>\n",
       "    <tr>\n",
       "      <th>4</th>\n",
       "      <td>1498446536820224000</td>\n",
       "      <td>Sydfish 🇺🇦🇺🇦🇺🇦🇺🇦</td>\n",
       "      <td>California, USA</td>\n",
       "      <td>Soccer mom with a punk rock heart!!!!🛑NO LISTS...</td>\n",
       "      <td>2008-12-20 22:41:51</td>\n",
       "      <td>9136</td>\n",
       "      <td>8070</td>\n",
       "      <td>167748</td>\n",
       "      <td>False</td>\n",
       "      <td>2022-02-28 23:54:28</td>\n",
       "      <td>I’ve done more than 100 in St. Petersburg. \\n\\...</td>\n",
       "      <td>NaN</td>\n",
       "      <td>Twitter for iPhone</td>\n",
       "      <td>0</td>\n",
       "      <td>0</td>\n",
       "      <td>False</td>\n",
       "    </tr>\n",
       "    <tr>\n",
       "      <th>5</th>\n",
       "      <td>1498446504528207872</td>\n",
       "      <td>Kwolikowa 🇺🇦💪🇵🇱</td>\n",
       "      <td>The East Bay</td>\n",
       "      <td>working cat mom. lover of freedom. hater of di...</td>\n",
       "      <td>2011-12-20 02:32:24</td>\n",
       "      <td>31</td>\n",
       "      <td>295</td>\n",
       "      <td>635</td>\n",
       "      <td>False</td>\n",
       "      <td>2022-02-28 23:54:21</td>\n",
       "      <td>@lesiavasylenko Speak your truth!! #SlavaUkraini</td>\n",
       "      <td>['SlavaUkraini']</td>\n",
       "      <td>Twitter for iPhone</td>\n",
       "      <td>0</td>\n",
       "      <td>1</td>\n",
       "      <td>False</td>\n",
       "    </tr>\n",
       "    <tr>\n",
       "      <th>6</th>\n",
       "      <td>1498446476493701123</td>\n",
       "      <td>Kas</td>\n",
       "      <td>Guadalajara, Jalisco</td>\n",
       "      <td>Looking through the glass of rainbow</td>\n",
       "      <td>2009-12-14 22:55:37</td>\n",
       "      <td>675</td>\n",
       "      <td>1269</td>\n",
       "      <td>28334</td>\n",
       "      <td>False</td>\n",
       "      <td>2022-02-28 23:54:14</td>\n",
       "      <td>Heroes\\n#SlavaUkraini https://t.co/gl7n6LgEWF</td>\n",
       "      <td>['SlavaUkraini']</td>\n",
       "      <td>Twitter for iPad</td>\n",
       "      <td>0</td>\n",
       "      <td>0</td>\n",
       "      <td>False</td>\n",
       "    </tr>\n",
       "    <tr>\n",
       "      <th>7</th>\n",
       "      <td>1498446442406588419</td>\n",
       "      <td>Jinx Spidox ➡️ Gdakon</td>\n",
       "      <td>Glasgow, Scotland</td>\n",
       "      <td>Railway Electrician, Lanky Wuff, Skoda driver,...</td>\n",
       "      <td>2012-08-23 14:06:58</td>\n",
       "      <td>758</td>\n",
       "      <td>774</td>\n",
       "      <td>40027</td>\n",
       "      <td>False</td>\n",
       "      <td>2022-02-28 23:54:06</td>\n",
       "      <td>#SlavaUkraini good night #Ukraine keep up the ...</td>\n",
       "      <td>['SlavaUkraini', 'Ukraine']</td>\n",
       "      <td>Twitter Web App</td>\n",
       "      <td>0</td>\n",
       "      <td>4</td>\n",
       "      <td>False</td>\n",
       "    </tr>\n",
       "    <tr>\n",
       "      <th>8</th>\n",
       "      <td>1498446410227851265</td>\n",
       "      <td>Jackie Blue 🇺🇸 🇨🇦 🇺🇦 🌻</td>\n",
       "      <td>🇺🇸 Wrong Side of the 49th</td>\n",
       "      <td>Well, now on to the next emergency. (And more ...</td>\n",
       "      <td>2022-02-02 05:14:11</td>\n",
       "      <td>254</td>\n",
       "      <td>221</td>\n",
       "      <td>3880</td>\n",
       "      <td>False</td>\n",
       "      <td>2022-02-28 23:53:58</td>\n",
       "      <td>@anagin40 @NATO It sadly took Ukraine being a ...</td>\n",
       "      <td>NaN</td>\n",
       "      <td>Twitter Web App</td>\n",
       "      <td>0</td>\n",
       "      <td>2</td>\n",
       "      <td>False</td>\n",
       "    </tr>\n",
       "    <tr>\n",
       "      <th>9</th>\n",
       "      <td>1498446402267095040</td>\n",
       "      <td>Lydia B. 🗝🐉</td>\n",
       "      <td>NaN</td>\n",
       "      <td>it was his hat mr krabs. he was number one!\\n\\...</td>\n",
       "      <td>2013-10-04 20:52:31</td>\n",
       "      <td>208</td>\n",
       "      <td>915</td>\n",
       "      <td>4401</td>\n",
       "      <td>False</td>\n",
       "      <td>2022-02-28 23:53:56</td>\n",
       "      <td>@MrBeast @AndreaRussett @RosannaPansino @Jacks...</td>\n",
       "      <td>NaN</td>\n",
       "      <td>Twitter Web App</td>\n",
       "      <td>0</td>\n",
       "      <td>1</td>\n",
       "      <td>False</td>\n",
       "    </tr>\n",
       "  </tbody>\n",
       "</table>\n",
       "</div>"
      ],
      "text/plain": [
       "                    id               user_name  \\\n",
       "0  1498446801376002051         Rob Smith 🇨🇦 🇺🇦   \n",
       "1  1498446755947499524                   Frags   \n",
       "2  1498446700096245760       Mark Malahosky 🇺🇦   \n",
       "3  1498446601710448647                      oz   \n",
       "4  1498446536820224000        Sydfish 🇺🇦🇺🇦🇺🇦🇺🇦   \n",
       "5  1498446504528207872         Kwolikowa 🇺🇦💪🇵🇱   \n",
       "6  1498446476493701123                     Kas   \n",
       "7  1498446442406588419   Jinx Spidox ➡️ Gdakon   \n",
       "8  1498446410227851265  Jackie Blue 🇺🇸 🇨🇦 🇺🇦 🌻   \n",
       "9  1498446402267095040             Lydia B. 🗝🐉   \n",
       "\n",
       "                    user_location  \\\n",
       "0                 Ontario, Canada   \n",
       "1                         Chicago   \n",
       "2                     Webster, NY   \n",
       "3  Hlavní město Praha, Česká repu   \n",
       "4                 California, USA   \n",
       "5                    The East Bay   \n",
       "6            Guadalajara, Jalisco   \n",
       "7               Glasgow, Scotland   \n",
       "8       🇺🇸 Wrong Side of the 49th   \n",
       "9                             NaN   \n",
       "\n",
       "                                    user_description         user_created  \\\n",
       "0  Proud Canadian 🇨🇦, ❤️ baseball ⚾️, ❤️ history,...  2013-02-18 18:05:01   \n",
       "1  ay yo video games\\nMarried To My Best Friend @...  2013-05-18 16:53:43   \n",
       "2  Pharmacist practicing at a Federally Qualified...  2015-07-14 12:38:43   \n",
       "3                                       foodandfilms  2013-07-21 11:38:47   \n",
       "4  Soccer mom with a punk rock heart!!!!🛑NO LISTS...  2008-12-20 22:41:51   \n",
       "5  working cat mom. lover of freedom. hater of di...  2011-12-20 02:32:24   \n",
       "6               Looking through the glass of rainbow  2009-12-14 22:55:37   \n",
       "7  Railway Electrician, Lanky Wuff, Skoda driver,...  2012-08-23 14:06:58   \n",
       "8  Well, now on to the next emergency. (And more ...  2022-02-02 05:14:11   \n",
       "9  it was his hat mr krabs. he was number one!\\n\\...  2013-10-04 20:52:31   \n",
       "\n",
       "   user_followers  user_friends  user_favourites  user_verified  \\\n",
       "0             395          1898             4137          False   \n",
       "1           10523           269             3051          False   \n",
       "2             184           164            38434          False   \n",
       "3              17            93             7907          False   \n",
       "4            9136          8070           167748          False   \n",
       "5              31           295              635          False   \n",
       "6             675          1269            28334          False   \n",
       "7             758           774            40027          False   \n",
       "8             254           221             3880          False   \n",
       "9             208           915             4401          False   \n",
       "\n",
       "                  date                                               text  \\\n",
       "0  2022-02-28 23:55:31  @kiraincongress Photos of rally in support of ...   \n",
       "1  2022-02-28 23:55:21  #Russia propaganda on #Twitter attempting to d...   \n",
       "2  2022-02-28 23:55:07  @1Arnold_Friend @MaryEmBern @13WHAM Putin lack...   \n",
       "3  2022-02-28 23:54:44  @profgalloway Dear prof, I have been following...   \n",
       "4  2022-02-28 23:54:28  I’ve done more than 100 in St. Petersburg. \\n\\...   \n",
       "5  2022-02-28 23:54:21   @lesiavasylenko Speak your truth!! #SlavaUkraini   \n",
       "6  2022-02-28 23:54:14      Heroes\\n#SlavaUkraini https://t.co/gl7n6LgEWF   \n",
       "7  2022-02-28 23:54:06  #SlavaUkraini good night #Ukraine keep up the ...   \n",
       "8  2022-02-28 23:53:58  @anagin40 @NATO It sadly took Ukraine being a ...   \n",
       "9  2022-02-28 23:53:56  @MrBeast @AndreaRussett @RosannaPansino @Jacks...   \n",
       "\n",
       "                           hashtags               source  retweets  favorites  \\\n",
       "0                               NaN   Twitter for iPhone         0          0   \n",
       "1  ['Russia', 'Twitter', 'Ukraine']   Twitter for iPhone         0          1   \n",
       "2                  ['SlavaUkraini']   Twitter for iPhone         0          1   \n",
       "3                               NaN  Twitter for Android         0          1   \n",
       "4                               NaN   Twitter for iPhone         0          0   \n",
       "5                  ['SlavaUkraini']   Twitter for iPhone         0          1   \n",
       "6                  ['SlavaUkraini']     Twitter for iPad         0          0   \n",
       "7       ['SlavaUkraini', 'Ukraine']      Twitter Web App         0          4   \n",
       "8                               NaN      Twitter Web App         0          2   \n",
       "9                               NaN      Twitter Web App         0          1   \n",
       "\n",
       "   is_retweet  \n",
       "0       False  \n",
       "1       False  \n",
       "2       False  \n",
       "3       False  \n",
       "4       False  \n",
       "5       False  \n",
       "6       False  \n",
       "7       False  \n",
       "8       False  \n",
       "9       False  "
      ]
     },
     "execution_count": 52,
     "metadata": {},
     "output_type": "execute_result"
    }
   ],
   "source": [
    "# Load data\n",
    "file_path = '../data/raw/slava_ukraini_tweets.csv'\n",
    "raw_tweets_df = pd.read_csv(file_path)\n",
    "raw_tweets_df.head(10)"
   ]
  },
  {
   "cell_type": "code",
   "execution_count": 53,
   "id": "0dab8f59",
   "metadata": {
    "ExecuteTime": {
     "end_time": "2022-03-08T23:07:32.946551Z",
     "start_time": "2022-03-08T23:07:32.902670Z"
    }
   },
   "outputs": [
    {
     "name": "stdout",
     "output_type": "stream",
     "text": [
      "<class 'pandas.core.frame.DataFrame'>\n",
      "RangeIndex: 24468 entries, 0 to 24467\n",
      "Data columns (total 16 columns):\n",
      " #   Column            Non-Null Count  Dtype \n",
      "---  ------            --------------  ----- \n",
      " 0   id                24468 non-null  int64 \n",
      " 1   user_name         24468 non-null  object\n",
      " 2   user_location     16461 non-null  object\n",
      " 3   user_description  21781 non-null  object\n",
      " 4   user_created      24468 non-null  object\n",
      " 5   user_followers    24468 non-null  int64 \n",
      " 6   user_friends      24468 non-null  int64 \n",
      " 7   user_favourites   24468 non-null  int64 \n",
      " 8   user_verified     24468 non-null  bool  \n",
      " 9   date              24468 non-null  object\n",
      " 10  text              24468 non-null  object\n",
      " 11  hashtags          15902 non-null  object\n",
      " 12  source            24468 non-null  object\n",
      " 13  retweets          24468 non-null  int64 \n",
      " 14  favorites         24468 non-null  int64 \n",
      " 15  is_retweet        24468 non-null  bool  \n",
      "dtypes: bool(2), int64(6), object(8)\n",
      "memory usage: 2.7+ MB\n"
     ]
    }
   ],
   "source": [
    "# Get general overview\n",
    "raw_tweets_df.info()"
   ]
  },
  {
   "cell_type": "code",
   "execution_count": 54,
   "id": "c398c043",
   "metadata": {
    "ExecuteTime": {
     "end_time": "2022-03-08T23:07:35.608386Z",
     "start_time": "2022-03-08T23:07:35.558879Z"
    }
   },
   "outputs": [
    {
     "data": {
      "text/plain": [
       "id                  24468\n",
       "user_name           10219\n",
       "user_location        3995\n",
       "user_description     9025\n",
       "user_created        10093\n",
       "user_followers       3973\n",
       "user_friends         4020\n",
       "user_favourites     10503\n",
       "user_verified           2\n",
       "date                23663\n",
       "text                24417\n",
       "hashtags             5889\n",
       "source                 38\n",
       "retweets              125\n",
       "favorites             268\n",
       "is_retweet              1\n",
       "dtype: int64"
      ]
     },
     "execution_count": 54,
     "metadata": {},
     "output_type": "execute_result"
    }
   ],
   "source": [
    "# Get unique values\n",
    "raw_tweets_df.nunique()"
   ]
  },
  {
   "cell_type": "code",
   "execution_count": 55,
   "id": "c7313c9a",
   "metadata": {
    "ExecuteTime": {
     "end_time": "2022-03-08T23:07:36.587663Z",
     "start_time": "2022-03-08T23:07:36.574212Z"
    }
   },
   "outputs": [
    {
     "data": {
      "text/plain": [
       "United States          328\n",
       "Bracknell UK           201\n",
       "Canada                 178\n",
       "London, England        174\n",
       "London                 171\n",
       "                      ... \n",
       "Denmark / Ukraine        1\n",
       "Cambridgeshire           1\n",
       "Alpharetta, Georgia      1\n",
       "Beverley, England        1\n",
       "Inverness, Scotland      1\n",
       "Name: user_location, Length: 3995, dtype: int64"
      ]
     },
     "execution_count": 55,
     "metadata": {},
     "output_type": "execute_result"
    }
   ],
   "source": [
    "# Check locations (may imply language)\n",
    "raw_tweets_df['user_location'].value_counts()"
   ]
  },
  {
   "cell_type": "markdown",
   "id": "a5f81aec",
   "metadata": {},
   "source": [
    "## Cleaning"
   ]
  },
  {
   "cell_type": "code",
   "execution_count": 56,
   "id": "12cc1c0f",
   "metadata": {
    "ExecuteTime": {
     "end_time": "2022-03-08T23:07:38.520067Z",
     "start_time": "2022-03-08T23:07:38.511605Z"
    }
   },
   "outputs": [
    {
     "data": {
      "text/plain": [
       "(24468, 6)"
      ]
     },
     "execution_count": 56,
     "metadata": {},
     "output_type": "execute_result"
    }
   ],
   "source": [
    "# Select relevant columns\n",
    "col_rename_map = {\n",
    "    'date': 'date',\n",
    "    'user_name': 'username',\n",
    "    'user_description': 'description',\n",
    "    'user_location': 'location',\n",
    "    'text': 'tweet',\n",
    "    'hashtags': 'hashtags'\n",
    "}\n",
    "\n",
    "tweets_df = raw_tweets_df[list(col_rename_map.keys())].rename(columns=col_rename_map)\n",
    "\n",
    "tweets_df.shape"
   ]
  },
  {
   "cell_type": "code",
   "execution_count": 57,
   "id": "11a9eb63",
   "metadata": {
    "ExecuteTime": {
     "end_time": "2022-03-08T23:07:39.665276Z",
     "start_time": "2022-03-08T23:07:39.653626Z"
    }
   },
   "outputs": [
    {
     "data": {
      "text/plain": [
       "51"
      ]
     },
     "execution_count": 57,
     "metadata": {},
     "output_type": "execute_result"
    }
   ],
   "source": [
    "# Check duplicate tweets\n",
    "tweets_df['tweet'].duplicated(keep='first').sum()"
   ]
  },
  {
   "cell_type": "code",
   "execution_count": 58,
   "id": "e2e02453",
   "metadata": {
    "ExecuteTime": {
     "end_time": "2022-03-08T23:07:40.594336Z",
     "start_time": "2022-03-08T23:07:40.573633Z"
    }
   },
   "outputs": [
    {
     "data": {
      "text/plain": [
       "(24417, 6)"
      ]
     },
     "execution_count": 58,
     "metadata": {},
     "output_type": "execute_result"
    }
   ],
   "source": [
    "# Drop duplicate tweets\n",
    "tweets_df = tweets_df.drop_duplicates(subset='tweet', keep='first')\n",
    "tweets_df.shape"
   ]
  },
  {
   "cell_type": "code",
   "execution_count": 59,
   "id": "5e4d8754",
   "metadata": {
    "ExecuteTime": {
     "end_time": "2022-03-08T23:07:41.375088Z",
     "start_time": "2022-03-08T23:07:41.365259Z"
    }
   },
   "outputs": [],
   "source": [
    "# Initialize Lemmatizer and stopwords\n",
    "lemma = WordNetLemmatizer()\n",
    "stop_words = stopwords.words(\"english\")"
   ]
  },
  {
   "cell_type": "code",
   "execution_count": 60,
   "id": "55c4e3b1",
   "metadata": {
    "ExecuteTime": {
     "end_time": "2022-03-08T23:07:42.598682Z",
     "start_time": "2022-03-08T23:07:42.512927Z"
    }
   },
   "outputs": [],
   "source": [
    "# Define cleaning functions\n",
    "\n",
    "def cleanTweet(tweet):\n",
    "\n",
    "    tweet = tweet.lower()\n",
    "    tweet = re.sub('https?:\\/\\/[a-zA-Z0-9@:%._\\/+~#=?&;-]*', ' ', tweet)\n",
    "    tweet = re.sub('\\$[a-zA-Z0-9]*', ' ', tweet)\n",
    "    tweet = re.sub('\\@[a-zA-Z0-9]*', ' ', tweet)\n",
    "    tweet = re.sub('[^a-zA-Z\\']', ' ', tweet)\n",
    "    tweet = ' '.join( [w for w in tweet.split() if len(w)>1] )\n",
    "    \n",
    "    lem_stopwords = [lemma.lemmatize(x) for x in nltk.wordpunct_tokenize(tweet) \n",
    "                     if x not in stop_words]\n",
    "    tweet = ' '.join(lem_stopwords)\n",
    "    \n",
    "    return [lemma.lemmatize(x, nltk.corpus.reader.wordnet.VERB) for x in nltk.wordpunct_tokenize(tweet) \n",
    "             if x not in stop_words]\n",
    "\n",
    "\n",
    "def cleanHashtags(hashtags):\n",
    "\n",
    "    if hashtags:\n",
    "        hashtags = hashtags.lower()\n",
    "        hashtags = re.sub('\\$[a-zA-Z0-9]*', ' ', hashtags)\n",
    "        hashtags = re.sub('[^a-zA-Z]', ' ', hashtags)\n",
    "        hashtags=hashtags.strip() \n",
    "    return hashtags"
   ]
  },
  {
   "cell_type": "code",
   "execution_count": 61,
   "id": "10902c5b",
   "metadata": {
    "ExecuteTime": {
     "end_time": "2022-03-08T23:07:48.447806Z",
     "start_time": "2022-03-08T23:07:44.270783Z"
    }
   },
   "outputs": [],
   "source": [
    "# Clean tweets\n",
    "tweets_df['clean_tweet'] = tweets_df['tweet'].apply(lambda x: cleanTweet(x))\n",
    "tweets_df['cleaned_tweet'] = tweets_df['clean_tweet'].apply(lambda x:' '.join(x))"
   ]
  },
  {
   "cell_type": "code",
   "execution_count": 62,
   "id": "eca79699",
   "metadata": {
    "ExecuteTime": {
     "end_time": "2022-03-08T23:07:49.423813Z",
     "start_time": "2022-03-08T23:07:49.334067Z"
    }
   },
   "outputs": [],
   "source": [
    "# Clean hashtags\n",
    "tweets_df[\"hashtags\"] = tweets_df[\"hashtags\"].astype(str)\n",
    "tweets_df[\"hashtags\"] = tweets_df[\"hashtags\"].apply(lambda x: cleanHashtags(x))"
   ]
  },
  {
   "cell_type": "code",
   "execution_count": 63,
   "id": "4cc1fb1a",
   "metadata": {
    "ExecuteTime": {
     "end_time": "2022-03-08T23:07:50.621071Z",
     "start_time": "2022-03-08T23:07:50.607137Z"
    }
   },
   "outputs": [
    {
     "data": {
      "text/html": [
       "<div>\n",
       "<style scoped>\n",
       "    .dataframe tbody tr th:only-of-type {\n",
       "        vertical-align: middle;\n",
       "    }\n",
       "\n",
       "    .dataframe tbody tr th {\n",
       "        vertical-align: top;\n",
       "    }\n",
       "\n",
       "    .dataframe thead th {\n",
       "        text-align: right;\n",
       "    }\n",
       "</style>\n",
       "<table border=\"1\" class=\"dataframe\">\n",
       "  <thead>\n",
       "    <tr style=\"text-align: right;\">\n",
       "      <th></th>\n",
       "      <th>date</th>\n",
       "      <th>username</th>\n",
       "      <th>description</th>\n",
       "      <th>location</th>\n",
       "      <th>tweet</th>\n",
       "      <th>hashtags</th>\n",
       "      <th>clean_tweet</th>\n",
       "      <th>cleaned_tweet</th>\n",
       "    </tr>\n",
       "  </thead>\n",
       "  <tbody>\n",
       "    <tr>\n",
       "      <th>0</th>\n",
       "      <td>2022-02-28 23:55:31</td>\n",
       "      <td>Rob Smith 🇨🇦 🇺🇦</td>\n",
       "      <td>Proud Canadian 🇨🇦, ❤️ baseball ⚾️, ❤️ history,...</td>\n",
       "      <td>Ontario, Canada</td>\n",
       "      <td>@kiraincongress Photos of rally in support of ...</td>\n",
       "      <td>nan</td>\n",
       "      <td>[photo, rally, support, ukraine, toronto, cana...</td>\n",
       "      <td>photo rally support ukraine toronto canada sun...</td>\n",
       "    </tr>\n",
       "    <tr>\n",
       "      <th>1</th>\n",
       "      <td>2022-02-28 23:55:21</td>\n",
       "      <td>Frags</td>\n",
       "      <td>ay yo video games\\nMarried To My Best Friend @...</td>\n",
       "      <td>Chicago</td>\n",
       "      <td>#Russia propaganda on #Twitter attempting to d...</td>\n",
       "      <td>russia    twitter    ukraine</td>\n",
       "      <td>[russia, propaganda, twitter, attempt, diminis...</td>\n",
       "      <td>russia propaganda twitter attempt diminish eve...</td>\n",
       "    </tr>\n",
       "    <tr>\n",
       "      <th>2</th>\n",
       "      <td>2022-02-28 23:55:07</td>\n",
       "      <td>Mark Malahosky 🇺🇦</td>\n",
       "      <td>Pharmacist practicing at a Federally Qualified...</td>\n",
       "      <td>Webster, NY</td>\n",
       "      <td>@1Arnold_Friend @MaryEmBern @13WHAM Putin lack...</td>\n",
       "      <td>slavaukraini</td>\n",
       "      <td>[friend, putin, lackey, slavaukraini]</td>\n",
       "      <td>friend putin lackey slavaukraini</td>\n",
       "    </tr>\n",
       "    <tr>\n",
       "      <th>3</th>\n",
       "      <td>2022-02-28 23:54:44</td>\n",
       "      <td>oz</td>\n",
       "      <td>foodandfilms</td>\n",
       "      <td>Hlavní město Praha, Česká repu</td>\n",
       "      <td>@profgalloway Dear prof, I have been following...</td>\n",
       "      <td>nan</td>\n",
       "      <td>[dear, prof, follow, podcast, time, think, sor...</td>\n",
       "      <td>dear prof follow podcast time think sort under...</td>\n",
       "    </tr>\n",
       "    <tr>\n",
       "      <th>4</th>\n",
       "      <td>2022-02-28 23:54:28</td>\n",
       "      <td>Sydfish 🇺🇦🇺🇦🇺🇦🇺🇦</td>\n",
       "      <td>Soccer mom with a punk rock heart!!!!🛑NO LISTS...</td>\n",
       "      <td>California, USA</td>\n",
       "      <td>I’ve done more than 100 in St. Petersburg. \\n\\...</td>\n",
       "      <td>nan</td>\n",
       "      <td>[do, st, petersburg, dm, would, like, blurb, r...</td>\n",
       "      <td>do st petersburg dm would like blurb russian t...</td>\n",
       "    </tr>\n",
       "  </tbody>\n",
       "</table>\n",
       "</div>"
      ],
      "text/plain": [
       "                  date           username  \\\n",
       "0  2022-02-28 23:55:31    Rob Smith 🇨🇦 🇺🇦   \n",
       "1  2022-02-28 23:55:21              Frags   \n",
       "2  2022-02-28 23:55:07  Mark Malahosky 🇺🇦   \n",
       "3  2022-02-28 23:54:44                 oz   \n",
       "4  2022-02-28 23:54:28   Sydfish 🇺🇦🇺🇦🇺🇦🇺🇦   \n",
       "\n",
       "                                         description  \\\n",
       "0  Proud Canadian 🇨🇦, ❤️ baseball ⚾️, ❤️ history,...   \n",
       "1  ay yo video games\\nMarried To My Best Friend @...   \n",
       "2  Pharmacist practicing at a Federally Qualified...   \n",
       "3                                       foodandfilms   \n",
       "4  Soccer mom with a punk rock heart!!!!🛑NO LISTS...   \n",
       "\n",
       "                         location  \\\n",
       "0                 Ontario, Canada   \n",
       "1                         Chicago   \n",
       "2                     Webster, NY   \n",
       "3  Hlavní město Praha, Česká repu   \n",
       "4                 California, USA   \n",
       "\n",
       "                                               tweet  \\\n",
       "0  @kiraincongress Photos of rally in support of ...   \n",
       "1  #Russia propaganda on #Twitter attempting to d...   \n",
       "2  @1Arnold_Friend @MaryEmBern @13WHAM Putin lack...   \n",
       "3  @profgalloway Dear prof, I have been following...   \n",
       "4  I’ve done more than 100 in St. Petersburg. \\n\\...   \n",
       "\n",
       "                       hashtags  \\\n",
       "0                           nan   \n",
       "1  russia    twitter    ukraine   \n",
       "2                  slavaukraini   \n",
       "3                           nan   \n",
       "4                           nan   \n",
       "\n",
       "                                         clean_tweet  \\\n",
       "0  [photo, rally, support, ukraine, toronto, cana...   \n",
       "1  [russia, propaganda, twitter, attempt, diminis...   \n",
       "2              [friend, putin, lackey, slavaukraini]   \n",
       "3  [dear, prof, follow, podcast, time, think, sor...   \n",
       "4  [do, st, petersburg, dm, would, like, blurb, r...   \n",
       "\n",
       "                                       cleaned_tweet  \n",
       "0  photo rally support ukraine toronto canada sun...  \n",
       "1  russia propaganda twitter attempt diminish eve...  \n",
       "2                   friend putin lackey slavaukraini  \n",
       "3  dear prof follow podcast time think sort under...  \n",
       "4  do st petersburg dm would like blurb russian t...  "
      ]
     },
     "execution_count": 63,
     "metadata": {},
     "output_type": "execute_result"
    }
   ],
   "source": [
    "tweets_df.head()"
   ]
  },
  {
   "cell_type": "code",
   "execution_count": 64,
   "id": "0a8f97e8",
   "metadata": {
    "ExecuteTime": {
     "end_time": "2022-03-08T23:07:51.926549Z",
     "start_time": "2022-03-08T23:07:51.912565Z"
    }
   },
   "outputs": [],
   "source": [
    "# Convert date to datetime and extract month/year\n",
    "tweets_df['date'] = pd.to_datetime(tweets_df['date'])\n",
    "tweets_df['month'] = tweets_df['date'].dt.month\n",
    "tweets_df['year'] = tweets_df['date'].dt.year"
   ]
  },
  {
   "cell_type": "code",
   "execution_count": 65,
   "id": "6ae08e61",
   "metadata": {
    "ExecuteTime": {
     "end_time": "2022-03-08T23:07:52.997064Z",
     "start_time": "2022-03-08T23:07:52.982968Z"
    }
   },
   "outputs": [
    {
     "data": {
      "text/html": [
       "<div>\n",
       "<style scoped>\n",
       "    .dataframe tbody tr th:only-of-type {\n",
       "        vertical-align: middle;\n",
       "    }\n",
       "\n",
       "    .dataframe tbody tr th {\n",
       "        vertical-align: top;\n",
       "    }\n",
       "\n",
       "    .dataframe thead th {\n",
       "        text-align: right;\n",
       "    }\n",
       "</style>\n",
       "<table border=\"1\" class=\"dataframe\">\n",
       "  <thead>\n",
       "    <tr style=\"text-align: right;\">\n",
       "      <th></th>\n",
       "      <th>date</th>\n",
       "      <th>username</th>\n",
       "      <th>description</th>\n",
       "      <th>location</th>\n",
       "      <th>tweet</th>\n",
       "      <th>hashtags</th>\n",
       "      <th>clean_tweet</th>\n",
       "      <th>cleaned_tweet</th>\n",
       "      <th>month</th>\n",
       "      <th>year</th>\n",
       "    </tr>\n",
       "  </thead>\n",
       "  <tbody>\n",
       "    <tr>\n",
       "      <th>24463</th>\n",
       "      <td>2022-03-13 05:33:56</td>\n",
       "      <td>Joel at Seldon Crisis 🎙</td>\n",
       "      <td>Lover of Earth, Mars, and all of Sol's childre...</td>\n",
       "      <td>Montara, CA (near SF)</td>\n",
       "      <td>@Tazerface16 You went and followed me and now ...</td>\n",
       "      <td>slavaukraini</td>\n",
       "      <td>[go, follow, ', bring, unfollow, besides, ', g...</td>\n",
       "      <td>go follow ' bring unfollow besides ' get slava...</td>\n",
       "      <td>3</td>\n",
       "      <td>2022</td>\n",
       "    </tr>\n",
       "    <tr>\n",
       "      <th>24464</th>\n",
       "      <td>2022-03-13 05:32:32</td>\n",
       "      <td>P</td>\n",
       "      <td>Scottish. British. Proud. Believer in democrac...</td>\n",
       "      <td>Inverness, Scotland</td>\n",
       "      <td>@dkaleniuk @McFaul This photo was shared a cou...</td>\n",
       "      <td>nan</td>\n",
       "      <td>[photo, share, couple, day, ago, lpr, alledged...</td>\n",
       "      <td>photo share couple day ago lpr alledgedly capt...</td>\n",
       "      <td>3</td>\n",
       "      <td>2022</td>\n",
       "    </tr>\n",
       "    <tr>\n",
       "      <th>24465</th>\n",
       "      <td>2022-03-13 05:32:04</td>\n",
       "      <td>T0CM, Back to Buy and Hodl. 8.01. Slava Ukraini!</td>\n",
       "      <td>APES TOGETHER STRONG!</td>\n",
       "      <td>Launch Pad Waiting Room</td>\n",
       "      <td>#SlavaUkraini  #FuckPutin #Russiangofuckyourse...</td>\n",
       "      <td>slavaukraini    fuckputin    russiangofuckyour...</td>\n",
       "      <td>[slavaukraini, fuckputin, russiangofuckyoursel...</td>\n",
       "      <td>slavaukraini fuckputin russiangofuckyourselves...</td>\n",
       "      <td>3</td>\n",
       "      <td>2022</td>\n",
       "    </tr>\n",
       "    <tr>\n",
       "      <th>24466</th>\n",
       "      <td>2022-03-13 05:32:00</td>\n",
       "      <td>JoCroft</td>\n",
       "      <td>#nipolitics 🇬🇧\\n#Irishpolitics 🇮🇪 🍀 \\n#perazzi...</td>\n",
       "      <td>Northern Ireland</td>\n",
       "      <td>@nexta_tv The #KingRat #russianoligarch himsel...</td>\n",
       "      <td>kingrat    russianoligarch    romanabramovich ...</td>\n",
       "      <td>[tv, kingrat, russianoligarch, romanabramovich...</td>\n",
       "      <td>tv kingrat russianoligarch romanabramovich sla...</td>\n",
       "      <td>3</td>\n",
       "      <td>2022</td>\n",
       "    </tr>\n",
       "    <tr>\n",
       "      <th>24467</th>\n",
       "      <td>2022-03-13 05:31:04</td>\n",
       "      <td>❄Radical Liberal Snowflake❄ 🇺🇸 🗽🇺🇦🌻</td>\n",
       "      <td>This is my mainly political account, if you're...</td>\n",
       "      <td>Washington State, USA</td>\n",
       "      <td>@lapatina_ Mentality sending all the extra str...</td>\n",
       "      <td>slavaukra ni</td>\n",
       "      <td>[mentality, send, extra, strength, support, ev...</td>\n",
       "      <td>mentality send extra strength support every uk...</td>\n",
       "      <td>3</td>\n",
       "      <td>2022</td>\n",
       "    </tr>\n",
       "  </tbody>\n",
       "</table>\n",
       "</div>"
      ],
      "text/plain": [
       "                     date                                          username  \\\n",
       "24463 2022-03-13 05:33:56                           Joel at Seldon Crisis 🎙   \n",
       "24464 2022-03-13 05:32:32                                                 P   \n",
       "24465 2022-03-13 05:32:04  T0CM, Back to Buy and Hodl. 8.01. Slava Ukraini!   \n",
       "24466 2022-03-13 05:32:00                                           JoCroft   \n",
       "24467 2022-03-13 05:31:04               ❄Radical Liberal Snowflake❄ 🇺🇸 🗽🇺🇦🌻   \n",
       "\n",
       "                                             description  \\\n",
       "24463  Lover of Earth, Mars, and all of Sol's childre...   \n",
       "24464  Scottish. British. Proud. Believer in democrac...   \n",
       "24465                              APES TOGETHER STRONG!   \n",
       "24466  #nipolitics 🇬🇧\\n#Irishpolitics 🇮🇪 🍀 \\n#perazzi...   \n",
       "24467  This is my mainly political account, if you're...   \n",
       "\n",
       "                      location  \\\n",
       "24463    Montara, CA (near SF)   \n",
       "24464      Inverness, Scotland   \n",
       "24465  Launch Pad Waiting Room   \n",
       "24466         Northern Ireland   \n",
       "24467    Washington State, USA   \n",
       "\n",
       "                                                   tweet  \\\n",
       "24463  @Tazerface16 You went and followed me and now ...   \n",
       "24464  @dkaleniuk @McFaul This photo was shared a cou...   \n",
       "24465  #SlavaUkraini  #FuckPutin #Russiangofuckyourse...   \n",
       "24466  @nexta_tv The #KingRat #russianoligarch himsel...   \n",
       "24467  @lapatina_ Mentality sending all the extra str...   \n",
       "\n",
       "                                                hashtags  \\\n",
       "24463                                       slavaukraini   \n",
       "24464                                                nan   \n",
       "24465  slavaukraini    fuckputin    russiangofuckyour...   \n",
       "24466  kingrat    russianoligarch    romanabramovich ...   \n",
       "24467                                       slavaukra ni   \n",
       "\n",
       "                                             clean_tweet  \\\n",
       "24463  [go, follow, ', bring, unfollow, besides, ', g...   \n",
       "24464  [photo, share, couple, day, ago, lpr, alledged...   \n",
       "24465  [slavaukraini, fuckputin, russiangofuckyoursel...   \n",
       "24466  [tv, kingrat, russianoligarch, romanabramovich...   \n",
       "24467  [mentality, send, extra, strength, support, ev...   \n",
       "\n",
       "                                           cleaned_tweet  month  year  \n",
       "24463  go follow ' bring unfollow besides ' get slava...      3  2022  \n",
       "24464  photo share couple day ago lpr alledgedly capt...      3  2022  \n",
       "24465  slavaukraini fuckputin russiangofuckyourselves...      3  2022  \n",
       "24466  tv kingrat russianoligarch romanabramovich sla...      3  2022  \n",
       "24467  mentality send extra strength support every uk...      3  2022  "
      ]
     },
     "execution_count": 65,
     "metadata": {},
     "output_type": "execute_result"
    }
   ],
   "source": [
    "tweets_df.tail()"
   ]
  },
  {
   "cell_type": "code",
   "execution_count": 66,
   "id": "efe25b6b",
   "metadata": {
    "ExecuteTime": {
     "end_time": "2022-03-08T23:07:54.191143Z",
     "start_time": "2022-03-08T23:07:54.181988Z"
    }
   },
   "outputs": [
    {
     "data": {
      "text/plain": [
       "['photo rally support ukraine toronto canada sunday ukraine alone',\n",
       " 'russia propaganda twitter attempt diminish everything ukraine fight spread lie mi',\n",
       " 'friend putin lackey slavaukraini',\n",
       " 'dear prof follow podcast time think sort understand',\n",
       " 'do st petersburg dm would like blurb russian translation',\n",
       " 'speak truth slavaukraini',\n",
       " 'hero slavaukraini',\n",
       " 'slavaukraini good night ukraine keep good fight tonight may saint javelin protector keep',\n",
       " 'sadly take ukraine sacrificial lamb world wake mount unify assault',\n",
       " 'please speak ukraine',\n",
       " 'starlink arrive pretty quickly ukraine slavaukraini ukrainerussiawar',\n",
       " 'glad hear kid okay slavaukraini slavaukraine',\n",
       " 'saw news footage family child separate father ukraine upset',\n",
       " 'swear art form ukraine slavaukraini fckptn',\n",
       " 'much love southern highland nsw australia slavaukraini',\n",
       " 'minute silence lisbon ukraine ukrainerussiawar slavaukraini',\n",
       " 'like laugh johnsonout hoyleout slavaukraini',\n",
       " 'new video ukraine invasion explain get please watch like amp subscribe',\n",
       " 'beautiful unity yet still haunt ever truly find time trauma terror los',\n",
       " 'know almost nothing ukrainian people past week stand awe people resilience slavaukraini',\n",
       " 'beautiful ukraine innocent tear two world pray ukraine slavaukraini',\n",
       " 'usa full support slavaukraini',\n",
       " 'amaze definition fight spirit citizen ukraine inspire see',\n",
       " 'friend donate today slavaukraini',\n",
       " 'show support ukrainian people standwithukriane tomorrow quad pm slavaukraini',\n",
       " 'slavaukraini strong spirit fight hard viking regard',\n",
       " 'thank post disturb know erikprince suppose',\n",
       " \"whiteheaduk tory love farmer much love russian ' worry\",\n",
       " 'lol unbelievable love people slavaukraini',\n",
       " \"interest slavaukraini become st century ' pasaran\",\n",
       " 'slavaukraini opinion michael de adder finest hour washington post',\n",
       " 'get refer pm standwithukraine standingwithukraine slavaukraini stopputin',\n",
       " 'well swift slavaukraini',\n",
       " \"see ' renounce christian value world see slavaukraini\",\n",
       " 'one serious wtf moment father law assemble molotov cocktail balcony kyiv slavaukraini',\n",
       " 'mr president strategic idea blow russian convoy still hav',\n",
       " 'hardship proud pay slavaukraini',\n",
       " \"crisis avert ' russian ' influencer ' amp ' also insta yt tiktok etc originally post insta feb\",\n",
       " 'welcome city slavaukraini ukraine russia putin molotov ukrainerussiawar eu nato',\n",
       " 'time last week catch think oh yeah ukrainian know know slavaukraini',\n",
       " 'steff wessex torybrexitdisaster wessexindy putinsbrexit slavaukraini',\n",
       " 'say stay safe slavaukraini',\n",
       " 'ukraine hit park social medium huge respect team behind',\n",
       " 'even cat hate putin slavaukraini russianarmy',\n",
       " 'hero motherland slavaukraini',\n",
       " 'sorry hear many reason people want government office',\n",
       " \"' do wait gop show capitol attack slavaukraini\",\n",
       " 'absolute warrior slavaukraini',\n",
       " 'craig tomorrow shrink beyond recognition putinwarcriminal slavaukraini',\n",
       " \"signal secure platform use right ' russia ukraine ukraine russiainvasion\",\n",
       " 'good beer open heart slavaukraini',\n",
       " 'president mr zelensky fantastic leader person many people certainly wish ha',\n",
       " 'ck em slavaukraini',\n",
       " 'joke foreign national fight go ukraine slavaukraini',\n",
       " 'pretty certain video post several day ago disprove video expl',\n",
       " 'elate u eu amp nato nation finally find ball cut kremlin financially weste',\n",
       " 'support ukraine stop war slavaukraini stoprussia stopputin putinwarcriminal nft nftcommunity',\n",
       " 'world slavaukraini',\n",
       " \"' notice say much ukraine input change thing ' totally aware cog\",\n",
       " 'verbeek iamcanadian standwithukriane slavaukraini crimeagainsthumanity world crisis',\n",
       " 'meet dems flight kyiv red bull happy talk gam',\n",
       " 'follow canada father family lviv area mother shewchuk',\n",
       " 'think big thing johnsonout hoyleout slavaukraini',\n",
       " 'powerful end programme tonight ukraine stopwarinukraine slavaukraini',\n",
       " 'cologne stand ukraine slavaukraini',\n",
       " 'soon torybrexitdisaster zerotories putinsbrexit slavaukraini',\n",
       " \"america lie ' deserve know truth please tell slavaukraini\",\n",
       " 'good memory odessa cool city full really nice people welcome u visitor hopefully th',\n",
       " 'true galvanize leader slavaukraini',\n",
       " 'stay strong kristina whole world guy slavaukraini',\n",
       " 'map democratic socialist people get bend slavaukraini',\n",
       " 'maybe gift turn around fire slavaukraini',\n",
       " \"brave people ukraine salute ' everything free world right slavaukraini\",\n",
       " 'citizen secure private platform slavaukraini',\n",
       " 'hero europe slavaukraini ukraine',\n",
       " 'good news take time prosecute slavaukraini putinisawarcriminal putputinontrial',\n",
       " 'ignore pig opportunist slavaukraini',\n",
       " 'well do ukraine ukraineinvasion istandwithukriane slavaukraini',\n",
       " 'proud part organization slavaukraini ukraine ukrainerussiawar ukrainewar ukraineinvasion',\n",
       " 'identify vulnerable russian site osint infosec ukraine netlas vulnerability',\n",
       " 'industrial hero slavaukraini',\n",
       " 'sulayem need back ukraine support ukraine ban russian belorussian motorsport',\n",
       " 'slavaukraini stand ukraine',\n",
       " 'mess war always belong invader eg bush kuwait putin ukraine slavaukraini',\n",
       " 'beautiful see people wrap ukrainian flag charlotte city council meet tonight',\n",
       " 'much love idea also need careful since russia easily exploit sneak',\n",
       " 'irc suspend post anti vaxx rubbish wif',\n",
       " 'people u support ukrainian people slavaukraini',\n",
       " 'glory people ukraine slavaukraini handsoffukraine russiagohome',\n",
       " 'guy attention seeker jump popular topic wake opinion use',\n",
       " 'nem let cross slavaukraini',\n",
       " 'hu nem let cross slavaukraini',\n",
       " 'may wake sunshine freedom slavaukraini',\n",
       " 'noteworthy first glimpse acceptable tactic russianarmy happy dis',\n",
       " 'unacceptable literal war crime ukraine ukrainerussiawar ukrainekrieg ukrainewar',\n",
       " 'nhl ovechkin leaf leaf like coach slapshot put bounty ovechkins head',\n",
       " 'defend ukrainian people first time life see far leave friend far right friend',\n",
       " \"dance putin must say ' badass dancer slavaukraini president zelensky fckputin\",\n",
       " 'optimist part brain admittedly small nowadays hope abandon surrender',\n",
       " 'many russian soldier need conquer ukraine dont know let find many die try solve']"
      ]
     },
     "execution_count": 66,
     "metadata": {},
     "output_type": "execute_result"
    }
   ],
   "source": [
    "# Inspect sample of tweets\n",
    "filter_cond = (tweets_df['year']==2022) & (tweets_df['month']==2)\n",
    "list(tweets_df['cleaned_tweet'][filter_cond][:100])"
   ]
  },
  {
   "cell_type": "code",
   "execution_count": 67,
   "id": "7997b5e9",
   "metadata": {
    "ExecuteTime": {
     "end_time": "2022-03-08T23:07:55.847465Z",
     "start_time": "2022-03-08T23:07:55.791176Z"
    }
   },
   "outputs": [
    {
     "data": {
      "text/plain": [
       "(11693, 10)"
      ]
     },
     "execution_count": 67,
     "metadata": {},
     "output_type": "execute_result"
    }
   ],
   "source": [
    "# Remove all tweets which do not have the words \"ukraine\" or \"russia\"\n",
    "target_tweets_df = tweets_df.copy()\n",
    "\n",
    "filter_words = ['ukraine', 'russia']\n",
    "target_tweets_df = target_tweets_df[target_tweets_df[\"cleaned_tweet\"].str.contains('|'.join(filter_words))]\n",
    "target_tweets_df.shape"
   ]
  },
  {
   "cell_type": "markdown",
   "id": "fa442921",
   "metadata": {},
   "source": [
    "## Embeddings"
   ]
  },
  {
   "cell_type": "code",
   "execution_count": 68,
   "id": "8e468224",
   "metadata": {
    "ExecuteTime": {
     "end_time": "2022-03-08T23:08:01.288315Z",
     "start_time": "2022-03-08T23:08:00.806979Z"
    }
   },
   "outputs": [
    {
     "data": {
      "text/plain": [
       "['russia',\n",
       " 'propaganda',\n",
       " 'twitter',\n",
       " 'attempt',\n",
       " 'diminish',\n",
       " 'everything',\n",
       " 'ukraine',\n",
       " 'fight',\n",
       " 'spread',\n",
       " 'lie',\n",
       " 'mi']"
      ]
     },
     "execution_count": 68,
     "metadata": {},
     "output_type": "execute_result"
    }
   ],
   "source": [
    "# Converting the \"clean_text\" column in the format supported by embeddings.\n",
    "sent = [row for row in tweets_df[\"clean_tweet\"]]\n",
    "\n",
    "# Automatically detect common phrases (bigrams) from a list of sentences.\n",
    "phrases = Phrases(sent, min_count=1, progress_per=50000)\n",
    "bigram = Phraser(phrases)\n",
    "sentences = bigram[sent]\n",
    "sentences[1]"
   ]
  },
  {
   "cell_type": "code",
   "execution_count": 69,
   "id": "835e5575",
   "metadata": {
    "ExecuteTime": {
     "end_time": "2022-03-08T23:08:02.735805Z",
     "start_time": "2022-03-08T23:08:02.398078Z"
    }
   },
   "outputs": [],
   "source": [
    "# Initialize vector model\n",
    "\n",
    "w2v_model = Word2Vec(min_count=4,\n",
    "                     window=5,\n",
    "                     vector_size =300,\n",
    "                     sample=1e-5, \n",
    "                     alpha=0.03, \n",
    "                     min_alpha=0.0007, \n",
    "                     negative=20,\n",
    "                     seed= 42,\n",
    "                     workers=multiprocessing.cpu_count()-1)"
   ]
  },
  {
   "cell_type": "code",
   "execution_count": 70,
   "id": "d70f40f5",
   "metadata": {},
   "outputs": [],
   "source": [
    "# Build vocab of the word2vec model from the custom data\n",
    "w2v_model.build_vocab(sentences, progress_per=50000)"
   ]
  },
  {
   "cell_type": "code",
   "execution_count": 71,
   "id": "984ebb82",
   "metadata": {
    "ExecuteTime": {
     "end_time": "2022-03-08T23:08:14.532832Z",
     "start_time": "2022-03-08T23:08:06.359664Z"
    }
   },
   "outputs": [
    {
     "data": {
      "text/plain": [
       "(976813, 5197770)"
      ]
     },
     "execution_count": 71,
     "metadata": {},
     "output_type": "execute_result"
    }
   ],
   "source": [
    "# Train the model\n",
    "w2v_model.train(sentences, \n",
    "                total_examples=w2v_model.corpus_count, \n",
    "                epochs=30, \n",
    "                report_delay=1)"
   ]
  },
  {
   "cell_type": "code",
   "execution_count": 72,
   "id": "4ceb42bb",
   "metadata": {
    "ExecuteTime": {
     "end_time": "2022-03-08T23:08:34.537280Z",
     "start_time": "2022-03-08T23:08:34.527924Z"
    }
   },
   "outputs": [
    {
     "data": {
      "text/plain": [
       "[('fa', 0.9996999502182007),\n",
       " ('complete', 0.9996972680091858),\n",
       " ('johnson', 0.9996960163116455),\n",
       " ('organize', 0.9996914267539978),\n",
       " ('table', 0.9996911287307739),\n",
       " ('range', 0.9996908903121948),\n",
       " ('doctor', 0.9996902942657471),\n",
       " ('happy_birthday', 0.9996885657310486),\n",
       " ('become', 0.9996870756149292),\n",
       " ('heart', 0.9996864795684814)]"
      ]
     },
     "execution_count": 72,
     "metadata": {},
     "output_type": "execute_result"
    }
   ],
   "source": [
    "# Check similar words to war in the corpus\n",
    "w2v_model.wv.most_similar(positive=[\"war\"])"
   ]
  },
  {
   "cell_type": "code",
   "execution_count": 73,
   "id": "3a1922d1",
   "metadata": {},
   "outputs": [],
   "source": [
    "# Save the word2vec model\n",
    "# w2v_model.save(\"../models/word2vec.model\")"
   ]
  },
  {
   "cell_type": "code",
   "execution_count": 74,
   "id": "fb6d23fe",
   "metadata": {},
   "outputs": [],
   "source": [
    "# Load the word2vec model\n",
    "# word_vectors = Word2Vec.load(\"../models/word2vec.model\").wv\n",
    "word_vectors = w2v_model.wv"
   ]
  },
  {
   "cell_type": "markdown",
   "id": "72035b17",
   "metadata": {},
   "source": [
    "## Clustering model"
   ]
  },
  {
   "cell_type": "code",
   "execution_count": 75,
   "id": "806f28d5",
   "metadata": {
    "ExecuteTime": {
     "end_time": "2022-03-08T23:08:42.072634Z",
     "start_time": "2022-03-08T23:08:39.974637Z"
    }
   },
   "outputs": [],
   "source": [
    "# Feed the embeddings to a KMeans model to cluster words into positive, negative, and neutral clusters\n",
    "cluster_model = KMeans(n_clusters=3, \n",
    "               max_iter=1000, \n",
    "               random_state=42, \n",
    "               n_init=50).fit(X=word_vectors.vectors.astype('double'))"
   ]
  },
  {
   "cell_type": "code",
   "execution_count": 29,
   "id": "6ac39284",
   "metadata": {},
   "outputs": [
    {
     "data": {
      "text/plain": [
       "[('neverwherdle', 0.10658860951662064),\n",
       " ('russia_lapresse', 0.024935027584433556),\n",
       " ('ukranian_woman', -0.9974691867828369),\n",
       " ('amp_iranian', -0.9975388050079346),\n",
       " ('day_brave', -0.9978143572807312),\n",
       " ('woman_woman', -0.9978271722793579),\n",
       " ('happy_international', -0.9980980157852173),\n",
       " ('actually_make', -0.9984676837921143),\n",
       " ('like_duck', -0.9985438585281372),\n",
       " ('nobel_peace', -0.9986076354980469)]"
      ]
     },
     "execution_count": 29,
     "metadata": {},
     "output_type": "execute_result"
    }
   ],
   "source": [
    "word_vectors.most_similar(negative=['bad', 'suffer', 'bomb'])"
   ]
  },
  {
   "cell_type": "code",
   "execution_count": null,
   "id": "2bb9af02",
   "metadata": {},
   "outputs": [],
   "source": []
  },
  {
   "cell_type": "code",
   "execution_count": 46,
   "id": "b9266870",
   "metadata": {},
   "outputs": [
    {
     "name": "stdout",
     "output_type": "stream",
     "text": [
      "Cluster 0\t\t\tCluster 1\t\t\tCluster 2\n",
      "---------\t\t\t---------\t\t\t---------\n",
      "0: ancient - (0.99986)\t\tancient - (0.99986)\t\tancient - (0.99986)\n",
      "1: later - (0.99986)\t\tlater - (0.99986)\t\tthousand - (0.99986)\n",
      "2: hospital - (0.99985)\t\theartbreaking - (0.99985)\t\tlater - (0.99986)\n",
      "3: thousand - (0.99985)\t\tthousand - (0.99985)\t\tseveral - (0.99985)\n",
      "4: heartbreaking - (0.99985)\t\tsound - (0.99985)\t\thospital - (0.99985)\n",
      "5: several - (0.99985)\t\thospital - (0.99985)\t\tsound - (0.99985)\n",
      "6: sound - (0.99985)\t\tseveral - (0.99985)\t\teffort - (0.99985)\n",
      "7: aslund - (0.99985)\t\taslund - (0.99985)\t\theartbreaking - (0.99985)\n",
      "8: effort - (0.99985)\t\teffort - (0.99985)\t\tface - (0.99985)\n",
      "9: street - (0.99985)\t\tabc_news - (0.99985)\t\tabc_news - (0.99985)\n",
      "10: face - (0.99985)\t\tstreet - (0.99985)\t\tstreet - (0.99985)\n",
      "11: abc_news - (0.99985)\t\tface - (0.99985)\t\taslund - (0.99985)\n",
      "12: swear - (0.99985)\t\twarn - (0.99985)\t\tcoward - (0.99985)\n",
      "13: warn - (0.99985)\t\tswear - (0.99985)\t\tswear - (0.99985)\n",
      "14: coward - (0.99985)\t\tcoward - (0.99985)\t\tfellow - (0.99985)\n",
      "15: announce - (0.99985)\t\tmute - (0.99985)\t\tjohnsonout_hoyleout - (0.99985)\n",
      "16: mute - (0.99985)\t\tannounce - (0.99985)\t\tmute - (0.99985)\n",
      "17: sa - (0.99985)\t\tball - (0.99985)\t\tabsolute - (0.99985)\n",
      "18: kosovo - (0.99985)\t\tsa - (0.99985)\t\teastern_european - (0.99985)\n",
      "19: ball - (0.99985)\t\teastern_european - (0.99985)\t\tannounce - (0.99985)\n"
     ]
    }
   ],
   "source": [
    "cluster_values = zip(word_vectors.similar_by_vector(cluster_model.cluster_centers_[0], \n",
    "                                                        topn=20, \n",
    "                                                        restrict_vocab=None),\n",
    "    word_vectors.similar_by_vector(cluster_model.cluster_centers_[1], \n",
    "                                                        topn=20, \n",
    "                                                        restrict_vocab=None),\n",
    "    word_vectors.similar_by_vector(cluster_model.cluster_centers_[2], \n",
    "                                                        topn=20, \n",
    "                                                        restrict_vocab=None))\n",
    "\n",
    "print('Cluster 0\\t\\t\\tCluster 1\\t\\t\\tCluster 2')\n",
    "print('---------\\t\\t\\t---------\\t\\t\\t---------')\n",
    "for i, (c1, c2, c3) in enumerate(cluster_values):\n",
    "    print(f'{i}: {c1[0]} - ({str(c1[1])[:7]})\\t\\t{c2[0]} - ({str(c2[1])[:7]})\\t\\t{c3[0]} - ({str(c3[1])[:7]})')\n"
   ]
  },
  {
   "cell_type": "code",
   "execution_count": 48,
   "id": "a5718728",
   "metadata": {},
   "outputs": [],
   "source": [
    "test = list(cluster_values)"
   ]
  },
  {
   "cell_type": "code",
   "execution_count": 36,
   "id": "57710895",
   "metadata": {
    "ExecuteTime": {
     "end_time": "2022-03-08T23:08:42.963070Z",
     "start_time": "2022-03-08T23:08:42.944624Z"
    }
   },
   "outputs": [
    {
     "name": "stdout",
     "output_type": "stream",
     "text": [
      "0: ancient - (0.9998633861541748)\n",
      "1: later - (0.9998631477355957)\n",
      "2: hospital - (0.9998594522476196)\n",
      "3: thousand - (0.9998593330383301)\n",
      "4: heartbreaking - (0.9998591542243958)\n",
      "5: several - (0.999858021736145)\n",
      "6: sound - (0.9998573660850525)\n",
      "7: aslund - (0.9998570680618286)\n",
      "8: effort - (0.9998566508293152)\n",
      "9: street - (0.9998552203178406)\n",
      "10: face - (0.9998547434806824)\n",
      "11: abc_news - (0.9998543858528137)\n",
      "12: swear - (0.9998542666435242)\n",
      "13: warn - (0.9998539686203003)\n",
      "14: coward - (0.9998530745506287)\n",
      "15: announce - (0.9998522996902466)\n",
      "16: mute - (0.9998515248298645)\n",
      "17: sa - (0.9998512864112854)\n",
      "18: kosovo - (0.9998509287834167)\n",
      "19: ball - (0.9998506307601929)\n",
      "\n",
      "\n",
      "[('ancient', 0.9998639822006226), ('later', 0.9998628497123718), ('heartbreaking', 0.9998595714569092), ('thousand', 0.9998592734336853), ('sound', 0.9998583197593689), ('hospital', 0.9998580813407898), ('several', 0.9998574256896973), ('aslund', 0.9998572468757629), ('effort', 0.9998562932014465), ('abc_news', 0.999855101108551), ('street', 0.9998542666435242), ('face', 0.9998538494110107), ('warn', 0.9998536705970764), ('swear', 0.9998534917831421), ('coward', 0.999853253364563), ('mute', 0.9998521208763123), ('announce', 0.9998519420623779), ('ball', 0.9998512864112854), ('sa', 0.9998512268066406), ('eastern_european', 0.9998509287834167)]\n",
      "\n",
      "[('ancient', 0.9998626708984375), ('thousand', 0.9998611807823181), ('later', 0.9998610019683838), ('several', 0.9998562335968018), ('hospital', 0.9998555183410645), ('sound', 0.9998555183410645), ('effort', 0.9998555183410645), ('heartbreaking', 0.9998548030853271), ('face', 0.9998543858528137), ('abc_news', 0.9998541474342346), ('street', 0.9998540878295898), ('aslund', 0.9998539686203003), ('coward', 0.9998526573181152), ('swear', 0.9998518228530884), ('fellow', 0.9998514652252197), ('johnsonout_hoyleout', 0.9998510479927063), ('mute', 0.9998509883880615), ('absolute', 0.9998506903648376), ('eastern_european', 0.9998506307601929), ('announce', 0.9998503923416138)]\n"
     ]
    }
   ],
   "source": [
    "# Check each cluster to label the clusters\n",
    "for i, (word, vector) in enumerate(word_vectors.similar_by_vector(cluster_model.cluster_centers_[0], \n",
    "                                                        topn=20, \n",
    "                                                        restrict_vocab=None)):\n",
    "\n",
    "    print(f'{i}: {word} - ({vector})')\n",
    "\n",
    "print()\n",
    "print()\n",
    "print(word_vectors.similar_by_vector(cluster_model.cluster_centers_[1], \n",
    "                               topn=20, \n",
    "                               restrict_vocab=None))\n",
    "print()\n",
    "print(word_vectors.similar_by_vector(cluster_model.cluster_centers_[2], \n",
    "                               topn=20, \n",
    "                               restrict_vocab=None))"
   ]
  },
  {
   "cell_type": "code",
   "execution_count": null,
   "id": "68cc8932",
   "metadata": {},
   "outputs": [],
   "source": []
  },
  {
   "cell_type": "code",
   "execution_count": 76,
   "id": "e2d122bf",
   "metadata": {},
   "outputs": [
    {
     "name": "stdout",
     "output_type": "stream",
     "text": [
      "[('toy', 0.9998560547828674), ('along', 0.9998544454574585), ('capital', 0.9998512864112854), ('russianwarcrimes', 0.999850869178772), ('table', 0.9998483657836914), ('farmer', 0.9998480677604675), ('brigade', 0.9998468160629272), ('answer', 0.9998465776443481), ('within', 0.999846339225769), ('regardless', 0.9998459219932556)]\n"
     ]
    }
   ],
   "source": [
    "temp = word_vectors.similar_by_vector(cluster_model.cluster_centers_[0], \n",
    "                               topn=10, \n",
    "                               restrict_vocab=None)\n",
    "\n",
    "print(temp)"
   ]
  },
  {
   "cell_type": "code",
   "execution_count": 83,
   "id": "a4f1434d",
   "metadata": {},
   "outputs": [
    {
     "data": {
      "text/plain": [
       "[('russianaggression', 0.9997856020927429),\n",
       " ('pound', 0.9997782111167908),\n",
       " ('warrior', 0.9997779130935669),\n",
       " ('survival', 0.9997776746749878),\n",
       " ('manage', 0.9997773170471191),\n",
       " ('nuclear', 0.9997752904891968),\n",
       " ('game', 0.999774158000946),\n",
       " ('early', 0.9997735023498535),\n",
       " ('whatever', 0.9997727870941162),\n",
       " ('ta', 0.9997723698616028)]"
      ]
     },
     "execution_count": 83,
     "metadata": {},
     "output_type": "execute_result"
    }
   ],
   "source": [
    "word_vectors.most_similar(positive=['slava', 'slavaukraine'], restrict_vocab=False)"
   ]
  },
  {
   "cell_type": "code",
   "execution_count": 86,
   "id": "7a34b3be",
   "metadata": {},
   "outputs": [
    {
     "data": {
      "text/plain": [
       "[('coffee', 0.9997217655181885),\n",
       " ('wa', 0.9997190237045288),\n",
       " ('mum', 0.9997183680534363),\n",
       " ('within', 0.9997137188911438),\n",
       " ('escalation', 0.9997112154960632),\n",
       " ('foot', 0.9997074604034424),\n",
       " ('forever', 0.9997039437294006),\n",
       " ('meanwhile', 0.9997033476829529),\n",
       " ('starmer', 0.9997005462646484),\n",
       " ('georgian', 0.9997005462646484)]"
      ]
     },
     "execution_count": 86,
     "metadata": {},
     "output_type": "execute_result"
    }
   ],
   "source": [
    "word_vectors.similar_by_word('suffer', restrict_vocab=False)"
   ]
  },
  {
   "cell_type": "code",
   "execution_count": 82,
   "id": "d71953c6",
   "metadata": {},
   "outputs": [
    {
     "data": {
      "text/plain": [
       "[('russia_lapresse', -0.0788167417049408),\n",
       " ('neverwherdle', -0.9909428358078003),\n",
       " ('woman_woman', -0.9941052198410034),\n",
       " ('day_brave', -0.9941832423210144),\n",
       " ('amp_iranian', -0.9942304491996765),\n",
       " ('happy_international', -0.9944518208503723),\n",
       " ('ukranian_woman', -0.9947688579559326),\n",
       " ('nobel_peace', -0.9948393702507019),\n",
       " ('ronald_reagan', -0.9956508874893188),\n",
       " ('world_depend', -0.9956626892089844)]"
      ]
     },
     "execution_count": 82,
     "metadata": {},
     "output_type": "execute_result"
    }
   ],
   "source": [
    "word_vectors.most_similar(negative=['death', 'suffer'], positive=['freedom'], restrict_vocab=False)"
   ]
  },
  {
   "cell_type": "code",
   "execution_count": null,
   "id": "1745e4bb",
   "metadata": {
    "ExecuteTime": {
     "end_time": "2022-03-08T23:08:47.746050Z",
     "start_time": "2022-03-08T23:08:47.742571Z"
    }
   },
   "outputs": [],
   "source": [
    "# Label the clusters based on the type of words they carry\n",
    "positive_cluster_center = cluster_model.cluster_centers_[2]\n",
    "negative_cluster_center = cluster_model.cluster_centers_[1]\n",
    "neutral_cluster_center= cluster_model.cluster_centers_[0]"
   ]
  },
  {
   "cell_type": "code",
   "execution_count": null,
   "id": "77cd075b",
   "metadata": {
    "ExecuteTime": {
     "end_time": "2022-03-08T23:08:50.910260Z",
     "start_time": "2022-03-08T23:08:48.982560Z"
    }
   },
   "outputs": [],
   "source": [
    "# Create a DataFrame of words with their embeddings and cluster values\n",
    "\n",
    "words = pd.DataFrame(word_vectors.index_to_key)\n",
    "words.columns = ['words']\n",
    "words['vectors'] = words.words.apply(lambda x: word_vectors[f'{x}'])\n",
    "words['cluster'] = words.vectors.apply(lambda x: cluster_model.predict([np.array(x)]))\n",
    "words.cluster = words.cluster.apply(lambda x: x[0])"
   ]
  },
  {
   "cell_type": "code",
   "execution_count": null,
   "id": "c178c284",
   "metadata": {
    "ExecuteTime": {
     "end_time": "2022-03-08T23:08:52.897111Z",
     "start_time": "2022-03-08T23:08:51.959235Z"
    }
   },
   "outputs": [],
   "source": [
    "# Assign 1 to positive values, 0 to neutral and -1 for negative values\n",
    "words['cluster_value'] = [1 if i==2 else 0 if i==0 else -1 for i in words.cluster]\n",
    "words['closeness_score'] = words.apply(lambda x: 1/(cluster_model.transform([x.vectors]).min()), axis=1)"
   ]
  },
  {
   "cell_type": "code",
   "execution_count": null,
   "id": "3c67d6d3",
   "metadata": {},
   "outputs": [],
   "source": [
    "# Save word embeddings to file\n",
    "words.to_csv('../embeddings/words.csv')"
   ]
  },
  {
   "cell_type": "code",
   "execution_count": null,
   "id": "59861fdb",
   "metadata": {},
   "outputs": [],
   "source": [
    "# Load word embeddings\n",
    "# words = pd.read_csv('../embeddings/words.csv')"
   ]
  },
  {
   "cell_type": "markdown",
   "id": "4bc045f7",
   "metadata": {},
   "source": [
    "## Analysis"
   ]
  },
  {
   "cell_type": "code",
   "execution_count": null,
   "id": "4ff184a4",
   "metadata": {
    "ExecuteTime": {
     "end_time": "2022-03-08T23:08:56.799268Z",
     "start_time": "2022-03-08T23:08:56.774204Z"
    }
   },
   "outputs": [],
   "source": [
    "# Display negative values\n",
    "words[words[\"cluster_value\"]==-1].sort_values(\"closeness_score\")"
   ]
  },
  {
   "cell_type": "code",
   "execution_count": null,
   "id": "008fa57c",
   "metadata": {
    "ExecuteTime": {
     "end_time": "2022-03-08T23:09:00.647016Z",
     "start_time": "2022-03-08T23:09:00.512129Z"
    }
   },
   "outputs": [],
   "source": [
    "# Plot pie chart of Sentiment Distribution of words\n",
    "emotion = {\n",
    "        0: \"neutral\",\n",
    "        1: \"positive\",\n",
    "        -1: \"negative\"\n",
    "}\n",
    "\n",
    "words[\"sentiments\"] = words[\"cluster_value\"].map(emotion)\n",
    "\n",
    "fig = plt.gcf()\n",
    "fig.set_size_inches(7,7)\n",
    "colors = [\"cyan\",\"pink\",\"yellow\"]\n",
    "\n",
    "words_df_pie = words[\"sentiments\"].value_counts().reset_index()\n",
    "\n",
    "plt.pie(words_df_pie[\"sentiments\"],\n",
    "        labels=words_df_pie[\"index\"],\n",
    "        radius=2,\n",
    "        colors=colors,\n",
    "        autopct=\"%1.1f%%\")\n",
    "\n",
    "plt.axis('equal')\n",
    "plt.title(\"Sentiment Distribution of Words\", fontsize=20)\n",
    "plt.show()\n",
    "words_df_pie"
   ]
  },
  {
   "cell_type": "code",
   "execution_count": null,
   "id": "6c02f3c8",
   "metadata": {
    "ExecuteTime": {
     "end_time": "2022-03-08T23:09:04.902246Z",
     "start_time": "2022-03-08T23:09:04.898135Z"
    }
   },
   "outputs": [],
   "source": [
    "# Define a function to get the sentiment for the entire tweet\n",
    "def getSentiments(row, sentiment_dict):\n",
    "\n",
    "    total=0\n",
    "    count=0\n",
    "    test = row[\"clean_tweet\"]\n",
    "    for t in test:\n",
    "        if words_cluster_dict.get(t):\n",
    "            total+=int(sentiment_dict.get(t))\n",
    "        count+=1 \n",
    "        \n",
    "    avg = total / count\n",
    "    return -1 if (avg < -0.15) else 1 if (avg > 0.15) else 0"
   ]
  },
  {
   "cell_type": "code",
   "execution_count": null,
   "id": "c7c06983",
   "metadata": {
    "ExecuteTime": {
     "end_time": "2022-03-08T23:09:06.364299Z",
     "start_time": "2022-03-08T23:09:06.359522Z"
    }
   },
   "outputs": [],
   "source": [
    "# Create a dictionary of the word and its cluster value\n",
    "words_cluster_dict = dict(zip(words.words, words.cluster_value))"
   ]
  },
  {
   "cell_type": "code",
   "execution_count": null,
   "id": "49e2464f",
   "metadata": {
    "ExecuteTime": {
     "end_time": "2022-03-08T23:09:07.712484Z",
     "start_time": "2022-03-08T23:09:07.559199Z"
    }
   },
   "outputs": [],
   "source": [
    "# Add sentiment column\n",
    "target_tweets_df[\"sentiment\"] = target_tweets_df.apply(getSentiments,\n",
    "                                                         args=(words_cluster_dict,),\n",
    "                                                         axis=1)"
   ]
  },
  {
   "cell_type": "code",
   "execution_count": null,
   "id": "1f0122b3",
   "metadata": {
    "ExecuteTime": {
     "end_time": "2022-03-08T23:09:09.687625Z",
     "start_time": "2022-03-08T23:09:09.677931Z"
    }
   },
   "outputs": [],
   "source": [
    "# Check the value counts of each sentiment\n",
    "target_tweets_df[\"sentiment\"].value_counts()"
   ]
  },
  {
   "cell_type": "code",
   "execution_count": null,
   "id": "2f7caef2",
   "metadata": {
    "ExecuteTime": {
     "end_time": "2022-03-08T23:09:11.398788Z",
     "start_time": "2022-03-08T23:09:11.295335Z"
    }
   },
   "outputs": [],
   "source": [
    "# Plotting pie chart of Sentiment Distribution of tweets\n",
    "emotion = {\n",
    "        0: \"neutral\",\n",
    "        1: \"positive\",\n",
    "        -1: \"negative\"\n",
    "}\n",
    "\n",
    "target_tweets_df[\"sentiments_val\"] = target_tweets_df[\"sentiment\"].map(emotion)\n",
    "\n",
    "fig = plt.gcf()\n",
    "fig.set_size_inches(7,7)\n",
    "colors = [\"yellow\",\"cyan\",\"pink\"]\n",
    "\n",
    "tweets_df_pie = target_tweets_df[\"sentiments_val\"].value_counts().reset_index()\n",
    "\n",
    "plt.pie(tweets_df_pie[\"sentiments_val\"],\n",
    "        labels=tweets_df_pie[\"index\"],\n",
    "        radius=2,\n",
    "        autopct=\"%1.1f%%\",\n",
    "        colors=colors)\n",
    "\n",
    "plt.axis('equal')\n",
    "plt.title(\"Sentiment Distribution of Tweets \", fontsize=20)\n",
    "plt.show()\n",
    "tweets_df_pie"
   ]
  },
  {
   "cell_type": "code",
   "execution_count": null,
   "id": "ce1c91af",
   "metadata": {},
   "outputs": [],
   "source": [
    "# Save sentiment df\n",
    "target_tweets_df.to_csv('../data/slava_ukraini_tweets_sentiment.csv')"
   ]
  },
  {
   "cell_type": "code",
   "execution_count": null,
   "id": "a7184ec1",
   "metadata": {
    "ExecuteTime": {
     "end_time": "2022-03-08T23:09:19.581909Z",
     "start_time": "2022-03-08T23:09:19.572587Z"
    }
   },
   "outputs": [],
   "source": [
    "# Extract negative sentiments\n",
    "negative_tweets_df = target_tweets_df[target_tweets_df[\"sentiment\"]==-1]"
   ]
  },
  {
   "cell_type": "code",
   "execution_count": null,
   "id": "d1bec240",
   "metadata": {
    "ExecuteTime": {
     "end_time": "2022-03-08T23:09:20.557891Z",
     "start_time": "2022-03-08T23:09:20.550246Z"
    }
   },
   "outputs": [],
   "source": [
    "# Inspect the cause of negative tweets\n",
    "filter_cond = (target_tweets_df['year']==2022) & (target_tweets_df['month']==2)\n",
    "list(negative_tweets_df['cleaned_tweet'][filter_cond])"
   ]
  },
  {
   "cell_type": "code",
   "execution_count": null,
   "id": "de1bf6e2",
   "metadata": {
    "ExecuteTime": {
     "end_time": "2022-03-08T23:09:21.949980Z",
     "start_time": "2022-03-08T23:09:21.944400Z"
    }
   },
   "outputs": [],
   "source": [
    "# Trim for sample of negative tweets\n",
    "list(negative_tweets_df[\"cleaned_tweet\"][300:330])"
   ]
  },
  {
   "cell_type": "markdown",
   "id": "00a6a030",
   "metadata": {},
   "source": [
    "## Visualization"
   ]
  },
  {
   "cell_type": "code",
   "execution_count": null,
   "id": "5e16a956",
   "metadata": {
    "ExecuteTime": {
     "end_time": "2022-03-08T23:09:24.155639Z",
     "start_time": "2022-03-08T23:09:24.031642Z"
    }
   },
   "outputs": [],
   "source": [
    "# Inspect keyword sentiment\n",
    "selections = ['slava', 'zelensky', 'volodimir']\n",
    "\n",
    "keyword_sent_df = target_tweets_df[(target_tweets_df[\"cleaned_tweet\"].str.contains('|'.join(selections)))]\n",
    "sns.countplot(x=keyword_sent_df[\"sentiments_val\"]);"
   ]
  },
  {
   "cell_type": "code",
   "execution_count": null,
   "id": "6cca59ea",
   "metadata": {
    "ExecuteTime": {
     "end_time": "2022-03-08T23:09:25.387014Z",
     "start_time": "2022-03-08T23:09:25.278499Z"
    }
   },
   "outputs": [],
   "source": [
    "# Inspect ukraine sentiment\n",
    "selections = [\"ukraine\"]\n",
    "\n",
    "keyword_sent_df = target_tweets_df[(target_tweets_df[\"cleaned_tweet\"].str.contains('|'.join(selections)))]\n",
    "sns.countplot(x = keyword_sent_df[\"sentiments_val\"]);"
   ]
  },
  {
   "cell_type": "code",
   "execution_count": null,
   "id": "21bce9bc",
   "metadata": {
    "ExecuteTime": {
     "end_time": "2022-03-08T23:09:26.387405Z",
     "start_time": "2022-03-08T23:09:26.257433Z"
    }
   },
   "outputs": [],
   "source": [
    "# Inspect russia sentiment\n",
    "selections = [\"russia\"]\n",
    "\n",
    "keyword_sent_df = target_tweets_df[(target_tweets_df[\"cleaned_tweet\"].str.contains('|'.join(selections)))]\n",
    "sns.countplot(x=keyword_sent_df[\"sentiments_val\"]);"
   ]
  },
  {
   "cell_type": "code",
   "execution_count": null,
   "id": "b269ed78",
   "metadata": {
    "ExecuteTime": {
     "end_time": "2022-03-08T23:09:28.310090Z",
     "start_time": "2022-03-08T23:09:28.206208Z"
    }
   },
   "outputs": [],
   "source": [
    "# Tweet counts\n",
    "\n",
    "plt.subplots(figsize = (10,8))\n",
    "\n",
    "chart = sns.countplot(x=\"month\", data=target_tweets_df, palette=\"Set2\");\n",
    "chart.set_xticklabels(chart.get_xticklabels())\n",
    "\n",
    "plt.title(\"Tweets per Month \", fontsize=20)\n",
    "plt.show()"
   ]
  },
  {
   "cell_type": "code",
   "execution_count": null,
   "id": "514c9496",
   "metadata": {
    "ExecuteTime": {
     "end_time": "2022-03-08T23:09:32.264526Z",
     "start_time": "2022-03-08T23:09:32.111605Z"
    }
   },
   "outputs": [],
   "source": [
    "# Tweet sentiments for each month\n",
    "plt.subplots(figsize = (10,8))\n",
    "\n",
    "chart = sns.countplot(x=\"month\", data=target_tweets_df, palette=\"Set2\", hue=\"sentiments_val\");\n",
    "chart.set_xticklabels(chart.get_xticklabels())\n",
    "\n",
    "plt.title(\"Tweets Sentiments' per month \", fontsize=20)\n",
    "plt.show();"
   ]
  },
  {
   "cell_type": "code",
   "execution_count": null,
   "id": "048ee039",
   "metadata": {
    "ExecuteTime": {
     "end_time": "2022-03-08T23:09:33.913535Z",
     "start_time": "2022-03-08T23:09:33.622965Z"
    }
   },
   "outputs": [],
   "source": [
    "# Top 10 highest tweeting usernames\n",
    "plt.subplots(figsize = (10,8))\n",
    "\n",
    "plt.title(\"Top 10 highest tweeting usernames\", fontsize=20)\n",
    "\n",
    "chart = sns.countplot(x=\"username\",\n",
    "                    hue=\"sentiments_val\",\n",
    "                    data=target_tweets_df,\n",
    "                    palette=\"Set2\",\n",
    "                    order= target_tweets_df[\"username\"].value_counts().iloc[:10].index);\n",
    "\n",
    "chart.set_xticklabels(chart.get_xticklabels(), \n",
    "                      rotation=30, \n",
    "                      horizontalalignment='right');"
   ]
  },
  {
   "cell_type": "code",
   "execution_count": null,
   "id": "f4d920b2",
   "metadata": {
    "ExecuteTime": {
     "end_time": "2022-03-08T23:09:36.388620Z",
     "start_time": "2022-03-08T23:09:36.086196Z"
    }
   },
   "outputs": [],
   "source": [
    "# Top 10 most used hashtags\n",
    "plt.subplots(figsize = (15,10))\n",
    "plt.title(\"Top 10 hashtags\", fontsize=20)\n",
    "\n",
    "chart=sns.countplot(x=\"hashtags\",\n",
    "                    hue=\"sentiments_val\",\n",
    "                    data=target_tweets_df,\n",
    "                    palette=\"Set2\",\n",
    "                    order=target_tweets_df[\"hashtags\"].value_counts().iloc[1:10].index);\n",
    "\n",
    "chart.set_xticklabels(chart.get_xticklabels(), \n",
    "                      rotation=30, \n",
    "                      horizontalalignment='right');"
   ]
  },
  {
   "cell_type": "markdown",
   "id": "eaa192ad",
   "metadata": {},
   "source": [
    "### WordCloud"
   ]
  },
  {
   "cell_type": "code",
   "execution_count": null,
   "id": "511ac525",
   "metadata": {
    "ExecuteTime": {
     "end_time": "2022-03-08T23:09:38.618261Z",
     "start_time": "2022-03-08T23:09:38.614042Z"
    }
   },
   "outputs": [],
   "source": [
    "def generateWordcloud(text):\n",
    "    words=' '.join([words for words in text])\n",
    "    wordcloud = WordCloud(max_font_size=50, max_words=100, background_color=\"white\").generate(words)\n",
    "    plt.figure(figsize=(10, 7))\n",
    "    plt.imshow(wordcloud, interpolation=\"bilinear\")\n",
    "    plt.axis('off')\n",
    "    plt.show()"
   ]
  },
  {
   "cell_type": "code",
   "execution_count": null,
   "id": "4d58d634",
   "metadata": {
    "ExecuteTime": {
     "end_time": "2022-03-08T23:09:40.610661Z",
     "start_time": "2022-03-08T23:09:39.844066Z"
    }
   },
   "outputs": [],
   "source": [
    "# Wordcloud for all tweets\n",
    "generateWordcloud(target_tweets_df[\"cleaned_tweet\"].values)"
   ]
  },
  {
   "cell_type": "code",
   "execution_count": null,
   "id": "f02d4a0c",
   "metadata": {
    "ExecuteTime": {
     "end_time": "2022-03-08T23:09:41.457843Z",
     "start_time": "2022-03-08T23:09:41.271319Z"
    }
   },
   "outputs": [],
   "source": [
    "# Wordcloud for positive tweets\n",
    "generateWordcloud(target_tweets_df[target_tweets_df[\"sentiment\"]==1][\"cleaned_tweet\"].values)"
   ]
  },
  {
   "cell_type": "code",
   "execution_count": null,
   "id": "1a2c0f42",
   "metadata": {
    "ExecuteTime": {
     "end_time": "2022-03-08T23:09:42.759095Z",
     "start_time": "2022-03-08T23:09:42.161795Z"
    }
   },
   "outputs": [],
   "source": [
    "# Wordcloud for negative tweets\n",
    "generateWordcloud(target_tweets_df[target_tweets_df[\"sentiment\"]==-1][\"cleaned_tweet\"].values)"
   ]
  },
  {
   "cell_type": "code",
   "execution_count": null,
   "id": "b29e920c",
   "metadata": {
    "ExecuteTime": {
     "end_time": "2022-03-08T23:09:43.423000Z",
     "start_time": "2022-03-08T23:09:43.054235Z"
    }
   },
   "outputs": [],
   "source": [
    "# Wordcloud for neutral tweets\n",
    "generateWordcloud(target_tweets_df[target_tweets_df[\"sentiment\"]==0][\"cleaned_tweet\"].values)"
   ]
  },
  {
   "cell_type": "code",
   "execution_count": null,
   "id": "5f4b3c72",
   "metadata": {},
   "outputs": [],
   "source": []
  },
  {
   "cell_type": "code",
   "execution_count": null,
   "id": "b5adc885",
   "metadata": {},
   "outputs": [],
   "source": []
  },
  {
   "cell_type": "markdown",
   "id": "82308f68",
   "metadata": {},
   "source": [
    "## Prediction modelling"
   ]
  },
  {
   "cell_type": "code",
   "execution_count": null,
   "id": "e67db023",
   "metadata": {
    "ExecuteTime": {
     "end_time": "2022-03-08T23:09:44.861294Z",
     "start_time": "2022-03-08T23:09:44.845583Z"
    }
   },
   "outputs": [],
   "source": [
    "target_tweets_df.head()"
   ]
  },
  {
   "cell_type": "code",
   "execution_count": null,
   "id": "5ae9ca14",
   "metadata": {
    "ExecuteTime": {
     "end_time": "2022-03-08T23:09:46.370907Z",
     "start_time": "2022-03-08T23:09:46.360701Z"
    }
   },
   "outputs": [],
   "source": [
    "# Convert each sentiment to df (no need to worry about memory crash, small dataset)\n",
    "pos_df = target_tweets_df[target_tweets_df[\"sentiments_val\"]==\"positive\"]\n",
    "neg_df = target_tweets_df[target_tweets_df[\"sentiments_val\"]==\"negative\"]\n",
    "neu_df = target_tweets_df[target_tweets_df[\"sentiments_val\"]==\"neutral\"]"
   ]
  },
  {
   "cell_type": "code",
   "execution_count": null,
   "id": "c8a45c80",
   "metadata": {
    "ExecuteTime": {
     "end_time": "2022-03-08T23:09:48.162522Z",
     "start_time": "2022-03-08T23:09:48.155517Z"
    }
   },
   "outputs": [],
   "source": [
    "# Combine all sentiments in one df\n",
    "sentiments_df_list = [pos_df, neg_df, neu_df] \n",
    "agg_sentiment_df = pd.concat(sentiments_df_list)"
   ]
  },
  {
   "cell_type": "code",
   "execution_count": null,
   "id": "8d97d53c",
   "metadata": {
    "ExecuteTime": {
     "end_time": "2022-03-08T23:09:49.374945Z",
     "start_time": "2022-03-08T23:09:49.361744Z"
    }
   },
   "outputs": [],
   "source": [
    "# Split the data to training, testing, and validation data \n",
    "train_test_df, valid_df = train_test_split(agg_sentiment_df, test_size=0.2, random_state=10)"
   ]
  },
  {
   "cell_type": "code",
   "execution_count": null,
   "id": "d0c19c5b",
   "metadata": {
    "ExecuteTime": {
     "end_time": "2022-03-08T23:09:50.597254Z",
     "start_time": "2022-03-08T23:09:50.590553Z"
    }
   },
   "outputs": [],
   "source": [
    "X = train_test_df['cleaned_tweet']\n",
    "y = train_test_df['sentiment']\n",
    "\n",
    "# Split the dataset set int0 training and test set\n",
    "X_train, X_test, y_train, y_test = train_test_split(X, y, test_size=0.2, random_state=42)"
   ]
  },
  {
   "cell_type": "markdown",
   "id": "b2ad682a",
   "metadata": {},
   "source": [
    "### Vectorization"
   ]
  },
  {
   "cell_type": "code",
   "execution_count": null,
   "id": "a4aee1d2",
   "metadata": {
    "ExecuteTime": {
     "end_time": "2022-03-08T23:10:29.875092Z",
     "start_time": "2022-03-08T23:10:29.872024Z"
    }
   },
   "outputs": [],
   "source": [
    "# Instantiate TfidfVectorizer \n",
    "vectorizer = TfidfVectorizer(min_df=3,\n",
    "                             sublinear_tf=True,\n",
    "#                              encoding=\"latin-1\",\n",
    "                             ngram_range=(1,2),\n",
    "                             stop_words='english')"
   ]
  },
  {
   "cell_type": "code",
   "execution_count": null,
   "id": "f11cf2ce",
   "metadata": {
    "ExecuteTime": {
     "end_time": "2022-03-08T23:10:58.770304Z",
     "start_time": "2022-03-08T23:10:58.473309Z"
    }
   },
   "outputs": [],
   "source": [
    "# Fit vectorizer\n",
    "X_train_tf = vectorizer.fit_transform(X_train.reset_index()[\"cleaned_tweet\"]).toarray()\n",
    "X_test_tf = vectorizer.transform(X_test.reset_index()[\"cleaned_tweet\"]).toarray()"
   ]
  },
  {
   "cell_type": "code",
   "execution_count": null,
   "id": "388ee01f",
   "metadata": {
    "ExecuteTime": {
     "end_time": "2022-03-08T23:11:05.202230Z",
     "start_time": "2022-03-08T23:11:05.198510Z"
    }
   },
   "outputs": [],
   "source": [
    "X_train_tf.shape"
   ]
  },
  {
   "cell_type": "code",
   "execution_count": null,
   "id": "577dc0b4",
   "metadata": {
    "ExecuteTime": {
     "end_time": "2022-03-08T23:11:36.934828Z",
     "start_time": "2022-03-08T23:11:36.929521Z"
    }
   },
   "outputs": [],
   "source": [
    "feature_names = vectorizer.get_feature_names_out() "
   ]
  },
  {
   "cell_type": "markdown",
   "id": "2bd5b659",
   "metadata": {},
   "source": [
    "### Build models"
   ]
  },
  {
   "cell_type": "code",
   "execution_count": null,
   "id": "95579602",
   "metadata": {
    "ExecuteTime": {
     "end_time": "2022-03-08T23:22:50.365251Z",
     "start_time": "2022-03-08T23:14:31.015885Z"
    }
   },
   "outputs": [],
   "source": [
    "# Evaluate various models\n",
    "\n",
    "models = [\n",
    "    RandomForestClassifier(n_estimators=200, max_depth=3, random_state=0),\n",
    "    LinearSVC(),\n",
    "    MultinomialNB(),\n",
    "    LogisticRegression(random_state=0),\n",
    "    XGBClassifier()\n",
    "]\n",
    "CV = 5\n",
    "cv_df = pd.DataFrame(index=range(CV * len(models)))\n",
    "entries = []\n",
    "\n",
    "for model in models:\n",
    "    model_name = model.__class__.__name__\n",
    "    accuracies = cross_val_score(model, \n",
    "                                 X_train_tf, \n",
    "                                 y_train, \n",
    "                                 scoring='accuracy', \n",
    "                                 cv=CV)\n",
    "    \n",
    "    for fold_idx, accuracy in enumerate(accuracies):\n",
    "        entries.append((model_name, fold_idx, accuracy))"
   ]
  },
  {
   "cell_type": "code",
   "execution_count": null,
   "id": "ccaef7d6",
   "metadata": {
    "ExecuteTime": {
     "end_time": "2022-03-08T23:25:59.269845Z",
     "start_time": "2022-03-08T23:25:59.263116Z"
    }
   },
   "outputs": [],
   "source": [
    "# Aggregate validation scorese\n",
    "cv_df = pd.DataFrame(entries, columns=['model_name', 'fold_idx', 'accuracy'])"
   ]
  },
  {
   "cell_type": "code",
   "execution_count": null,
   "id": "4ef41812",
   "metadata": {
    "ExecuteTime": {
     "end_time": "2022-03-08T23:26:01.548637Z",
     "start_time": "2022-03-08T23:26:01.334626Z"
    }
   },
   "outputs": [],
   "source": [
    "# Plot model performances\n",
    "plt.subplots(figsize = (10,7))\n",
    "sns.boxplot(x='model_name', y='accuracy', data=cv_df)\n",
    "sns.stripplot(x='model_name', \n",
    "              y='accuracy', \n",
    "              data=cv_df, \n",
    "              size=10,\n",
    "              jitter=True, \n",
    "              edgecolor=\"gray\", \n",
    "              linewidth=2)\n",
    "\n",
    "plt.show()"
   ]
  },
  {
   "cell_type": "code",
   "execution_count": null,
   "id": "ef21b488",
   "metadata": {
    "ExecuteTime": {
     "end_time": "2022-03-08T23:27:32.970165Z",
     "start_time": "2022-03-08T23:27:32.961640Z"
    }
   },
   "outputs": [],
   "source": [
    "# Check mean accuracy for each model\n",
    "cv_df.groupby('model_name').accuracy.mean()"
   ]
  },
  {
   "cell_type": "code",
   "execution_count": null,
   "id": "c2de93fa",
   "metadata": {
    "ExecuteTime": {
     "end_time": "2022-03-08T23:28:13.741793Z",
     "start_time": "2022-03-08T23:28:13.738609Z"
    }
   },
   "outputs": [],
   "source": [
    "# Above shows linearSVC has highest mean accuracy"
   ]
  },
  {
   "cell_type": "markdown",
   "id": "f81d8b24",
   "metadata": {},
   "source": [
    "## LinearSVC"
   ]
  },
  {
   "cell_type": "code",
   "execution_count": null,
   "id": "1ceb117d",
   "metadata": {
    "ExecuteTime": {
     "end_time": "2022-03-08T23:29:14.275026Z",
     "start_time": "2022-03-08T23:29:14.266827Z"
    }
   },
   "outputs": [],
   "source": [
    "# Create a dict of Sentiment_val: sentiments to use with the confusion matrix\n",
    "sentiment_id_df = agg_sentiment_df[['sentiments_val', 'sentiment']].drop_duplicates().sort_values('sentiment')\n",
    "sentiment_to_id = dict(sentiment_id_df.values)"
   ]
  },
  {
   "cell_type": "code",
   "execution_count": null,
   "id": "15541eaa",
   "metadata": {
    "ExecuteTime": {
     "end_time": "2022-03-08T23:30:14.791472Z",
     "start_time": "2022-03-08T23:30:14.788017Z"
    }
   },
   "outputs": [],
   "source": [
    "# Instantiate the model\n",
    "linearSVC = LinearSVC(random_state=0)"
   ]
  },
  {
   "cell_type": "code",
   "execution_count": null,
   "id": "4c3d4558",
   "metadata": {
    "ExecuteTime": {
     "end_time": "2022-03-08T23:30:16.457861Z",
     "start_time": "2022-03-08T23:30:16.250985Z"
    }
   },
   "outputs": [],
   "source": [
    "# Fit the model\n",
    "linearSVC.fit(X_train_tf, y_train)"
   ]
  },
  {
   "cell_type": "code",
   "execution_count": null,
   "id": "4c84c9cb",
   "metadata": {
    "ExecuteTime": {
     "end_time": "2022-03-08T23:30:19.357632Z",
     "start_time": "2022-03-08T23:30:19.307659Z"
    }
   },
   "outputs": [],
   "source": [
    "# Predict\n",
    "svc_y_pred = linearSVC.predict(X_test_tf)"
   ]
  },
  {
   "cell_type": "code",
   "execution_count": null,
   "id": "720cb02c",
   "metadata": {
    "ExecuteTime": {
     "end_time": "2022-03-09T00:24:56.338710Z",
     "start_time": "2022-03-09T00:24:56.130833Z"
    }
   },
   "outputs": [],
   "source": [
    "# Plot confusion matrix to evaluate the model results\n",
    "svc_conf_mat = confusion_matrix(y_test, svc_y_pred)\n",
    "\n",
    "fig, ax = plt.subplots(figsize=(5,5))\n",
    "sns.heatmap(svc_conf_mat, \n",
    "            annot=True, \n",
    "            fmt='d',\n",
    "            xticklabels=sentiment_id_df.sentiments_val.values, \n",
    "            yticklabels=sentiment_id_df.sentiment.values)\n",
    "\n",
    "plt.ylabel('Actual')\n",
    "plt.xlabel('Predicted')\n",
    "plt.show()"
   ]
  },
  {
   "cell_type": "code",
   "execution_count": null,
   "id": "79859e72",
   "metadata": {
    "ExecuteTime": {
     "end_time": "2022-03-09T00:25:13.567455Z",
     "start_time": "2022-03-09T00:25:13.557231Z"
    }
   },
   "outputs": [],
   "source": [
    "# Get classification report\n",
    "print(metrics.classification_report(y_test, svc_y_pred))"
   ]
  },
  {
   "cell_type": "code",
   "execution_count": null,
   "id": "ed8410e5",
   "metadata": {
    "ExecuteTime": {
     "end_time": "2022-03-09T00:25:41.904026Z",
     "start_time": "2022-03-09T00:25:41.886291Z"
    }
   },
   "outputs": [],
   "source": [
    "# Use score method to get accuracy of model\n",
    "svc_score = linearSVC.score(X_test_tf, y_test)\n",
    "print(svc_score)"
   ]
  },
  {
   "cell_type": "code",
   "execution_count": null,
   "id": "b122684b",
   "metadata": {
    "ExecuteTime": {
     "end_time": "2022-03-09T00:39:53.829147Z",
     "start_time": "2022-03-09T00:39:53.810479Z"
    }
   },
   "outputs": [],
   "source": [
    "# Feature importance\n",
    "\n",
    "def plotCoefficients(classification, feature_names, top_features=20):\n",
    "    size = len(feature_names)\n",
    "    coef_neg = classification.coef_[-1][:size]\n",
    "    coef_pos = classification.coef_[1][:size]\n",
    "    top_positive_coefficients = np.argsort(coef_pos[coef_pos>0])[-top_features:]\n",
    "    top_negative_coefficients = np.argsort(coef_pos[coef_neg<0])[:top_features]\n",
    "    top_coefficients = np.hstack([top_negative_coefficients, top_positive_coefficients])\n",
    "    coef=np.hstack([coef_neg,coef_pos])\n",
    "    # create plot\n",
    "    plt.figure(figsize=(15, 5))\n",
    "    colors = ['red' if c < 0 else 'blue' for c in coef[top_coefficients]]\n",
    "    plt.bar(np.arange(2 * top_features), coef[top_coefficients], color=colors)\n",
    "    feature_names = np.array(feature_names)\n",
    "    plt.xticks(np.arange(1, 1 + 2 * top_features), feature_names[top_coefficients], rotation=60, ha='right')\n",
    "    title=\"Positive and Negative Labels\"\n",
    "    plt.title(title)\n",
    "    plt.show()"
   ]
  },
  {
   "cell_type": "code",
   "execution_count": null,
   "id": "36059e43",
   "metadata": {
    "ExecuteTime": {
     "end_time": "2022-03-09T00:42:20.637210Z",
     "start_time": "2022-03-09T00:42:20.270881Z"
    }
   },
   "outputs": [],
   "source": [
    "coefs_with_fns = sorted(zip(linearSVC.coef_[0], feature_names)) \n",
    "df_feat = pd.DataFrame(coefs_with_fns)\n",
    "df_feat.columns = 'coefficient','word'\n",
    "df_feat.sort_values(by='coefficient')\n",
    "\n",
    "plotCoefficients(linearSVC, feature_names)"
   ]
  },
  {
   "cell_type": "code",
   "execution_count": null,
   "id": "5dc50cb9",
   "metadata": {},
   "outputs": [],
   "source": [
    "# Save linearSVC model\n",
    "dump(linearSVC, '../models/linearSVC.joblib')"
   ]
  },
  {
   "cell_type": "markdown",
   "id": "da1e6999",
   "metadata": {
    "ExecuteTime": {
     "end_time": "2022-03-09T00:41:37.726578Z",
     "start_time": "2022-03-09T00:41:37.718625Z"
    }
   },
   "source": [
    "## MultinomialNB Model"
   ]
  },
  {
   "cell_type": "code",
   "execution_count": null,
   "id": "b601e837",
   "metadata": {
    "ExecuteTime": {
     "end_time": "2022-03-09T00:43:38.827812Z",
     "start_time": "2022-03-09T00:43:38.824709Z"
    }
   },
   "outputs": [],
   "source": [
    "# Instantiate the model\n",
    "multiNB = MultinomialNB()"
   ]
  },
  {
   "cell_type": "code",
   "execution_count": null,
   "id": "5c8ab573",
   "metadata": {
    "ExecuteTime": {
     "end_time": "2022-03-09T00:43:45.631732Z",
     "start_time": "2022-03-09T00:43:45.415092Z"
    }
   },
   "outputs": [],
   "source": [
    "# Fit the model\n",
    "multiNB.fit(X_train_tf, y_train)"
   ]
  },
  {
   "cell_type": "code",
   "execution_count": null,
   "id": "5703452f",
   "metadata": {
    "ExecuteTime": {
     "end_time": "2022-03-09T00:44:00.388187Z",
     "start_time": "2022-03-09T00:44:00.359079Z"
    }
   },
   "outputs": [],
   "source": [
    "# predict\n",
    "nb_y_pred = multiNB.predict(X_test_tf)"
   ]
  },
  {
   "cell_type": "code",
   "execution_count": null,
   "id": "9e73c18e",
   "metadata": {
    "ExecuteTime": {
     "end_time": "2022-03-09T00:44:45.244155Z",
     "start_time": "2022-03-09T00:44:45.057451Z"
    }
   },
   "outputs": [],
   "source": [
    "# Plot confusion matrix to evaluate the model results\n",
    "conf_mat = confusion_matrix(y_test, nb_y_pred)\n",
    "fig, ax = plt.subplots(figsize=(5,5))\n",
    "sns.heatmap(conf_mat, \n",
    "            annot=True, \n",
    "            fmt='d',\n",
    "            xticklabels=sentiment_id_df.sentiments_val.values, \n",
    "            yticklabels=sentiment_id_df.sentiment.values)\n",
    "plt.ylabel('Actual')\n",
    "plt.xlabel('Predicted')\n",
    "plt.show()"
   ]
  },
  {
   "cell_type": "code",
   "execution_count": null,
   "id": "a871e866",
   "metadata": {
    "ExecuteTime": {
     "end_time": "2022-03-09T00:45:01.464086Z",
     "start_time": "2022-03-09T00:45:01.447955Z"
    }
   },
   "outputs": [],
   "source": [
    "# Print classification report\n",
    "print(metrics.classification_report(y_test, nb_y_pred))"
   ]
  },
  {
   "cell_type": "code",
   "execution_count": null,
   "id": "8a4e26e7",
   "metadata": {
    "ExecuteTime": {
     "end_time": "2022-03-09T00:45:22.802279Z",
     "start_time": "2022-03-09T00:45:22.784797Z"
    }
   },
   "outputs": [],
   "source": [
    "# Use score method to get accuracy of model\n",
    "nb_score = multiNB.score(X_test_tf, y_test)\n",
    "print(nb_score)"
   ]
  },
  {
   "cell_type": "code",
   "execution_count": null,
   "id": "519da377",
   "metadata": {},
   "outputs": [],
   "source": [
    "# Save linearSVC model\n",
    "dump(multiNB, '../models/multinomialNB.joblib')"
   ]
  },
  {
   "cell_type": "markdown",
   "id": "66343957",
   "metadata": {},
   "source": [
    "## Comparison: LinearSVC vs. MultinomialNB"
   ]
  },
  {
   "cell_type": "code",
   "execution_count": null,
   "id": "f94ce829",
   "metadata": {
    "ExecuteTime": {
     "end_time": "2022-03-09T00:46:25.151438Z",
     "start_time": "2022-03-09T00:46:25.097807Z"
    }
   },
   "outputs": [],
   "source": [
    "# Format validation set\n",
    "valid_df = valid_df.reset_index()\n",
    "valid_df.tail()"
   ]
  },
  {
   "cell_type": "code",
   "execution_count": null,
   "id": "b5ebd9f5",
   "metadata": {
    "ExecuteTime": {
     "end_time": "2022-03-09T00:47:17.214118Z",
     "start_time": "2022-03-09T00:47:17.201943Z"
    }
   },
   "outputs": [],
   "source": [
    "# Create new df contains the sentiment and its encoded value, and create two dictionaries\n",
    "sentiment_id_df = target_tweets_df[['sentiments_val', 'sentiment']].drop_duplicates().sort_values('sentiment')\n",
    "sentiment_to_id = dict(sentiment_id_df.values)\n",
    "\n",
    "id_to_sentiment = dict(sentiment_id_df[['sentiment', 'sentiments_val']].values)\n",
    "\n",
    "print(\"sentiment_to_id: \",sentiment_to_id)\n",
    "print(\"id_to_sentiment: \",id_to_sentiment)"
   ]
  },
  {
   "cell_type": "code",
   "execution_count": null,
   "id": "88e456a5",
   "metadata": {
    "ExecuteTime": {
     "end_time": "2022-03-09T00:48:54.714634Z",
     "start_time": "2022-03-09T00:48:54.710449Z"
    }
   },
   "outputs": [],
   "source": [
    "# Select \"random\" tweet\n",
    "tweet = target_tweets_df[\"tweet\"][202]\n",
    "tweet"
   ]
  },
  {
   "cell_type": "code",
   "execution_count": null,
   "id": "bf9c83e6",
   "metadata": {
    "ExecuteTime": {
     "end_time": "2022-03-09T00:49:37.761646Z",
     "start_time": "2022-03-09T00:49:37.755867Z"
    }
   },
   "outputs": [],
   "source": [
    "# test the data\n",
    "clean = vectorizer.transform([tweet]) # apply TFIDF\n",
    "pred = linearSVC.predict(clean) # predict the tweet using out model\n",
    "pred = id_to_sentiment[pred[0]]\n",
    "print(pred)"
   ]
  },
  {
   "cell_type": "markdown",
   "id": "411f6c41",
   "metadata": {},
   "source": [
    "## Validation"
   ]
  },
  {
   "cell_type": "code",
   "execution_count": null,
   "id": "997b2f86",
   "metadata": {
    "ExecuteTime": {
     "end_time": "2022-03-09T00:50:05.151556Z",
     "start_time": "2022-03-09T00:50:05.148804Z"
    }
   },
   "outputs": [],
   "source": [
    "# Define our X and y\n",
    "X_val = valid_df['cleaned_text']\n",
    "y_val = valid_df['sentiment']"
   ]
  },
  {
   "cell_type": "code",
   "execution_count": null,
   "id": "4675e7d4",
   "metadata": {
    "ExecuteTime": {
     "end_time": "2022-03-09T00:50:30.506191Z",
     "start_time": "2022-03-09T00:50:30.499457Z"
    }
   },
   "outputs": [],
   "source": [
    "# Vectorize the model\n",
    "vectorizer = TfidfVectorizer(min_df=3,\n",
    "                             sublinear_tf=True,\n",
    "#                              encoding=\"latin-1\", \n",
    "                             ngram_range=(1,2),\n",
    "                             stop_words='english')"
   ]
  },
  {
   "cell_type": "code",
   "execution_count": null,
   "id": "ddfbbfe8",
   "metadata": {
    "ExecuteTime": {
     "end_time": "2022-03-09T00:51:00.288906Z",
     "start_time": "2022-03-09T00:51:00.213479Z"
    }
   },
   "outputs": [],
   "source": [
    "# Fit vectors\n",
    "X_val_tf = vectorizer.fit_transform(X_val.reset_index()['cleaned_text']).toarray()"
   ]
  },
  {
   "cell_type": "code",
   "execution_count": null,
   "id": "2510caa5",
   "metadata": {
    "ExecuteTime": {
     "end_time": "2022-03-09T00:51:19.590559Z",
     "start_time": "2022-03-09T00:51:19.572086Z"
    }
   },
   "outputs": [],
   "source": [
    "# Fit multinomialNB\n",
    "multiNB.fit(X_val_tf, y_val)"
   ]
  },
  {
   "cell_type": "code",
   "execution_count": null,
   "id": "e6bdd2f1",
   "metadata": {
    "ExecuteTime": {
     "end_time": "2022-03-09T00:51:57.563412Z",
     "start_time": "2022-03-09T00:51:57.364923Z"
    }
   },
   "outputs": [],
   "source": [
    "# Plot confusion matrix to evaluate the model results\n",
    "conf_mat = confusion_matrix(y_val, multiNB.predict(X_val_tf))\n",
    "\n",
    "fig, ax = plt.subplots(figsize=(5,5))\n",
    "sns.heatmap(conf_mat, \n",
    "            annot=True, \n",
    "            fmt='d',\n",
    "            cmap='viridis',\n",
    "            xticklabels=sentiment_id_df.sentiments_val.values, \n",
    "            yticklabels=sentiment_id_df.sentiment.values)\n",
    "\n",
    "plt.ylabel('Actual')\n",
    "plt.xlabel('Predicted')\n",
    "plt.show()"
   ]
  },
  {
   "cell_type": "code",
   "execution_count": null,
   "id": "c1c242ad",
   "metadata": {
    "ExecuteTime": {
     "end_time": "2022-03-09T00:52:20.500439Z",
     "start_time": "2022-03-09T00:52:20.484170Z"
    }
   },
   "outputs": [],
   "source": [
    "# Print classification report\n",
    "print(metrics.classification_report(y_val, multiNB.predict(X_val_tf)))"
   ]
  },
  {
   "cell_type": "code",
   "execution_count": null,
   "id": "aefc9258",
   "metadata": {},
   "outputs": [],
   "source": []
  }
 ],
 "metadata": {
  "interpreter": {
   "hash": "10d883baf2d2c020187d16fb74e1bc85e676b385dd78044a08a209b4abcafece"
  },
  "kernelspec": {
   "display_name": "Python 3 (ipykernel)",
   "language": "python",
   "name": "python3"
  },
  "language_info": {
   "codemirror_mode": {
    "name": "ipython",
    "version": 3
   },
   "file_extension": ".py",
   "mimetype": "text/x-python",
   "name": "python",
   "nbconvert_exporter": "python",
   "pygments_lexer": "ipython3",
   "version": "3.10.4"
  }
 },
 "nbformat": 4,
 "nbformat_minor": 5
}
