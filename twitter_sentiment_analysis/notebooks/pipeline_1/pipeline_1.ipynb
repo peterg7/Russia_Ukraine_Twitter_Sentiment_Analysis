{
 "cells": [
  {
   "cell_type": "markdown",
   "metadata": {},
   "source": [
    "# Twitter Sentiment Analysis Pipeline #1\n",
    "*Refer to `notebooks/README.md` for an explanation of the various pipelines*"
   ]
  },
  {
   "cell_type": "markdown",
   "metadata": {},
   "source": [
    "## Import dependencies"
   ]
  },
  {
   "cell_type": "code",
   "execution_count": 1,
   "metadata": {
    "ExecuteTime": {
     "end_time": "2022-04-07T22:47:31.354913Z",
     "start_time": "2022-04-07T22:47:31.043798Z"
    }
   },
   "outputs": [],
   "source": [
    "# Built-in\n",
    "import re\n",
    "import sys\n",
    "import os\n",
    "import json\n",
    "import multiprocessing\n",
    "from collections import defaultdict\n",
    "\n",
    "# Importing datasets\n",
    "import opendatasets as od\n",
    "\n",
    "# Data manipulation\n",
    "import pandas as pd\n",
    "import numpy as np\n",
    "from joblib import dump, load\n",
    "\n",
    "# Graphing/Visualizing\n",
    "import matplotlib.pyplot as plt\n",
    "import seaborn as sns\n",
    "from wordcloud import WordCloud\n",
    "from IPython.display import display"
   ]
  },
  {
   "cell_type": "code",
   "execution_count": 2,
   "metadata": {
    "ExecuteTime": {
     "end_time": "2022-04-07T22:47:33.893035Z",
     "start_time": "2022-04-07T22:47:32.167203Z"
    }
   },
   "outputs": [],
   "source": [
    "# ML\n",
    "from sklearn.model_selection import train_test_split\n",
    "from sklearn.metrics import confusion_matrix, classification_report\n",
    "from sklearn.feature_extraction.text import TfidfVectorizer\n",
    "\n",
    "from sklearn.cluster import KMeans\n",
    "from sklearn.svm import LinearSVC\n",
    "from sklearn.naive_bayes import MultinomialNB"
   ]
  },
  {
   "cell_type": "code",
   "execution_count": 3,
   "metadata": {
    "ExecuteTime": {
     "end_time": "2022-04-07T22:47:37.066014Z",
     "start_time": "2022-04-07T22:47:35.084187Z"
    }
   },
   "outputs": [
    {
     "name": "stderr",
     "output_type": "stream",
     "text": [
      "[nltk_data] Downloading package stopwords to\n",
      "[nltk_data]     /Users/petergish/nltk_data...\n",
      "[nltk_data]   Package stopwords is already up-to-date!\n",
      "[nltk_data] Downloading package wordnet to\n",
      "[nltk_data]     /Users/petergish/nltk_data...\n",
      "[nltk_data]   Package wordnet is already up-to-date!\n",
      "[nltk_data] Downloading package omw-1.4 to\n",
      "[nltk_data]     /Users/petergish/nltk_data...\n",
      "[nltk_data]   Package omw-1.4 is already up-to-date!\n"
     ]
    },
    {
     "data": {
      "text/plain": [
       "True"
      ]
     },
     "execution_count": 3,
     "metadata": {},
     "output_type": "execute_result"
    }
   ],
   "source": [
    "# NLP\n",
    "from gensim.models.phrases import Phrases, Phraser\n",
    "from gensim.models import Word2Vec\n",
    "\n",
    "import nltk\n",
    "from nltk.stem import WordNetLemmatizer\n",
    "from nltk.corpus import stopwords\n",
    "\n",
    "# Prep nltk library\n",
    "nltk.download('stopwords')\n",
    "nltk.download('wordnet')\n",
    "nltk.download('omw-1.4')"
   ]
  },
  {
   "cell_type": "code",
   "execution_count": 4,
   "metadata": {},
   "outputs": [],
   "source": [
    "# User-defined\n",
    "sys.path.append(\"..\") # Adds higher directory for ControlSignal\n",
    "from controlSignal import ControlSignal, CONTROL_ACTIONS, CONTROL_FLAGS, processSignals\n",
    "from configParser import validateConfig\n",
    "sys.path.remove('..')"
   ]
  },
  {
   "cell_type": "markdown",
   "metadata": {},
   "source": [
    "## Define Parameters"
   ]
  },
  {
   "cell_type": "code",
   "execution_count": 5,
   "metadata": {},
   "outputs": [],
   "source": [
    "\n",
    "PIPE1_PARAMS = {\n",
    "    'EXTRACT': {\n",
    "        'data_import_path': 'https://www.kaggle.com/datasets/gpreda/slava-ukraini-tweets/versions/{version}',\n",
    "        'data_import_version': 15, \n",
    "        'data_import_dest': '../../data/slava_ukraini_tweets{version}.csv',\n",
    "        'new_dataset': False,\n",
    "    },\n",
    "\n",
    "    'TRANSFORM': {\n",
    "        'clean_tweet': [\n",
    "            r'https?:\\/\\/[a-zA-Z0-9@:%._\\/+~#=?&;-]*', # match URLs\n",
    "            r'\\$[a-zA-Z0-9]*', # match tickers/stock symbols \n",
    "            r'\\@[a-zA-Z0-9]*', # match usernames/tags\n",
    "            r'[^a-zA-Z\\']' # match any non-letter (except apostrophe)\n",
    "        ],\n",
    "        'clean_hashtag': [\n",
    "            r'\\$[a-zA-Z0-9]*', # match tickers/stock symbols \n",
    "            r'[^a-zA-Z\\']' # match any non-letter (except apostrophe)\n",
    "        ],\n",
    "        'column_mappings': {\n",
    "            'date': 'date',\n",
    "            'user_name': 'username',\n",
    "            'retweets': 'retweets',\n",
    "            'text': 'tweet',\n",
    "            'hashtags': 'hashtags'\n",
    "        },\n",
    "        'filter_words': [\n",
    "            'ukraine', \n",
    "            'russia', \n",
    "            'zelensky'\n",
    "        ],\n",
    "        'sentiment_map': { \n",
    "            -1: \"negative\",\n",
    "            0: \"neutral\", \n",
    "            1: \"positive\"\n",
    "        },\n",
    "        'display_terms': 25 # Number of terms to display when user is assigning cluster sentiment\n",
    "    },\n",
    "\n",
    "    'MODEL': {\n",
    "        'build_models': True\n",
    "    },\n",
    "\n",
    "    'LOAD': {\n",
    "        'config': './config/config_{timestamp}.json', # Output the settings used for the execution\n",
    "        'nb_export': '../pipeline_2/pipeline_1', # Export this entire notebook to be used by another script\n",
    "        'transform': './data/transformed/slava_ukraine_sentiment_{timestamp}.csv', # Store the transformed dataset including sentiment\n",
    "        'word_vec': './models/slava_word_vec_{timestamp}.model', # Save the word2vec model\n",
    "        'kmeans': './models/slava_kmeans_{timestamp}.joblib', # Save the kMeans model\n",
    "        'embeddings': './data/embeddings/slava_words_{timestamp}.csv', # Save the generated embeddings\n",
    "        'vectorizer': './models/slava_vectorizer_{timestamp}.joblib', # Save the vectorizer model\n",
    "        'svc': './models/slava_linearSVC_{timestamp}.joblib', # Save the LinearSVC model\n",
    "        'nb': './models/slava_multinomialNB_{timestamp}.joblib' # Save the MultinomialNB model\n",
    "    }\n",
    "}"
   ]
  },
  {
   "cell_type": "markdown",
   "metadata": {},
   "source": [
    "## Validate & format config"
   ]
  },
  {
   "cell_type": "code",
   "execution_count": 6,
   "metadata": {},
   "outputs": [
    {
     "name": "stdout",
     "output_type": "stream",
     "text": [
      "ERROR: Aborting execution.\n",
      "Missing a required config value. Cound not find the following fields: data_import_path\n",
      "<done>\n"
     ]
    },
    {
     "ename": "JupyterExit",
     "evalue": "",
     "output_type": "error",
     "traceback": [
      "An exception has occurred, use %tb to see the full traceback.\n",
      "\u001b[0;31mJupyterExit\u001b[0m\n"
     ]
    }
   ],
   "source": [
    "DFLT_CONFIG_PATH = './config/default_config.json'\n",
    "USER_CONFIG_PATH = './config/config.json'\n",
    "\n",
    "params, signals = validateConfig(DFLT_CONFIG_PATH, USER_CONFIG_PATH)\n",
    "processSignals(signals, params['LOAD'])"
   ]
  },
  {
   "cell_type": "markdown",
   "metadata": {},
   "source": [
    "## Build `extract` function"
   ]
  },
  {
   "cell_type": "code",
   "execution_count": null,
   "metadata": {
    "ExecuteTime": {
     "end_time": "2022-04-07T22:47:47.327270Z",
     "start_time": "2022-04-07T22:47:47.295179Z"
    }
   },
   "outputs": [],
   "source": [
    "\n",
    "def extract(import_path, local_dest, **kwargs):\n",
    "    signals=[]\n",
    "    if kwargs.get('new_dataset'): \n",
    "        # Requesting new data\n",
    "        dest_dir = os.path.join(*local_dest.split('/')[:-1])\n",
    "        \n",
    "        # Check for existing dataset\n",
    "        if os.path.isfile(local_dest):\n",
    "            print('Found existing file:', local_dest)\n",
    "            user_input = input('Remove? (y/n)')\n",
    "            if user_input != 'y':\n",
    "                existing_files = [f for f in os.listdir(dest_dir) if f.endswith('.csv')]\n",
    "                parts = local_dest.split('/')\n",
    "                ext_index = parts[-1].index('.')\n",
    "                parts[-1] = f\"{parts[-1][:ext_index]}_{len(existing_files)}{parts[-1][ext_index:]}\"\n",
    "                local_dest = os.path.join(*(parts))\n",
    "            else:\n",
    "                try:\n",
    "                    os.remove(local_dest)\n",
    "                except OSError as e:\n",
    "                    signals.append(ControlSignal(CONTROL_ACTIONS.WARNING, CONTROL_FLAGS.INVALID_LOCATION, f'Could not delete existing file. Received error {str(e)}'))\n",
    "\n",
    "        # Download dataset\n",
    "        od.download(import_path, data_dir=dest_dir)\n",
    "\n",
    "        # Collect downloaded dataset\n",
    "        data_import_dir = os.path.join(dest_dir, import_path.split('/')[-1])\n",
    "        imported_file = next(f for f in os.listdir(data_import_dir) if f.endswith('.csv'))\n",
    "\n",
    "        if not imported_file:\n",
    "            print('Error importing data. File was either not downloaded or moved')\n",
    "            signals.append(ControlSignal(CONTROL_ACTIONS.ABORT, CONTROL_FLAGS.INVALID_LOCATION, f'Failed importing data. File was either moved or not downloaded. Searched for .csv file in {data_import_dir}'))\n",
    "            return signals\n",
    "\n",
    "        # Move and rename file\n",
    "        temp_import_loc = os.path.join(data_import_dir, imported_file)\n",
    "        os.rename(temp_import_loc, local_dest)\n",
    "\n",
    "        # Remove temporary directory created when downloaded\n",
    "        try:\n",
    "            if os.listdir((data_import_dir)):\n",
    "                signals.append(ControlSignal(CONTROL_ACTIONS.ABORT, CONTROL_FLAGS.INVALID_LOCATION, f'Import directory [{data_import_dir}] already exists! Unable to move new data'))\n",
    "                return signals\n",
    "            os.rmdir(data_import_dir)\n",
    "        except OSError as e:\n",
    "            print('Could not delete import directory, got' + str(e))\n",
    "            signals.append(ControlSignal(CONTROL_ACTIONS.ABORT, CONTROL_FLAGS.INVALID_LOCATION, f'Could not delete import directory [{data_import_dir}]. Exiting for safety.'))\n",
    "            return signals\n",
    "\n",
    "    # Import data\n",
    "    raw_tweets_df = pd.read_csv(local_dest)\n",
    "\n",
    "    # Look for existing models\n",
    "    existing_models = {}\n",
    "    if (word_vec_path := kwargs.get('word_vec')):\n",
    "        existing_models['word_vec'] = Word2Vec.load(word_vec_path).wv\n",
    "    if (kmeans_path := kwargs.get('kmeans')):\n",
    "        existing_models['kmeans'] = load(kmeans_path)\n",
    "    if (embeddings_path := kwargs.get('embeddings')):\n",
    "        existing_models['embeddings'] = pd.read_csv(embeddings_path)\n",
    "    if (vectorizer_path := kwargs.get('vectorizer')):\n",
    "        existing_models['vectorizer'] = load(vectorizer_path)\n",
    "    if (svc_path := kwargs.get('svc')):\n",
    "        existing_models['svc'] = load(svc_path)\n",
    "    if (nb_path := kwargs.get('nb')):\n",
    "        existing_models['nb'] = load(nb_path)\n",
    "\n",
    "    return raw_tweets_df, existing_models"
   ]
  },
  {
   "cell_type": "markdown",
   "metadata": {},
   "source": [
    "## Define helper function for `transform`\n",
    "Handles user input for cluster sentiment assignment"
   ]
  },
  {
   "cell_type": "code",
   "execution_count": null,
   "metadata": {},
   "outputs": [],
   "source": [
    "## Need user input to determine each cluster's sentiment ##\n",
    "\n",
    "def setClusterSentiment(vectors, model, mapping, display_terms=20):\n",
    "    signals = []\n",
    "    print(f'** Top {display_terms} Similar Word Vectors By Cluster **\\n')\n",
    "\n",
    "    def collectSamples(multiplier=0):\n",
    "        word_vec_list = [vectors.similar_by_vector(model.cluster_centers_[x], \n",
    "                                                            topn=(display_terms * (multiplier+1)), \n",
    "                                                            restrict_vocab=None) for x in range(len(mapping))]\n",
    "        \n",
    "        cluster_values = np.array(list(zip(*[x[(display_terms * multiplier):] for x in word_vec_list])))\n",
    "\n",
    "        # Collect terms spanning multiple clusters for deciphering\n",
    "        term_freq, counts = np.unique([x[0] for x in np.vstack(cluster_values)], axis=0, return_counts=True)\n",
    "        unique_terms = term_freq[counts == 1]\n",
    "\n",
    "        # Separate unique from duplicate terms\n",
    "        uniq_cluster_vals = defaultdict(lambda : np.full(len(cluster_values), np.nan, dtype=object))\n",
    "        shared_cluster_vals = defaultdict(lambda : [0] * len(mapping))\n",
    "        for iy, ix in np.ndindex(cluster_values.shape[:len(mapping)-1]):\n",
    "            tmp = cluster_values[iy, ix]\n",
    "            if tmp[0] in unique_terms:\n",
    "                uniq_cluster_vals[ix][iy] = tuple(tmp)\n",
    "            else:\n",
    "                shared_cluster_vals[tmp[0]][ix] = tmp[1]\n",
    "\n",
    "        max_uniq_in_cluster = max([len([x for x in l if not pd.isnull(x)]) for l in uniq_cluster_vals.values()])\n",
    "        formatted_unique = np.array([np.pad(vals[~pd.isnull(vals)], \n",
    "                                        (0,max_uniq_in_cluster-np.count_nonzero(~pd.isnull(vals))), constant_values=None) \n",
    "                                        for vals in uniq_cluster_vals.values()], dtype=object).T\n",
    "\n",
    "        cols = [f'Cluster {x}' for x in range(len(mapping))]\n",
    "\n",
    "        print('Unique Terms from Clusters')\n",
    "        unique_terms_df = pd.DataFrame([[x[0] if x else '' for x in y] for y in formatted_unique], columns=cols)\n",
    "        display(unique_terms_df)\n",
    "\n",
    "        print('\\nDuplicate Terms from Clusters')\n",
    "        duplicate_terms_df = pd.DataFrame.from_dict(shared_cluster_vals, orient='index', columns=cols)\n",
    "        display(duplicate_terms_df)\n",
    "    \n",
    "    collectSamples()\n",
    "\n",
    "    ## Get input\n",
    "    \n",
    "    print('\\nLabel each cluster: -1 = negative, 0 = neutral, 1 = positive (\"r\" for new samples, \"q\" to exit)')\n",
    "    cluster_sentiment_defs = []\n",
    "    user_input = ''\n",
    "    resets = 0\n",
    "    while len(cluster_sentiment_defs) < len(mapping)-1 and user_input != 'q':\n",
    "        \n",
    "        user_input = input(f'Cluster {len(cluster_sentiment_defs)} value:')\n",
    "        if user_input == 'q':\n",
    "            signals.append(ControlSignal(CONTROL_ACTIONS.ABORT, CONTROL_FLAGS.USER_INPUT))\n",
    "            return signals, []\n",
    "        if user_input == 'r':\n",
    "            print(f'\\n\\nGenerating next {display_terms} samples...\\n')\n",
    "            resets += 1\n",
    "            collectSamples(resets)\n",
    "            print('Current state:', cluster_sentiment_defs)\n",
    "            print('Setting cluster:', len(cluster_sentiment_defs))\n",
    "            continue\n",
    "        try:\n",
    "            value = int(user_input)\n",
    "            if value in cluster_sentiment_defs or value not in range(-1, 2):\n",
    "                print('Already used this sentiment or not in range (-1, 0, 1)')\n",
    "                continue\n",
    "            cluster_sentiment_defs.append(value)\n",
    "            print(f'Set cluster {len(cluster_sentiment_defs)-1} to {value} ({mapping[value]})')\n",
    "        except ValueError:\n",
    "            print('Need a number in range [-1, 0, 1]. Press q to exit')\n",
    "            \n",
    "    cluster_sentiment_defs.append((set(mapping.keys()) - set(cluster_sentiment_defs)).pop())\n",
    "\n",
    "    print(f'Set cluster {len(cluster_sentiment_defs)-1} to {cluster_sentiment_defs[-1]} ({mapping[cluster_sentiment_defs[-1]]})')\n",
    "    return signals, cluster_sentiment_defs"
   ]
  },
  {
   "cell_type": "markdown",
   "metadata": {},
   "source": [
    "## Build `transform` function"
   ]
  },
  {
   "cell_type": "code",
   "execution_count": null,
   "metadata": {},
   "outputs": [],
   "source": [
    "def cleanAndFilter(raw_tweets_df, column_mappings={}, filter_words={}, **kwargs):\n",
    "    # Rename columns\n",
    "    tweets_df = raw_tweets_df[list(column_mappings.keys())].rename(columns=column_mappings) \\\n",
    "                    if column_mappings else raw_tweets_df.copy()\n",
    "\n",
    "    # Drop duplicate tweets\n",
    "    tweets_df = tweets_df.drop_duplicates(subset='tweet', keep='first')\n",
    "\n",
    "    # Initialize Lemmatizer\n",
    "    lemma = WordNetLemmatizer()\n",
    "\n",
    "    stop_words = stopwords.words(\"english\")\n",
    "    tweet_regexs = kwargs.get('cleen_tweet', [r'https?:\\/\\/[a-zA-Z0-9@:%._\\/+~#=?&;-]*',\n",
    "                                                r'\\$[a-zA-Z0-9]*',\n",
    "                                                r'[^a-zA-Z\\']',\n",
    "                                                r'\\@[a-zA-Z0-9]*'])\n",
    "    def cleanTweet(tweet):\n",
    "        tweet = tweet.lower()\n",
    "        for pattern in tweet_regexs:\n",
    "            tweet = re.sub(pattern, ' ', tweet)\n",
    "        tweet = ' '.join([w for w in tweet.split() if len(w) > 1])\n",
    "        \n",
    "        trimmed_lemma_words = [lemma.lemmatize(x) for x in nltk.wordpunct_tokenize(tweet) \n",
    "                                    if x not in stop_words]\n",
    "        clean_tweet = ' '.join(trimmed_lemma_words)\n",
    "        \n",
    "        return [lemma.lemmatize(x, nltk.corpus.reader.wordnet.VERB) \n",
    "                    for x in nltk.wordpunct_tokenize(clean_tweet) if x not in stop_words]\n",
    "\n",
    "    hashtag_regexs = kwargs.get('clean_hashtag', [r'\\$[a-zA-Z0-9]*', r'[^a-zA-Z\\']'])\n",
    "    def cleanHashtags(hashtags):\n",
    "        if hashtags:\n",
    "            hashtags = hashtags.lower()\n",
    "            for pattern in hashtag_regexs:\n",
    "                hashtags = re.sub(pattern, ' ', hashtags)\n",
    "            hashtags = hashtags.strip() \n",
    "        return hashtags\n",
    "    \n",
    "    \n",
    "    # Clean tweets\n",
    "    tweets_df['clean_tweet_words'] = tweets_df['tweet'].apply(lambda x: cleanTweet(x))\n",
    "    tweets_df['clean_tweet'] = tweets_df['clean_tweet_words'].apply(lambda x:' '.join(x))\n",
    "\n",
    "    # Clean hashtags\n",
    "    tweets_df[\"hashtags\"] = tweets_df[\"hashtags\"].astype(str)\n",
    "    tweets_df[\"hashtags\"] = tweets_df[\"hashtags\"].apply(lambda x: cleanHashtags(x))\n",
    "\n",
    "    # Convert date to datetime and extract month/year\n",
    "    tweets_df['date'] = pd.to_datetime(tweets_df['date'])\n",
    "    tweets_df['month'] = tweets_df['date'].dt.month\n",
    "    tweets_df['year'] = tweets_df['date'].dt.year\n",
    "\n",
    "    if filter_words:\n",
    "        # Remove all tweets which do not have the provided target words\n",
    "        keywords_str = '|'.join(filter_words)\n",
    "        filtered_tweets_df = tweets_df.copy()\n",
    "        filtered_tweets_df = filtered_tweets_df[filtered_tweets_df[\"clean_tweet\"].str.contains(keywords_str)]\n",
    "        return tweets_df, filtered_tweets_df\n",
    "        \n",
    "    return tweets_df, None "
   ]
  },
  {
   "cell_type": "code",
   "execution_count": null,
   "metadata": {},
   "outputs": [],
   "source": [
    "def buildWordVectors(tweets_df, progress_per=50000, epohcs=30, **kwargs):\n",
    "    # Restructure the `clean_text` column\n",
    "    row_sentences = [row for row in tweets_df[\"clean_tweet_words\"]]\n",
    "\n",
    "    # Detect common phrases (bigrams) from a list of sentences\n",
    "    phrases = Phrases(row_sentences, min_count=1, progress_per=50000)\n",
    "    bigram = Phraser(phrases)\n",
    "    sentences = bigram[row_sentences]\n",
    "    \n",
    "    # Initialize vector model\n",
    "    if (word_vec_params := kwargs.get('word_vec_args')):\n",
    "        word_vec_model = Word2Vec(**word_vec_params)\n",
    "        word_vec_model.build_vocab(sentences, progress_per=progress_per)\n",
    "        word_vec_model.train(sentences, total_examples=word_vec_model.corpus_count, \n",
    "                                epochs=epohcs, report_delay=1)\n",
    "    else:\n",
    "        word_vec_model = Word2Vec(vector_size=300, \n",
    "                                window=5, \n",
    "                                min_count=4, \n",
    "                                workers=multiprocessing.cpu_count()-1,\n",
    "                                negative=20, \n",
    "                                sample=1e-5, \n",
    "                                alpha=0.03, \n",
    "                                min_alpha=0.007,  \n",
    "                                seed= 42)\n",
    "\n",
    "        # Establish dataset for the vector model\n",
    "        word_vec_model.build_vocab(sentences, progress_per=50000)\n",
    "\n",
    "        # Train the model\n",
    "        word_vec_model.train(sentences, total_examples=word_vec_model.corpus_count, \n",
    "                                epochs=30, report_delay=1)\n",
    "\n",
    "    return word_vec_model.wv\n",
    "\n",
    "def buildWordEmbeddings(word_vectors, model, sentiment_defs, sentiment_map):\n",
    "     # Create a DataFrame of words with their embeddings and cluster values\n",
    "    words_df = pd.DataFrame(word_vectors.index_to_key)\n",
    "    words_df.columns = ['words']\n",
    "    words_df['vectors'] = words_df.words.apply(lambda x: word_vectors[f'{x}'])\n",
    "    words_df['cluster'] = words_df.vectors.apply(lambda x: model.predict([np.array(x)]))\n",
    "    words_df.cluster = words_df.cluster.apply(lambda x: x[0])\n",
    "\n",
    "    \n",
    "    words_df['cluster_value'] = [sentiment_defs[i] for i in words_df.cluster]\n",
    "\n",
    "    # Calculate proximity of words in each vector\n",
    "    calc_vector_nearness = lambda x: 1 / (model.transform([x.vectors]).min())\n",
    "    words_df['closeness_score'] = words_df.apply(calc_vector_nearness, axis=1)\n",
    "    words_df['sentiment_coeff'] = words_df.closeness_score * words_df.cluster_value\n",
    "\n",
    "    # Map sentiment encodings\n",
    "    words_df[\"sentiment\"] = words_df[\"cluster_value\"].map(sentiment_map)\n",
    "\n",
    "    return words_df\n",
    "\n",
    "def peekSentimentDistrib(tweets_df):\n",
    "    print('\\nCalculated Sentiment Distribution:')\n",
    "    display(tweets_df['sentiment'].value_counts())\n",
    "    user_input = input('Distribution okay? (y/n) ')\n",
    "    if user_input != 'y':\n",
    "        return False\n",
    "    return True\n"
   ]
  },
  {
   "cell_type": "code",
   "execution_count": null,
   "metadata": {
    "ExecuteTime": {
     "end_time": "2022-04-07T22:47:52.399831Z",
     "start_time": "2022-04-07T22:47:52.291560Z"
    }
   },
   "outputs": [],
   "source": [
    "\n",
    "def transform(raw_tweets_df, sentiment_map, column_mappings={}, \n",
    "                                filter_words=[], models={}, **kwargs):\n",
    "    signals = []\n",
    "    clean_tweets, filtered_tweets = cleanAndFilter(raw_tweets_df=raw_tweets_df, \n",
    "                                                    column_mappings=column_mappings, \n",
    "                                                    filter_words=filter_words, \n",
    "                                                    kwargs=kwargs)\n",
    "\n",
    "    if (existing_word_vec := models.get('word_vec')):\n",
    "        word_vectors = existing_word_vec\n",
    "    else:\n",
    "        word_vectors = buildWordVectors(clean_tweets, kwargs)\n",
    "    \n",
    "    if (existing_kmeans := models.get('kmeans')):\n",
    "        cluster_model = existing_kmeans\n",
    "    else:\n",
    "        # Build KMeans model to cluster words into positive, negative, and neutral clusters\n",
    "        if (kmeans_params := kwargs.get('kmeans_args')):\n",
    "            cluster_model = KMeans(**kmeans_params)\n",
    "        else:\n",
    "            cluster_model = KMeans(n_clusters=3, max_iter=1000, \n",
    "                                    random_state=42, n_init=50)\n",
    "        cluster_model = cluster_model.fit(X=word_vectors.vectors.astype('double'))\n",
    "                        \n",
    "    ############# Get Input ###############\n",
    "    cluster_sentiment_defs = setClusterSentiment(vectors=word_vectors, \n",
    "                                                    model=cluster_model, \n",
    "                                                    mapping=sentiment_map, \n",
    "                                                    display_terms=kwargs.get('display_terms'))\n",
    "    if not cluster_sentiment_defs:\n",
    "        signals.append(ControlSignal(CONTROL_ACTIONS.ABORT, ))\n",
    "        return\n",
    "    print('\\nApplying sentiment mapping...')\n",
    "    #######################################\n",
    "\n",
    "    if (existing_embeddings := kwargs.get('embeddings')):\n",
    "        words_df = existing_embeddings\n",
    "    else:\n",
    "        words_df = buildWordEmbeddings(word_vectors=word_vectors, \n",
    "                                        model=cluster_model, \n",
    "                                        sentiment_defs=cluster_sentiment_defs, \n",
    "                                        sentiment_map=sentiment_map)\n",
    "        \n",
    "    # Get the sentiment for the entire tweet\n",
    "    threshold = kwargs.get('sentiment_threshold', 0.15)\n",
    "    words_cluster_dict = dict(zip(words_df.words, words_df.cluster_value))\n",
    "    def getSentiment(row):\n",
    "        total, count = 0, 0\n",
    "        test = row[\"clean_tweet_words\"]\n",
    "        for t in test:\n",
    "            total += int(words_cluster_dict.get(t, 0))\n",
    "            count += 1 \n",
    "            \n",
    "        avg = total / count\n",
    "        return -1 if (avg < -threshold) else 1 if (avg > threshold) else 0\n",
    "\n",
    "    # Add sentiment column (integer values)\n",
    "    filtered_tweets[\"sentiment_val\"] = filtered_tweets.apply(getSentiment, axis=1)\n",
    "    # Map integer sentiment to word value\n",
    "    filtered_tweets[\"sentiment\"] = filtered_tweets[\"sentiment_val\"].map(sentiment_map)\n",
    "\n",
    "    # Confirm sentiment spread with user\n",
    "    if not peekSentimentDistrib(filtered_tweets):\n",
    "        return\n",
    "    return filtered_tweets, words_df, cluster_sentiment_defs"
   ]
  },
  {
   "cell_type": "code",
   "execution_count": null,
   "metadata": {},
   "outputs": [],
   "source": [
    "def testModel(model, X_test, y_test):\n",
    "    # Predict\n",
    "    y_pred = model.predict(X_test)\n",
    "\n",
    "    # Build confusion matrix to evaluate the model results\n",
    "    confusion = confusion_matrix(y_test, y_pred, labels=np.unique(y_pred))\n",
    "\n",
    "    # Get classification report\n",
    "    classification = classification_report(y_test, y_pred, labels=np.unique(y_pred))\n",
    "\n",
    "    # Use score method to get accuracy of model\n",
    "    acc_score = model.score(X_test, y_test)\n",
    "\n",
    "    return {\n",
    "        'confusion': confusion,\n",
    "        'classification': classification,\n",
    "        'acc_score': acc_score,\n",
    "    }"
   ]
  },
  {
   "cell_type": "markdown",
   "metadata": {},
   "source": [
    "## Build `model` function"
   ]
  },
  {
   "cell_type": "code",
   "execution_count": null,
   "metadata": {
    "ExecuteTime": {
     "end_time": "2022-04-07T22:47:59.009834Z",
     "start_time": "2022-04-07T22:47:58.996891Z"
    }
   },
   "outputs": [],
   "source": [
    "\n",
    "def model(sentiment_df, test_size=0.2, models={}, **kwargs):\n",
    "    \n",
    "    # Convert each sentiment to df (no need to worry about memory crash, small dataset)\n",
    "    pos_df = sentiment_df[sentiment_df[\"sentiment\"]==\"positive\"]\n",
    "    neg_df = sentiment_df[sentiment_df[\"sentiment\"]==\"negative\"]\n",
    "    neu_df = sentiment_df[sentiment_df[\"sentiment\"]==\"neutral\"]\n",
    "\n",
    "    # Combine all sentiments in one df\n",
    "    sentiments_df_list = [pos_df, neg_df, neu_df] \n",
    "    agg_sentiment_df = pd.concat(sentiments_df_list)\n",
    "\n",
    "    # Split the data to training, testing, and validation data \n",
    "    train_test_df, _ = train_test_split(agg_sentiment_df, test_size=test_size, random_state=10)\n",
    "\n",
    "    X = train_test_df['clean_tweet']\n",
    "    y = train_test_df['sentiment_val']\n",
    "\n",
    "    # Split the dataset set into training and test set\n",
    "    X_train, X_test, y_train, y_test = train_test_split(X, y, test_size=test_size, random_state=42)\n",
    "\n",
    "    # Instantiate TfidfVectorizer \n",
    "    if (existing_vectorizer := models.get('vectorizer')):\n",
    "        vectorizer = existing_vectorizer\n",
    "    else: \n",
    "        if (vectorizer_params := kwargs.get('vectorizer_args')):\n",
    "            vectorizer = TfidfVectorizer(**vectorizer_params)\n",
    "        else:\n",
    "            vectorizer = TfidfVectorizer(min_df=3,\n",
    "                                            sublinear_tf=True,\n",
    "                                            ngram_range=(1,2),\n",
    "                                            stop_words='english')\n",
    "\n",
    "    # Fit vectorizer\n",
    "    X_train_tf = vectorizer.fit_transform(X_train.reset_index()[\"clean_tweet\"]).toarray()\n",
    "    X_test_tf = vectorizer.transform(X_test.reset_index()[\"clean_tweet\"]).toarray()\n",
    "\n",
    "    # Store features from the vectors\n",
    "    feature_names = vectorizer.get_feature_names_out()\n",
    "\n",
    "    # Create a dict of Sentiment_val: sentiments to use with the confusion matrix\n",
    "    sentiment_id_df = agg_sentiment_df[['sentiment', 'sentiment_val']].drop_duplicates() \\\n",
    "                                                                        .sort_values('sentiment_val')\n",
    "    sentiment_to_id = dict(sentiment_id_df.values)\n",
    "\n",
    "    ## LinearSVC ##\n",
    "\n",
    "    if (existing_svc := models.get('svc')):\n",
    "        # (NOTE: Must use same vectorizer from its fitting)\n",
    "        linearSVC = existing_svc\n",
    "    else:\n",
    "        # Instantiate the model\n",
    "        linearSVC = LinearSVC()\n",
    "\n",
    "        # Fit the model\n",
    "        linearSVC.fit(X_train_tf, y_train)\n",
    "\n",
    "    svc_performance = testModel(model=linearSVC, X_test=X_test_tf, y_test=y_test)\n",
    "\n",
    "    ## MultinomialNB ##\n",
    "\n",
    "    if (existing_nb := models.get('nb')):\n",
    "        # (NOTE: Must use same vectorizer from its fitting)\n",
    "        multiNB = existing_nb\n",
    "    else:\n",
    "        # Instantiate the model\n",
    "        multiNB = MultinomialNB()\n",
    "\n",
    "        # Fit the model\n",
    "        multiNB.fit(X_train_tf, y_train)\n",
    "\n",
    "    nb_performance = testModel(model=multiNB, X_test=X_test_tf, y_test=y_test)\n",
    "\n",
    "    return {\n",
    "        'LinearSVC': svc_performance,\n",
    "        'MultinomialNB': nb_performance,\n",
    "        'features': feature_names,\n",
    "        'vectorizer': vectorizer,\n",
    "        'sentiment_id': sentiment_id_df,\n",
    "        'sentiment_to': sentiment_to_id\n",
    "    }"
   ]
  },
  {
   "cell_type": "markdown",
   "metadata": {},
   "source": [
    "## Build `load` function"
   ]
  },
  {
   "cell_type": "code",
   "execution_count": null,
   "metadata": {},
   "outputs": [],
   "source": [
    "def load(transform_df, transform_dest=None, models={}, model_dest={}, nb_dest=None):\n",
    "\n",
    "    # Export the sentiment dataframe\n",
    "    if transform_dest:\n",
    "        transform_df.to_csv(transform_dest)\n",
    "    \n",
    "    # Pair up models with their export destination \n",
    "    model_exports = { name : (path, models[name]) for name, path in model_dest \n",
    "                                            if (name in models and models[name]) }\n",
    "    for name, export_info in model_exports.items():\n",
    "        export_path, model = export_info\n",
    "        if name == 'word_vec':\n",
    "            model.save(export_path)\n",
    "        elif name == 'embeddings':\n",
    "            model.to_csv(export_path)\n",
    "        else:\n",
    "            dump(model, export_path)\n",
    "            \n",
    "    # Save current notebook for import by Pipeline 2\n",
    "    if nb_dest:\n",
    "        \n",
    "        !jupyter nbconvert --output {nb_dest} --to script pipeline_1.ipynb\n",
    "\n",
    "        # Get rid of excess\n",
    "        with open(nb_dest + '.py', 'r+') as fp:\n",
    "            lines = fp.readlines()\n",
    "            fp.seek(0)\n",
    "            fp.truncate()\n",
    "            cell_markers = []\n",
    "            execute_start, execute_end = -1, -1\n",
    "            for i, line in enumerate(lines):\n",
    "                if '## Execute `pipeline`' in line:\n",
    "                    execute_start = i\n",
    "                elif '## Visualizations' in line:\n",
    "                    execute_end = i\n",
    "                elif '# In[' in line:\n",
    "                    cell_markers.append(i)\n",
    "            \n",
    "            exclude_list = list(range(execute_start, execute_end))\n",
    "            exclude_list.extend(cell_markers)\n",
    "\n",
    "            fp.writelines([l for i, l in enumerate(lines) if i not in set(exclude_list)])"
   ]
  },
  {
   "cell_type": "markdown",
   "metadata": {},
   "source": [
    "## Build `pipeline` function from above processes"
   ]
  },
  {
   "cell_type": "code",
   "execution_count": null,
   "metadata": {
    "ExecuteTime": {
     "end_time": "2022-04-07T22:48:17.303608Z",
     "start_time": "2022-04-07T22:48:17.298387Z"
    }
   },
   "outputs": [],
   "source": [
    "def pipeline1(import_path, import_params={}, extract_args={}, transform_args={}, \n",
    "                model_args={}, control_params={}):\n",
    "\n",
    "    \n",
    "    if not transform_args.get('sentiment_map'):\n",
    "        transform_args['sentiment_map'] = { -1: \"negative\", 0: \"neutral\", 1: \"positive\" }\n",
    "\n",
    "    print('Stage 1: Extracting...')\n",
    "\n",
    "    config = defaultdict(dict)\n",
    "\n",
    "    all_tweets_df, target_df = extract(import_path=import_path,\n",
    "                                local_path=import_params.get('local_path', f\"./{import_path.split('/')[-1]}.csv\"),\n",
    "                                **extract_args)\n",
    "\n",
    "    print('Completed Stage 1.\\n\\nStage 2: Transforming...')\n",
    "    transform_tweets_df, word_vecs, sentiment_defs = transform(filtered_df=target_df, \n",
    "                        cumulative_df=all_tweets_df,\n",
    "                        **transform_args)\n",
    "\n",
    "    model_dict = {}\n",
    "    if not transform_tweets_df.empty:\n",
    "        if sentiment_defs:\n",
    "            config['sentiment_vals'] = {\n",
    "                'value_mapping': transform_args['sentiment_map'],\n",
    "                'cluster_mapping': sentiment_defs\n",
    "            }\n",
    "\n",
    "        print('Completed Stage 2.')\n",
    "\n",
    "        if (save_transform := control_params.get('save_transform')):\n",
    "            transform_tweets_df.to_csv(save_transform)\n",
    "\n",
    "        if control_params.get('build_models'):\n",
    "            print('\\nStage 3: Modeling...')\n",
    "            model_dict = model(sentiment_df=transform_tweets_df, **model_args)\n",
    "            print('Completed Stage 3.')\n",
    "\n",
    "        if (nb_dest := control_params.get('nb_export')):\n",
    "            load(nb_dest)\n",
    "\n",
    "        if (config_loc := control_params.get('config')):\n",
    "            with open(config_loc, 'w') as f:\n",
    "                json.dump(config, f)\n",
    "\n",
    "    else:\n",
    "        # Process aborted. Clean up...\n",
    "        print('Cleaning...')\n",
    "        save_params = ['save_word_vec', 'save_embeddings', 'save_kmeans']\n",
    "        staged_paths = [transform_args[p] for p in save_params if transform_args.get(p)]\n",
    "        for path in staged_paths:\n",
    "            try:\n",
    "                os.remove(path)\n",
    "            except OSError as e:\n",
    "                print('Could not delete file, got' + str(e))\n",
    "        \n",
    "    print('\\n<done>')\n",
    "    return transform_tweets_df, word_vecs, model_dict"
   ]
  },
  {
   "cell_type": "markdown",
   "metadata": {},
   "source": [
    "## Execute `pipeline`"
   ]
  },
  {
   "cell_type": "code",
   "execution_count": null,
   "metadata": {
    "ExecuteTime": {
     "end_time": "2022-04-07T22:52:33.738405Z",
     "start_time": "2022-04-07T22:50:56.370146Z"
    }
   },
   "outputs": [],
   "source": [
    "\n",
    "# Format parameters\n",
    "data_import_params, curr_time = formatParams(DATA_IMPORT_PARAMS)\n",
    "extract_args, _ = formatParams(EXTRACT_ARGS, curr_time)\n",
    "transform_args, _ = formatParams(TRANSFORM_ARGS, curr_time)\n",
    "model_args, _ = formatParams(MODEL_ARGS, curr_time)\n",
    "control_params, _ = formatParams(CONTROL_PARAMS, curr_time)\n",
    "\n",
    "\n",
    "sentiment_df, word_vecs, model_dict = pipeline1(import_path=data_import_params['data_path'],\n",
    "                                                import_params=data_import_params, \n",
    "                                                extract_args=extract_args,\n",
    "                                                transform_args=transform_args, \n",
    "                                                model_args=model_args, \n",
    "                                                control_params=control_params)"
   ]
  },
  {
   "cell_type": "markdown",
   "metadata": {},
   "source": [
    "## Visualizations"
   ]
  },
  {
   "cell_type": "code",
   "execution_count": null,
   "metadata": {},
   "outputs": [],
   "source": [
    "class GraphicProcessors:\n",
    "    \n",
    "    # Display a word cloud with the given text\n",
    "    def generateWordcloud(text):\n",
    "        words=' '.join([words for words in text])\n",
    "        wordcloud = WordCloud(max_font_size=50, max_words=100, background_color=\"white\").generate(words)\n",
    "        plt.figure(figsize=(10, 7))\n",
    "        plt.imshow(wordcloud, interpolation=\"bilinear\")\n",
    "        plt.axis('off')\n",
    "        plt.show()\n",
    "\n",
    "    # Shorthand functions for commonly used plots\n",
    "    graphWordDistribution = lambda word_vecs: GraphicProcessors.graphDistribution(word_vecs, 'sentiment', 'Sentiment Distribution of Words')\n",
    "    graphTweetDistribution = lambda tweet_df: GraphicProcessors.graphDistribution(tweet_df, 'sentiment', 'Sentiment Distribution of Tweets')\n",
    "\n",
    "    # Make a pie chart from a dataframe's column distribution\n",
    "    def graphDistribution(df, plot_col, title='', fig_size=(7, 7)):\n",
    "        fig = plt.gcf()\n",
    "        fig.set_size_inches(fig_size)\n",
    "        colors = [\"crimson\", \"steelblue\", \"mediumseagreen\"]\n",
    "\n",
    "        pie_df = df[plot_col].value_counts().reset_index()\n",
    "\n",
    "        plt.pie(pie_df[plot_col],\n",
    "                labels=pie_df[\"index\"],\n",
    "                radius=2,\n",
    "                colors=colors,\n",
    "                autopct=\"%1.1f%%\")\n",
    "\n",
    "        plt.axis('equal')\n",
    "        if title:\n",
    "            plt.title(title, fontsize=20)\n",
    "        plt.show()\n",
    "        return pie_df\n",
    "\n",
    "    # Display a bar chart with the counts of values within a specific column\n",
    "    def graphKeywordCounts(df, plot_col, count_col, keywords):\n",
    "        # Inspect keyword sentiment\n",
    "        pattern = '|'.join(keywords)\n",
    "        keyword_sent_df = df[(df[plot_col].str.contains(pattern))]\n",
    "        sns.countplot(x=keyword_sent_df[count_col]);\n",
    "\n",
    "    # Shorthand functions for commonly used plots\n",
    "    graphTop10Usernames = lambda tweets_df: GraphicProcessors.graphCounts(tweets_df, 'username', 'sentiment', 'Top 10 Highest Tweeting usernames', tweets_df['username'].value_counts().iloc[:10].index)\n",
    "    graphTop10Hashtags = lambda tweets_df: GraphicProcessors.graphCounts(tweets_df, 'hashtags', 'sentiment', 'Top 10 Hashtags', tweets_df['hashtags'].value_counts().iloc[1:10].index, (15,10))\n",
    "\n",
    "    # Display a more detailed bar chart from `graphKeywordSentiment`\n",
    "    def graphCounts(df, x_col, hue_col=None, title='', order=None, plt_size=(10,8)):\n",
    "        fig = plt.subplots(figsize=plt_size)\n",
    "        if title:\n",
    "            plt.title(title, fontsize=20)\n",
    "        chart = sns.countplot(x=x_col, \n",
    "                                data=df, \n",
    "                                palette=\"Set2\", \n",
    "                                hue=hue_col,\n",
    "                                order=order)\n",
    "\n",
    "        chart.set_xticklabels(chart.get_xticklabels(),\n",
    "                                rotation=30, \n",
    "                                horizontalalignment='right')\n",
    "\n",
    "    # Display a confusion matrix generated by a sklearn/tensorflow model\n",
    "    def graphConfusionmatrix(conf_mat, sentiment_id_df):\n",
    "        fig, ax = plt.subplots(figsize=(5,5))\n",
    "        sns.heatmap(conf_mat, \n",
    "                    annot=True, \n",
    "                    fmt='d',\n",
    "                    xticklabels=sentiment_id_df.sentiment.values, \n",
    "                    yticklabels=sentiment_id_df.sentiment_val.values)\n",
    "\n",
    "        plt.ylabel('Actual')\n",
    "        plt.xlabel('Predicted')\n",
    "\n",
    "    # Graph a bar chart of the top portion of feature coefficients from a model\n",
    "    def graphCoefficients(model, feature_names, top_features=20, fig_size=(15, 5)):\n",
    "\n",
    "        coefficients_and_features = sorted(zip(model.coef_[0], feature_names)) \n",
    "        features_coef_df = pd.DataFrame(coefficients_and_features)\n",
    "        features_coef_df.columns = 'coefficient','word'\n",
    "        features_coef_df.sort_values(by='coefficient')\n",
    "\n",
    "        num_features = len(feature_names)\n",
    "        neg_coefficients = model.coef_[-1][:num_features]\n",
    "        pos_coefficients = model.coef_[1][:num_features]\n",
    "        top_pos_coefficients = np.argsort(pos_coefficients[pos_coefficients > 0])[-top_features:]\n",
    "        top_neg_coefficients = np.argsort(pos_coefficients[neg_coefficients < 0])[:top_features]\n",
    "        top_coefficients = np.hstack([top_neg_coefficients, top_pos_coefficients])\n",
    "        total_coefficients = np.hstack([neg_coefficients, pos_coefficients])\n",
    "        \n",
    "        # create plot\n",
    "        fig = plt.figure(figsize=fig_size)\n",
    "        colors = ['red' if c < 0 else 'blue' for c in total_coefficients[top_coefficients]]\n",
    "        feature_names = np.array(feature_names)\n",
    "\n",
    "        plt.bar(np.arange(2 * top_features), total_coefficients[top_coefficients], color=colors)\n",
    "        plt.xticks(np.arange(1, 1 + 2 * top_features), feature_names[top_coefficients], rotation=60, ha='right')\n",
    "        title=\"Positive and Negative Labels\"\n",
    "        plt.title(title)\n",
    "        plt.show()"
   ]
  },
  {
   "cell_type": "markdown",
   "metadata": {},
   "source": [
    "### Distributions"
   ]
  },
  {
   "cell_type": "code",
   "execution_count": null,
   "metadata": {},
   "outputs": [],
   "source": [
    "GraphicProcessors.graphWordDistribution(word_vecs)"
   ]
  },
  {
   "cell_type": "code",
   "execution_count": null,
   "metadata": {},
   "outputs": [],
   "source": [
    "GraphicProcessors.graphTweetDistribution(sentiment_df)"
   ]
  },
  {
   "cell_type": "code",
   "execution_count": null,
   "metadata": {},
   "outputs": [],
   "source": [
    "GraphicProcessors.graphKeywordCounts(sentiment_df, 'clean_tweet', 'sentiment', ['russia'])"
   ]
  },
  {
   "cell_type": "markdown",
   "metadata": {},
   "source": [
    "### Counts"
   ]
  },
  {
   "cell_type": "code",
   "execution_count": null,
   "metadata": {},
   "outputs": [],
   "source": [
    "GraphicProcessors.graphTop10Usernames(sentiment_df)"
   ]
  },
  {
   "cell_type": "code",
   "execution_count": null,
   "metadata": {},
   "outputs": [],
   "source": [
    "GraphicProcessors.graphTop10Hashtags(sentiment_df)"
   ]
  },
  {
   "cell_type": "markdown",
   "metadata": {},
   "source": [
    "### Word Clouds"
   ]
  },
  {
   "cell_type": "code",
   "execution_count": null,
   "metadata": {},
   "outputs": [],
   "source": [
    "# Cloud for positive sentiment tweets\n",
    "GraphicProcessors.generateWordcloud(sentiment_df[sentiment_df['sentiment_val']==1]['clean_tweet'].values)"
   ]
  },
  {
   "cell_type": "code",
   "execution_count": null,
   "metadata": {},
   "outputs": [],
   "source": [
    "# Cloud for negative sentiment tweets\n",
    "GraphicProcessors.generateWordcloud(sentiment_df[sentiment_df['sentiment_val']==-1]['clean_tweet'].values)"
   ]
  },
  {
   "cell_type": "markdown",
   "metadata": {},
   "source": [
    "### Confusion Matricies"
   ]
  },
  {
   "cell_type": "code",
   "execution_count": null,
   "metadata": {},
   "outputs": [],
   "source": [
    "GraphicProcessors.graphConfusionmatrix(model_dict['LinearSVC']['conf_mat'], model_dict['sentiment_id'])"
   ]
  },
  {
   "cell_type": "code",
   "execution_count": null,
   "metadata": {},
   "outputs": [],
   "source": [
    "GraphicProcessors.graphConfusionmatrix(model_dict['MultinomialNB']['conf_mat'], model_dict['sentiment_id'])"
   ]
  },
  {
   "cell_type": "markdown",
   "metadata": {},
   "source": [
    "### Feature Coefficients"
   ]
  },
  {
   "cell_type": "code",
   "execution_count": null,
   "metadata": {},
   "outputs": [],
   "source": [
    "GraphicProcessors.graphCoefficients(model_dict['LinearSVC']['model'], model_dict['features'])"
   ]
  }
 ],
 "metadata": {
  "interpreter": {
   "hash": "10d883baf2d2c020187d16fb74e1bc85e676b385dd78044a08a209b4abcafece"
  },
  "kernelspec": {
   "display_name": "Python [conda env:nlp]",
   "language": "python",
   "name": "python3"
  },
  "language_info": {
   "codemirror_mode": {
    "name": "ipython",
    "version": 3
   },
   "file_extension": ".py",
   "mimetype": "text/x-python",
   "name": "python",
   "nbconvert_exporter": "python",
   "pygments_lexer": "ipython3",
   "version": "3.10.4"
  }
 },
 "nbformat": 4,
 "nbformat_minor": 2
}
