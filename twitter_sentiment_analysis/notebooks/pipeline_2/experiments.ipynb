{
 "cells": [
  {
   "cell_type": "markdown",
   "metadata": {},
   "source": [
    "# Sentiment Analysis Prediction"
   ]
  },
  {
   "cell_type": "markdown",
   "metadata": {},
   "source": [
    "## Import dependencies"
   ]
  },
  {
   "cell_type": "code",
   "execution_count": 1,
   "metadata": {},
   "outputs": [],
   "source": [
    "# System\n",
    "import re\n",
    "import multiprocessing\n",
    "\n",
    "# Data manipulation\n",
    "import pandas as pd\n",
    "import numpy as np\n",
    "\n",
    "# Graphing\n",
    "import matplotlib.pyplot as plt\n",
    "import seaborn as sns\n",
    "\n",
    "# Set plot style\n",
    "from jupyterthemes import jtplot\n",
    "jtplot.style(theme='onedork')"
   ]
  },
  {
   "cell_type": "code",
   "execution_count": 2,
   "metadata": {},
   "outputs": [],
   "source": [
    "# ML\n",
    "\n",
    "from sklearn.model_selection import train_test_split\n",
    "from sklearn import metrics\n",
    "from sklearn.metrics import confusion_matrix, plot_confusion_matrix, classification_report\n",
    "from sklearn.metrics import accuracy_score, recall_score, get_scorer, f1_score,roc_auc_score,precision_score\n",
    "from sklearn.feature_extraction.text import TfidfVectorizer\n",
    "\n",
    "from sklearn.cluster import KMeans\n",
    "from sklearn.linear_model import LogisticRegression\n",
    "from sklearn.ensemble import RandomForestClassifier\n",
    "from sklearn.svm import LinearSVC\n",
    "from sklearn.model_selection import cross_val_score\n",
    "from sklearn.naive_bayes import MultinomialNB\n",
    "\n",
    "from joblib import dump, load"
   ]
  },
  {
   "cell_type": "code",
   "execution_count": 3,
   "metadata": {},
   "outputs": [
    {
     "name": "stderr",
     "output_type": "stream",
     "text": [
      "/Users/petergish/opt/anaconda3/envs/nlp/lib/python3.10/site-packages/xgboost/compat.py:36: FutureWarning: pandas.Int64Index is deprecated and will be removed from pandas in a future version. Use pandas.Index with the appropriate dtype instead.\n",
      "  from pandas import MultiIndex, Int64Index\n",
      "[nltk_data] Downloading package stopwords to\n",
      "[nltk_data]     /Users/petergish/nltk_data...\n",
      "[nltk_data]   Package stopwords is already up-to-date!\n",
      "[nltk_data] Downloading package wordnet to\n",
      "[nltk_data]     /Users/petergish/nltk_data...\n",
      "[nltk_data]   Package wordnet is already up-to-date!\n",
      "[nltk_data] Downloading package omw-1.4 to\n",
      "[nltk_data]     /Users/petergish/nltk_data...\n",
      "[nltk_data]   Package omw-1.4 is already up-to-date!\n"
     ]
    },
    {
     "data": {
      "text/plain": [
       "True"
      ]
     },
     "execution_count": 3,
     "metadata": {},
     "output_type": "execute_result"
    }
   ],
   "source": [
    "# NLP\n",
    "from wordcloud import WordCloud\n",
    "\n",
    "from xgboost import XGBClassifier\n",
    "\n",
    "from gensim.models.phrases import Phrases, Phraser\n",
    "from gensim.models import Word2Vec\n",
    "\n",
    "import nltk\n",
    "from nltk.stem import WordNetLemmatizer\n",
    "from nltk.corpus import stopwords\n",
    "\n",
    "# Prep nltk library\n",
    "nltk.download('stopwords')\n",
    "nltk.download('wordnet')\n",
    "nltk.download('omw-1.4')"
   ]
  },
  {
   "cell_type": "markdown",
   "metadata": {},
   "source": [
    "## Load & inspect"
   ]
  },
  {
   "cell_type": "code",
   "execution_count": 40,
   "metadata": {},
   "outputs": [
    {
     "name": "stderr",
     "output_type": "stream",
     "text": [
      "/var/folders/dl/js17w9rx0xg2plhj4chp19pw0000gn/T/ipykernel_21375/994021539.py:4: FutureWarning: The error_bad_lines argument has been deprecated and will be removed in a future version. Use on_bad_lines in the future.\n",
      "\n",
      "\n",
      "  raw_tweets_df = pd.read_csv(file_path, encoding='latin-1', error_bad_lines=False, engine ='python', sep=',')\n",
      "Skipping line 58: Expected 1 fields in line 58, saw 2\n",
      "Skipping line 61: Expected 1 fields in line 61, saw 4\n",
      "Skipping line 74: Expected 1 fields in line 74, saw 8\n",
      "Skipping line 78: Expected 1 fields in line 78, saw 8\n",
      "Skipping line 81: Expected 1 fields in line 81, saw 2\n",
      "Skipping line 83: Expected 1 fields in line 83, saw 2\n",
      "Skipping line 91: Expected 1 fields in line 91, saw 9\n",
      "Skipping line 95: Expected 1 fields in line 95, saw 2\n",
      "Skipping line 96: Expected 1 fields in line 96, saw 6\n",
      "Skipping line 101: Expected 1 fields in line 101, saw 2\n",
      "Skipping line 102: Expected 1 fields in line 102, saw 3\n",
      "Skipping line 103: Expected 1 fields in line 103, saw 2\n",
      "Skipping line 104: Expected 1 fields in line 104, saw 2\n",
      "Skipping line 105: Expected 1 fields in line 105, saw 2\n",
      "Skipping line 114: Expected 1 fields in line 114, saw 2\n",
      "Skipping line 115: Expected 1 fields in line 115, saw 2\n",
      "Skipping line 116: Expected 1 fields in line 116, saw 2\n",
      "Skipping line 117: Expected 1 fields in line 117, saw 2\n",
      "Skipping line 118: Expected 1 fields in line 118, saw 2\n",
      "Skipping line 125: Expected 1 fields in line 125, saw 2\n",
      "Skipping line 146: Expected 1 fields in line 146, saw 2\n",
      "Skipping line 147: Expected 1 fields in line 147, saw 2\n",
      "Skipping line 148: Expected 1 fields in line 148, saw 2\n",
      "Skipping line 149: Expected 1 fields in line 149, saw 2\n"
     ]
    },
    {
     "data": {
      "text/html": [
       "<div>\n",
       "<style scoped>\n",
       "    .dataframe tbody tr th:only-of-type {\n",
       "        vertical-align: middle;\n",
       "    }\n",
       "\n",
       "    .dataframe tbody tr th {\n",
       "        vertical-align: top;\n",
       "    }\n",
       "\n",
       "    .dataframe thead th {\n",
       "        text-align: right;\n",
       "    }\n",
       "</style>\n",
       "<table border=\"1\" class=\"dataframe\">\n",
       "  <thead>\n",
       "    <tr style=\"text-align: right;\">\n",
       "      <th></th>\n",
       "      <th>&lt;!DOCTYPE html&gt;</th>\n",
       "    </tr>\n",
       "  </thead>\n",
       "  <tbody>\n",
       "    <tr>\n",
       "      <th>0</th>\n",
       "      <td>&lt;html lang=\"en\"&gt;</td>\n",
       "    </tr>\n",
       "    <tr>\n",
       "      <th>1</th>\n",
       "      <td>&lt;head&gt;</td>\n",
       "    </tr>\n",
       "    <tr>\n",
       "      <th>2</th>\n",
       "      <td>&lt;title&gt;Kaggle: Your Home for Data Science&lt;/t...</td>\n",
       "    </tr>\n",
       "    <tr>\n",
       "      <th>3</th>\n",
       "      <td>&lt;meta charset=\"utf-8\" /&gt;</td>\n",
       "    </tr>\n",
       "    <tr>\n",
       "      <th>4</th>\n",
       "      <td>&lt;meta name=\"description\" content=\"Kaggle is ...</td>\n",
       "    </tr>\n",
       "    <tr>\n",
       "      <th>5</th>\n",
       "      <td>&lt;meta name=\"turbolinks-cache-control\" conten...</td>\n",
       "    </tr>\n",
       "    <tr>\n",
       "      <th>6</th>\n",
       "      <td>&lt;meta name=\"theme-color\" content=\"#008ABC\" /&gt;</td>\n",
       "    </tr>\n",
       "    <tr>\n",
       "      <th>7</th>\n",
       "      <td>&lt;script nonce=\"2qU/IFzmcdulTfKE7sLlnQ==\" typ...</td>\n",
       "    </tr>\n",
       "    <tr>\n",
       "      <th>8</th>\n",
       "      <td>window[\"pageRequestStartTime\"] = 164686609...</td>\n",
       "    </tr>\n",
       "    <tr>\n",
       "      <th>9</th>\n",
       "      <td>window[\"pageRequestEndTime\"] = 1646866095256;</td>\n",
       "    </tr>\n",
       "  </tbody>\n",
       "</table>\n",
       "</div>"
      ],
      "text/plain": [
       "                                     <!DOCTYPE html>\n",
       "0                                   <html lang=\"en\">\n",
       "1                                             <head>\n",
       "2    <title>Kaggle: Your Home for Data Science</t...\n",
       "3                           <meta charset=\"utf-8\" />\n",
       "4    <meta name=\"description\" content=\"Kaggle is ...\n",
       "5    <meta name=\"turbolinks-cache-control\" conten...\n",
       "6      <meta name=\"theme-color\" content=\"#008ABC\" />\n",
       "7    <script nonce=\"2qU/IFzmcdulTfKE7sLlnQ==\" typ...\n",
       "8      window[\"pageRequestStartTime\"] = 164686609...\n",
       "9      window[\"pageRequestEndTime\"] = 1646866095256;"
      ]
     },
     "execution_count": 40,
     "metadata": {},
     "output_type": "execute_result"
    }
   ],
   "source": [
    "# Load data\n",
    "# file_path = 'https://www.kaggle.com/towhidultonmoy/russia-vs-ukraine-tweets-datasetdaily-updated?select=filename.csv'\n",
    "file_path = 'https://www.kaggle.com/towhidultonmoy/russia-vs-ukraine-tweets-datasetdaily-updated/download'\n",
    "raw_tweets_df = pd.read_csv(file_path, encoding='latin-1', error_bad_lines=False, engine ='python', sep=',')\n",
    "raw_tweets_df.head(10)"
   ]
  },
  {
   "cell_type": "code",
   "execution_count": 41,
   "metadata": {},
   "outputs": [
    {
     "name": "stdout",
     "output_type": "stream",
     "text": [
      "<class 'pandas.core.frame.DataFrame'>\n",
      "RangeIndex: 85 entries, 0 to 84\n",
      "Data columns (total 1 columns):\n",
      " #   Column           Non-Null Count  Dtype \n",
      "---  ------           --------------  ----- \n",
      " 0   <!DOCTYPE html>  85 non-null     object\n",
      "dtypes: object(1)\n",
      "memory usage: 808.0+ bytes\n"
     ]
    }
   ],
   "source": [
    "# Get basic summary\n",
    "raw_tweets_df.info()"
   ]
  },
  {
   "cell_type": "code",
   "execution_count": 6,
   "metadata": {},
   "outputs": [
    {
     "data": {
      "text/plain": [
       "id                 10011\n",
       "conversation_id     7567\n",
       "created_at          2567\n",
       "date                   1\n",
       "time                2567\n",
       "timezone               1\n",
       "user_id             7753\n",
       "username            7753\n",
       "name                7642\n",
       "place                  3\n",
       "tweet               9952\n",
       "language              47\n",
       "mentions             468\n",
       "urls                2015\n",
       "photos               940\n",
       "replies_count         29\n",
       "retweets_count        49\n",
       "likes_count          100\n",
       "hashtags            1292\n",
       "cashtags              24\n",
       "link               10011\n",
       "retweet                1\n",
       "quote_url            692\n",
       "video                  2\n",
       "thumbnail           1101\n",
       "near                   0\n",
       "geo                    0\n",
       "source                 0\n",
       "user_rt_id             0\n",
       "user_rt                0\n",
       "retweet_id             0\n",
       "reply_to            3514\n",
       "retweet_date           0\n",
       "translate              0\n",
       "trans_src              0\n",
       "trans_dest             0\n",
       "dtype: int64"
      ]
     },
     "execution_count": 6,
     "metadata": {},
     "output_type": "execute_result"
    }
   ],
   "source": [
    "# Get unique values\n",
    "raw_tweets_df.nunique()"
   ]
  },
  {
   "cell_type": "code",
   "execution_count": 7,
   "metadata": {},
   "outputs": [
    {
     "data": {
      "text/plain": [
       "Index(['id', 'conversation_id', 'created_at', 'date', 'time', 'timezone',\n",
       "       'user_id', 'username', 'name', 'place', 'tweet', 'language', 'mentions',\n",
       "       'urls', 'photos', 'replies_count', 'retweets_count', 'likes_count',\n",
       "       'hashtags', 'cashtags', 'link', 'retweet', 'quote_url', 'video',\n",
       "       'thumbnail', 'near', 'geo', 'source', 'user_rt_id', 'user_rt',\n",
       "       'retweet_id', 'reply_to', 'retweet_date', 'translate', 'trans_src',\n",
       "       'trans_dest'],\n",
       "      dtype='object')"
      ]
     },
     "execution_count": 7,
     "metadata": {},
     "output_type": "execute_result"
    }
   ],
   "source": [
    "# View all columns\n",
    "raw_tweets_df.columns"
   ]
  },
  {
   "cell_type": "markdown",
   "metadata": {},
   "source": [
    "## Cleaning"
   ]
  },
  {
   "cell_type": "code",
   "execution_count": 8,
   "metadata": {},
   "outputs": [
    {
     "data": {
      "text/plain": [
       "(10011, 5)"
      ]
     },
     "execution_count": 8,
     "metadata": {},
     "output_type": "execute_result"
    }
   ],
   "source": [
    "# Select relevant columns\n",
    "col_rename_map = {\n",
    "    'date': 'date',\n",
    "    'username': 'username',\n",
    "    # 'language': 'language'\n",
    "    'retweets_count': 'retweets',\n",
    "    'tweet': 'tweet',\n",
    "    'hashtags': 'hashtags'\n",
    "}\n",
    "\n",
    "tweets_df = raw_tweets_df[list(col_rename_map.keys())].rename(columns=col_rename_map)\n",
    "tweets_df.shape"
   ]
  },
  {
   "cell_type": "code",
   "execution_count": 9,
   "metadata": {},
   "outputs": [],
   "source": [
    "# Filter out non-english tweets\n",
    "# tweets_df = tweets_df[tweets_df[\"language\"]==\"en\"]\n",
    "# tweets_df.shape"
   ]
  },
  {
   "cell_type": "code",
   "execution_count": 10,
   "metadata": {},
   "outputs": [
    {
     "data": {
      "text/plain": [
       "59"
      ]
     },
     "execution_count": 10,
     "metadata": {},
     "output_type": "execute_result"
    }
   ],
   "source": [
    "# Check duplicate tweets\n",
    "tweets_df['tweet'].duplicated(keep='first').sum()"
   ]
  },
  {
   "cell_type": "code",
   "execution_count": 11,
   "metadata": {},
   "outputs": [
    {
     "data": {
      "text/plain": [
       "(9952, 5)"
      ]
     },
     "execution_count": 11,
     "metadata": {},
     "output_type": "execute_result"
    }
   ],
   "source": [
    "# Drop duplicate tweets\n",
    "tweets_df = tweets_df.drop_duplicates(subset='tweet', keep='first')\n",
    "tweets_df.shape"
   ]
  },
  {
   "cell_type": "code",
   "execution_count": 12,
   "metadata": {},
   "outputs": [],
   "source": [
    "# Initialize Lemmatizer and stopwords\n",
    "lemma = WordNetLemmatizer()\n",
    "stop_words = stopwords.words(\"english\")"
   ]
  },
  {
   "cell_type": "code",
   "execution_count": 13,
   "metadata": {},
   "outputs": [],
   "source": [
    "# Define cleaning functions\n",
    "\n",
    "def cleanText(tweet):\n",
    "\n",
    "    tweet = tweet.lower()\n",
    "    tweet = re.sub('https?:\\/\\/[a-zA-Z0-9@:%._\\/+~#=?&;-]*', ' ', tweet)\n",
    "    tweet = re.sub('\\$[a-zA-Z0-9]*', ' ', tweet)\n",
    "    tweet = re.sub('\\@[a-zA-Z0-9]*', ' ', tweet)\n",
    "    tweet = re.sub('[^a-zA-Z\\']', ' ', tweet)\n",
    "    tweet = ' '.join( [w for w in tweet.split() if len(w)>1] )\n",
    "    \n",
    "    lem_stopwords = [lemma.lemmatize(x) for x in nltk.wordpunct_tokenize(tweet) \n",
    "                     if x not in stop_words]\n",
    "    tweet = ' '.join(lem_stopwords)\n",
    "    \n",
    "    return [lemma.lemmatize(x, nltk.corpus.reader.wordnet.VERB) for x in nltk.wordpunct_tokenize(tweet) \n",
    "             if x not in stop_words]\n",
    "\n",
    "\n",
    "def cleanHashtags(hashtags):\n",
    "\n",
    "    if hashtags:\n",
    "        hashtags = hashtags.lower()\n",
    "        hashtags = re.sub('\\$[a-zA-Z0-9]*', ' ', hashtags)\n",
    "        hashtags = re.sub('[^a-zA-Z]', ' ', hashtags)\n",
    "        hashtags=hashtags.strip() \n",
    "    return hashtags"
   ]
  },
  {
   "cell_type": "code",
   "execution_count": 14,
   "metadata": {},
   "outputs": [],
   "source": [
    "# Clean text\n",
    "tweets_df['clean_tweet'] = tweets_df['tweet'].apply(lambda x: cleanText(x))\n",
    "tweets_df['cleaned_tweet'] = tweets_df['clean_tweet'].apply(lambda x:' '.join(x))"
   ]
  },
  {
   "cell_type": "code",
   "execution_count": 15,
   "metadata": {},
   "outputs": [],
   "source": [
    "# Clean hashtags\n",
    "tweets_df[\"hashtags\"] = tweets_df[\"hashtags\"].astype(str)\n",
    "tweets_df[\"hashtags\"] = tweets_df[\"hashtags\"].apply(lambda x: cleanHashtags(x))"
   ]
  },
  {
   "cell_type": "code",
   "execution_count": 16,
   "metadata": {},
   "outputs": [
    {
     "data": {
      "text/html": [
       "<div>\n",
       "<style scoped>\n",
       "    .dataframe tbody tr th:only-of-type {\n",
       "        vertical-align: middle;\n",
       "    }\n",
       "\n",
       "    .dataframe tbody tr th {\n",
       "        vertical-align: top;\n",
       "    }\n",
       "\n",
       "    .dataframe thead th {\n",
       "        text-align: right;\n",
       "    }\n",
       "</style>\n",
       "<table border=\"1\" class=\"dataframe\">\n",
       "  <thead>\n",
       "    <tr style=\"text-align: right;\">\n",
       "      <th></th>\n",
       "      <th>date</th>\n",
       "      <th>username</th>\n",
       "      <th>retweets</th>\n",
       "      <th>tweet</th>\n",
       "      <th>hashtags</th>\n",
       "      <th>clean_tweet</th>\n",
       "      <th>cleaned_tweet</th>\n",
       "    </tr>\n",
       "  </thead>\n",
       "  <tbody>\n",
       "    <tr>\n",
       "      <th>0</th>\n",
       "      <td>2022-03-08</td>\n",
       "      <td>nullis_cede</td>\n",
       "      <td>0</td>\n",
       "      <td>OK, now that we've got you all hating on Russi...</td>\n",
       "      <td></td>\n",
       "      <td>[ok, ', get, hat, russia, ', mind, clamp, cryp...</td>\n",
       "      <td>ok ' get hat russia ' mind clamp crypto curren...</td>\n",
       "    </tr>\n",
       "    <tr>\n",
       "      <th>1</th>\n",
       "      <td>2022-03-08</td>\n",
       "      <td>shekhargupta</td>\n",
       "      <td>0</td>\n",
       "      <td>Aryabhata to Gaganyaan, S-400 &amp;amp; nuclear en...</td>\n",
       "      <td>theprinrscience</td>\n",
       "      <td>[aryabhata, gaganyaan, amp, nuclear, energy, i...</td>\n",
       "      <td>aryabhata gaganyaan amp nuclear energy india a...</td>\n",
       "    </tr>\n",
       "    <tr>\n",
       "      <th>2</th>\n",
       "      <td>2022-03-08</td>\n",
       "      <td>privateloungec</td>\n",
       "      <td>0</td>\n",
       "      <td>Sanctions Bite – Netflix, American Express, 2 ...</td>\n",
       "      <td></td>\n",
       "      <td>[sanction, bite, netflix, american, express, m...</td>\n",
       "      <td>sanction bite netflix american express major a...</td>\n",
       "    </tr>\n",
       "    <tr>\n",
       "      <th>3</th>\n",
       "      <td>2022-03-08</td>\n",
       "      <td>starry_sky25</td>\n",
       "      <td>0</td>\n",
       "      <td>@enargins @juliegrizzy 🤗 I just read some of y...</td>\n",
       "      <td></td>\n",
       "      <td>[read, blog, like, husband, write, one, mostly...</td>\n",
       "      <td>read blog like husband write one mostly pride ...</td>\n",
       "    </tr>\n",
       "    <tr>\n",
       "      <th>4</th>\n",
       "      <td>2022-03-08</td>\n",
       "      <td>pastynome</td>\n",
       "      <td>0</td>\n",
       "      <td>@ArtyomLukin It’s complicated. This exemption ...</td>\n",
       "      <td></td>\n",
       "      <td>[complicate, exemption, give, south, korean, g...</td>\n",
       "      <td>complicate exemption give south korean governm...</td>\n",
       "    </tr>\n",
       "  </tbody>\n",
       "</table>\n",
       "</div>"
      ],
      "text/plain": [
       "         date        username  retweets  \\\n",
       "0  2022-03-08     nullis_cede         0   \n",
       "1  2022-03-08    shekhargupta         0   \n",
       "2  2022-03-08  privateloungec         0   \n",
       "3  2022-03-08    starry_sky25         0   \n",
       "4  2022-03-08       pastynome         0   \n",
       "\n",
       "                                               tweet         hashtags  \\\n",
       "0  OK, now that we've got you all hating on Russi...                    \n",
       "1  Aryabhata to Gaganyaan, S-400 &amp; nuclear en...  theprinrscience   \n",
       "2  Sanctions Bite – Netflix, American Express, 2 ...                    \n",
       "3  @enargins @juliegrizzy 🤗 I just read some of y...                    \n",
       "4  @ArtyomLukin It’s complicated. This exemption ...                    \n",
       "\n",
       "                                         clean_tweet  \\\n",
       "0  [ok, ', get, hat, russia, ', mind, clamp, cryp...   \n",
       "1  [aryabhata, gaganyaan, amp, nuclear, energy, i...   \n",
       "2  [sanction, bite, netflix, american, express, m...   \n",
       "3  [read, blog, like, husband, write, one, mostly...   \n",
       "4  [complicate, exemption, give, south, korean, g...   \n",
       "\n",
       "                                       cleaned_tweet  \n",
       "0  ok ' get hat russia ' mind clamp crypto curren...  \n",
       "1  aryabhata gaganyaan amp nuclear energy india a...  \n",
       "2  sanction bite netflix american express major a...  \n",
       "3  read blog like husband write one mostly pride ...  \n",
       "4  complicate exemption give south korean governm...  "
      ]
     },
     "execution_count": 16,
     "metadata": {},
     "output_type": "execute_result"
    }
   ],
   "source": [
    "tweets_df.head()"
   ]
  },
  {
   "cell_type": "code",
   "execution_count": 17,
   "metadata": {},
   "outputs": [],
   "source": [
    "# Convert date to datetime and extract month/year\n",
    "tweets_df['date'] = pd.to_datetime(tweets_df['date'])\n",
    "tweets_df['month'] = tweets_df['date'].dt.month\n",
    "tweets_df['year'] = tweets_df['date'].dt.year"
   ]
  },
  {
   "cell_type": "code",
   "execution_count": 18,
   "metadata": {},
   "outputs": [
    {
     "data": {
      "text/html": [
       "<div>\n",
       "<style scoped>\n",
       "    .dataframe tbody tr th:only-of-type {\n",
       "        vertical-align: middle;\n",
       "    }\n",
       "\n",
       "    .dataframe tbody tr th {\n",
       "        vertical-align: top;\n",
       "    }\n",
       "\n",
       "    .dataframe thead th {\n",
       "        text-align: right;\n",
       "    }\n",
       "</style>\n",
       "<table border=\"1\" class=\"dataframe\">\n",
       "  <thead>\n",
       "    <tr style=\"text-align: right;\">\n",
       "      <th></th>\n",
       "      <th>date</th>\n",
       "      <th>username</th>\n",
       "      <th>retweets</th>\n",
       "      <th>tweet</th>\n",
       "      <th>hashtags</th>\n",
       "      <th>clean_tweet</th>\n",
       "      <th>cleaned_tweet</th>\n",
       "      <th>month</th>\n",
       "      <th>year</th>\n",
       "    </tr>\n",
       "  </thead>\n",
       "  <tbody>\n",
       "    <tr>\n",
       "      <th>0</th>\n",
       "      <td>2022-03-08</td>\n",
       "      <td>nullis_cede</td>\n",
       "      <td>0</td>\n",
       "      <td>OK, now that we've got you all hating on Russi...</td>\n",
       "      <td></td>\n",
       "      <td>[ok, ', get, hat, russia, ', mind, clamp, cryp...</td>\n",
       "      <td>ok ' get hat russia ' mind clamp crypto curren...</td>\n",
       "      <td>3</td>\n",
       "      <td>2022</td>\n",
       "    </tr>\n",
       "    <tr>\n",
       "      <th>1</th>\n",
       "      <td>2022-03-08</td>\n",
       "      <td>shekhargupta</td>\n",
       "      <td>0</td>\n",
       "      <td>Aryabhata to Gaganyaan, S-400 &amp;amp; nuclear en...</td>\n",
       "      <td>theprinrscience</td>\n",
       "      <td>[aryabhata, gaganyaan, amp, nuclear, energy, i...</td>\n",
       "      <td>aryabhata gaganyaan amp nuclear energy india a...</td>\n",
       "      <td>3</td>\n",
       "      <td>2022</td>\n",
       "    </tr>\n",
       "    <tr>\n",
       "      <th>2</th>\n",
       "      <td>2022-03-08</td>\n",
       "      <td>privateloungec</td>\n",
       "      <td>0</td>\n",
       "      <td>Sanctions Bite – Netflix, American Express, 2 ...</td>\n",
       "      <td></td>\n",
       "      <td>[sanction, bite, netflix, american, express, m...</td>\n",
       "      <td>sanction bite netflix american express major a...</td>\n",
       "      <td>3</td>\n",
       "      <td>2022</td>\n",
       "    </tr>\n",
       "    <tr>\n",
       "      <th>3</th>\n",
       "      <td>2022-03-08</td>\n",
       "      <td>starry_sky25</td>\n",
       "      <td>0</td>\n",
       "      <td>@enargins @juliegrizzy 🤗 I just read some of y...</td>\n",
       "      <td></td>\n",
       "      <td>[read, blog, like, husband, write, one, mostly...</td>\n",
       "      <td>read blog like husband write one mostly pride ...</td>\n",
       "      <td>3</td>\n",
       "      <td>2022</td>\n",
       "    </tr>\n",
       "    <tr>\n",
       "      <th>4</th>\n",
       "      <td>2022-03-08</td>\n",
       "      <td>pastynome</td>\n",
       "      <td>0</td>\n",
       "      <td>@ArtyomLukin It’s complicated. This exemption ...</td>\n",
       "      <td></td>\n",
       "      <td>[complicate, exemption, give, south, korean, g...</td>\n",
       "      <td>complicate exemption give south korean governm...</td>\n",
       "      <td>3</td>\n",
       "      <td>2022</td>\n",
       "    </tr>\n",
       "  </tbody>\n",
       "</table>\n",
       "</div>"
      ],
      "text/plain": [
       "        date        username  retweets  \\\n",
       "0 2022-03-08     nullis_cede         0   \n",
       "1 2022-03-08    shekhargupta         0   \n",
       "2 2022-03-08  privateloungec         0   \n",
       "3 2022-03-08    starry_sky25         0   \n",
       "4 2022-03-08       pastynome         0   \n",
       "\n",
       "                                               tweet         hashtags  \\\n",
       "0  OK, now that we've got you all hating on Russi...                    \n",
       "1  Aryabhata to Gaganyaan, S-400 &amp; nuclear en...  theprinrscience   \n",
       "2  Sanctions Bite – Netflix, American Express, 2 ...                    \n",
       "3  @enargins @juliegrizzy 🤗 I just read some of y...                    \n",
       "4  @ArtyomLukin It’s complicated. This exemption ...                    \n",
       "\n",
       "                                         clean_tweet  \\\n",
       "0  [ok, ', get, hat, russia, ', mind, clamp, cryp...   \n",
       "1  [aryabhata, gaganyaan, amp, nuclear, energy, i...   \n",
       "2  [sanction, bite, netflix, american, express, m...   \n",
       "3  [read, blog, like, husband, write, one, mostly...   \n",
       "4  [complicate, exemption, give, south, korean, g...   \n",
       "\n",
       "                                       cleaned_tweet  month  year  \n",
       "0  ok ' get hat russia ' mind clamp crypto curren...      3  2022  \n",
       "1  aryabhata gaganyaan amp nuclear energy india a...      3  2022  \n",
       "2  sanction bite netflix american express major a...      3  2022  \n",
       "3  read blog like husband write one mostly pride ...      3  2022  \n",
       "4  complicate exemption give south korean governm...      3  2022  "
      ]
     },
     "execution_count": 18,
     "metadata": {},
     "output_type": "execute_result"
    }
   ],
   "source": [
    "tweets_df.head()"
   ]
  },
  {
   "cell_type": "code",
   "execution_count": 19,
   "metadata": {},
   "outputs": [
    {
     "data": {
      "text/plain": [
       "[\"ok ' get hat russia ' mind clamp crypto currency quickly otherwise evil russian still buy stuff right\",\n",
       " 'aryabhata gaganyaan amp nuclear energy india age old tie russia run deep sandhya ramesh report theprinrscience',\n",
       " 'sanction bite netflix american express major accountancy firm reject russia',\n",
       " 'read blog like husband write one mostly pride old curmudgeon oh well hop since netflix pull russia maybe putin give usa would fit netflix',\n",
       " 'complicate exemption give south korean government control export control export control aim military institution russia south korea net importer arm russia say relation strain though',\n",
       " 'world order right thing get russia boycottmcdonalds',\n",
       " 'russia yikes somebody sure need get back draw board',\n",
       " 'harsh mehta easy ask russia u give nuclear head others follow suit',\n",
       " \"razaq funny dont smell ukrainian blood fuel use come russia use ukraine pipe boycott also ' west ask ukrainian follow minsk agreement life ' kid ukrainian take need peace see one side never enuf\",\n",
       " 'national interest india make right choice get involve nato v russia war job take care nation interest',\n",
       " 'suspend participation russia sponsor group welcome indiefilmmakers',\n",
       " 'russia ru canadian collect memorabilia hockey series',\n",
       " \"listen russian love friend ' time fuck clown b love mother russia much ' look good soldier lay life grind need ticket\",\n",
       " 'ucr nia condena moscou que quer deixar civis fugirem para ssia',\n",
       " \"probably ' show russia today\",\n",
       " \"like china care u start godfather world china openly ally russia ' double edge sword\",\n",
       " 'billion dollar reserve billion dollar default bring russia inability pay fault enemy action diff',\n",
       " \"google russia ' fancy bear launch phishing campaign ukrainian ahead invasion belarus ' ghostwriter target ukrainian polish military\",\n",
       " 'ukraine presidant zelenskyy russia war worldwariii',\n",
       " \"hear friend live russia putin ' care sanction happen russian people ' one bear consequence rn ' even silence dare speak\",\n",
       " 'ucr nia condena moscou que quer deixar civis fugirem para ssia',\n",
       " \"' kholmsk russia somewhere\",\n",
       " 'ucr nia condena moscou que quer deixar civis fugirem para ssia',\n",
       " 'trust russia',\n",
       " 'russia offer humanitarian corridor five ukraine city report',\n",
       " 'yeah use citrix dems human shield optic refuse safe passage citizen russia order ceasefire thing russia deliver food supply citizen ukraine really show clearly nazi bravery',\n",
       " 'confuse usa keen long hat dismantle sabotage russia go longer alive idk even know',\n",
       " 'russia',\n",
       " 'take look japan russia',\n",
       " \"russia stop ' moment ' ukraine meet term kremlin\",\n",
       " 'russia military expose joke bingo card',\n",
       " 'russia skew perception war ukraine inundate propaganda lisa laflamme report',\n",
       " 'march former canadian retire major general david fraser dean milner provide military analysis russia ukraine crisis',\n",
       " \"police detain people sunday russia wide protest president vladimir putin ' invasion ukraine accord independent protest monitor group\",\n",
       " 'generalmajor der russischen armee vitaly gerasimov der von charkiw liquidiert',\n",
       " 'japanese automaker nissan halt production russia logistical challenge prost ednictv',\n",
       " 'course moscow mitch want help american help rich russia',\n",
       " 'fifa say foreign player leave ukraine russia football news',\n",
       " 'russia russia',\n",
       " 'civilian northern ukrainian city chernihiv describe trap relentless shell russia indiscriminately pound residential neighbourhood several city',\n",
       " 'russia warn catastrophic fallout west ban oil import',\n",
       " 'putin create fascist russian state place modern world russia ukraine russianukrainianwar fascist fascism',\n",
       " 'conflict ukraine end mcdonalds stop business russia',\n",
       " 'russia live sanction since adapt already west prepare tackle energy market disruption new sanction cause top china think tank say',\n",
       " 'mislead claim information russia ukraine rampant social medium since former launch military operation latter february fact check claim go viral recent time',\n",
       " 'air still available russia',\n",
       " 'reality russia oil gas ban via',\n",
       " 'jenner allow compete russia show masculine look adult woman would kind ruckus look like woman steroid hormone treatment asterisk please david hutchinson',\n",
       " \"trend twitter russia ' newest enemy include liechtenstein monaco san marino\",\n",
       " 'russia goal special bowel movement stop potential source excrement dirty toilet',\n",
       " 'world do russia sakhalin kuril island return japan geopolitical cent',\n",
       " 'paris russia assume full control nuclear plant worker must take order ukraine ukrainerussiawar ukrainerussianwar ukrainewar',\n",
       " 'next say need kick russia warsaw pact',\n",
       " 'russiainvadedukraine russianukrainianwar ukrainerussianwar ukraine putinwarcriminal putinwarcrimes putin council russia ukrain war stop',\n",
       " \"usa invasion wrong ' make russia invasion right\",\n",
       " \"communist system russia leave wide blood trail since stalin baltic poland hungary happy live freedom belong nato russian mother get get son back ' war ' putin '\",\n",
       " 'empire lie fight russia last ukrainian',\n",
       " 'personally much favour grassroots anti imperialist movement would ass russia invasion neighbour country',\n",
       " 'wapo original think regurgitate straw man argument add new member issue solicit former ussr state border russia historical ethnic tie say play role current situation asinine',\n",
       " 'ibm suspend business russia amid ukraine crisis',\n",
       " 'russia ukraine war unsc hindinews news',\n",
       " 'deloitte ernst amp young join fellow big four account firm kpmg pricewaterhousecoopers monday pull russia',\n",
       " \"well ' much freedom russia atm maybe go join\",\n",
       " 'la cina sta scavando la fossa mezzo mondo ha bisogno di alleati come la russia la cina una feroce dittatura la loro paccottiglia prezzi basso ce lo fa dimenticare lo',\n",
       " 'poucos minutos depois da dez da noite desta segunda feira quem passava pela rua visconde de santar em lisboa testemunhou um momento lito partir de uma carrinha manifestantes projetaram core da bandeira da ucr nia na fachada da embaixada da ssia',\n",
       " 'russia ban walkie talkie app zello',\n",
       " 'russia war ukraine continue soldier deploy fort knox germany poland support nato ally',\n",
       " 'watch marjorie greene profit russia war ukraine youtube',\n",
       " 'iuga rf ukraine emb moscow',\n",
       " 'th estate general fail country push trump russia b story yet bury hunter biden laptop amp kick back russia amp china influence peddle present centrist order put lipstick green socialist pig',\n",
       " 'look like blond blue eye nazi putin nazi russia home grow nurture make cringe give chill look face expression',\n",
       " 'russia warn oil import ban little progress make ukraine talk',\n",
       " \"first one ' support neither ukraine russia\",\n",
       " 'boycott company continue russia treason cheap',\n",
       " 'atas nama pro suriah nasib ummat islam suriah para pejuang suriah dan yang pro akan mereka tidak henti melaknat para prajurit chechnya yang berada dalam federasi negara russia dan kini ikut berperang di ukraina bahkan para tentara chechnya dianggap murtad innalillah',\n",
       " 'russia warn catastrophic fallout west ban oil import',\n",
       " \"right right mr russian troll russia do matter russian people want become china ' slave\",\n",
       " \"thing happen ' something planet go music version identical version use every man individual broadcast say north korea russia attempt undermine society favor socialism lol\",\n",
       " 'company divest russia face big write',\n",
       " \"plz stop war report indian channel create negative sentiment towards russia pay promotion ' good country\",\n",
       " 'give genius choose leave afghanistan kindly keep insane president inside circumstance mention war ukraine russia',\n",
       " 'revolution russia within month putin go july end',\n",
       " 'cold fact massive miscalculation horrible error putin take russia year back blink eye poor russian half totally brainwash half scar act know flee country new iron curtain',\n",
       " \"yet russia capable talk icmbs usa russia even capable take hypersonics mission defense system even india ' problem usa ' missile defense system fell behind wake run\",\n",
       " 'putin warn nation enforce fly zone ukraine would part conflict worldwar ww ukraine russia vladmirputin',\n",
       " \"russia program shell use ai may hit ukrainian woman happywomen ' sday peace nowar putin biden nato\",\n",
       " \"salute horizon welcome ay selcan ak perspective russia ' brinkmanship diplomacy russia ' frequently use brinkmanship diplomacy affect cuban missile crisis ukraine crisis ukrainewar tdhj\",\n",
       " 'update turkey minister foreign affair announce tripartite meet foreign ministry turkey ukraine russia take place thursday march antalya',\n",
       " 'could call karma hate country much maybe russia better fit',\n",
       " 'moomoo ag indiscriminately entire citizenship russia fuck wackjobs propose',\n",
       " 'reason usa eu want get involve war russia poor third world war',\n",
       " \"seem like ' make enough money afford hit sell product russia stop evil minute make right decision\",\n",
       " 'russia capture tank base central ukraine tank fully operable load combat ready turn ukrainian army',\n",
       " 'people chant rant china russia pray god make two super power know harsh self center mean feel like worse country form mean taiwan also decide take back',\n",
       " 'reindeer tornado herd reindeer stampede circle make impossible target individual predator fawn middle video russia kola peninsula arctic circle',\n",
       " 'russia amp china big economy increase trade country follow dementia suffer leader may legally medically fit lead may even comprehend whole situation biden nato help china chinarussia china russia trade',\n",
       " 'soviet russia time waste',\n",
       " \"russia restrict social medium ' know\",\n",
       " 'fact russia act aggressively cement place new world order kick le relaint oil gas explain ascertain actually right',\n",
       " \"damage inflict upon russia visa mastercard replace union pay alipay apple replace huawei xiaomi lenovo ford volkswagen replace byd russian people ' life comfortable convenient\"]"
      ]
     },
     "execution_count": 19,
     "metadata": {},
     "output_type": "execute_result"
    }
   ],
   "source": [
    "# Inspect sample of tweets\n",
    "filter_cond = (tweets_df['year']==2022) & (tweets_df['month']==3)\n",
    "list(tweets_df['cleaned_tweet'][filter_cond][:100])"
   ]
  },
  {
   "cell_type": "code",
   "execution_count": 20,
   "metadata": {},
   "outputs": [],
   "source": [
    "# Remove all tweets which do not have the words \"ukraine\" or \"russia\"\n",
    "# country_tweets_df = tweets_df.copy()\n",
    "\n",
    "# filter_words = ['ukraine', 'russia']\n",
    "# country_tweets_df = country_tweets_df[country_tweets_df[\"cleaned_tweet\"].str.contains('|'.join(filter_words))]\n",
    "# country_tweets_df.shape"
   ]
  },
  {
   "cell_type": "markdown",
   "metadata": {},
   "source": [
    "## Embeddings"
   ]
  },
  {
   "cell_type": "code",
   "execution_count": 21,
   "metadata": {},
   "outputs": [
    {
     "data": {
      "text/plain": [
       "['aryabhata_gaganyaan',\n",
       " 'amp',\n",
       " 'nuclear',\n",
       " 'energy',\n",
       " 'india_age',\n",
       " 'old_tie',\n",
       " 'russia',\n",
       " 'run_deep',\n",
       " 'sandhya_ramesh',\n",
       " 'report_theprinrscience']"
      ]
     },
     "execution_count": 21,
     "metadata": {},
     "output_type": "execute_result"
    }
   ],
   "source": [
    "# Converting the \"clean_text\" column in the format supported by embeddings.\n",
    "sent = [row for row in tweets_df[\"clean_tweet\"]]\n",
    "\n",
    "# Automatically detect common phrases (bigrams) from a list of sentences.\n",
    "phrases = Phrases(sent, min_count=1, progress_per=50000)\n",
    "bigram = Phraser(phrases)\n",
    "sentences = bigram[sent]\n",
    "sentences[1]"
   ]
  },
  {
   "cell_type": "code",
   "execution_count": 22,
   "metadata": {},
   "outputs": [],
   "source": [
    "# Initialize model\n",
    "\n",
    "w2v_model = Word2Vec(min_count=4,\n",
    "                     window=5,\n",
    "                     vector_size =300,\n",
    "                     sample=1e-5, \n",
    "                     alpha=0.03, \n",
    "                     min_alpha=0.0007, \n",
    "                     negative=20,\n",
    "                     seed= 42,\n",
    "                     workers=multiprocessing.cpu_count()-1)\n",
    "\n",
    "\n",
    "# Build vocab of the word2vec model from the custom data\n",
    "w2v_model.build_vocab(sentences, progress_per=50000)"
   ]
  },
  {
   "cell_type": "code",
   "execution_count": null,
   "metadata": {},
   "outputs": [],
   "source": [
    "# Training the model\n",
    "w2v_model.train(sentences, \n",
    "                total_examples=w2v_model.corpus_count, \n",
    "                epochs=30, \n",
    "                report_delay=1)"
   ]
  },
  {
   "cell_type": "code",
   "execution_count": null,
   "metadata": {},
   "outputs": [],
   "source": [
    "# Check similar words to war in the corpus\n",
    "w2v_model.wv.most_similar(positive=[\"war\"])"
   ]
  },
  {
   "cell_type": "code",
   "execution_count": null,
   "metadata": {},
   "outputs": [],
   "source": [
    "# Save the word2vec model\n",
    "# w2v_model.save(\"models/word2vec.model\")"
   ]
  },
  {
   "cell_type": "code",
   "execution_count": null,
   "metadata": {},
   "outputs": [],
   "source": [
    "# Load the word2vec model\n",
    "# word_vectors = Word2Vec.load(\"word2vec.model\").wv\n",
    "word_vectors = w2v_model.wv"
   ]
  },
  {
   "cell_type": "markdown",
   "metadata": {},
   "source": [
    "## Vectorization"
   ]
  },
  {
   "cell_type": "code",
   "execution_count": null,
   "metadata": {},
   "outputs": [],
   "source": [
    "# Instantiate TfidfVectorizer \n",
    "vectorizer = TfidfVectorizer(min_df=3,\n",
    "                             sublinear_tf=True,\n",
    "#                              encoding=\"latin-1\",\n",
    "                             ngram_range=(1,2),\n",
    "                             stop_words='english')"
   ]
  },
  {
   "cell_type": "code",
   "execution_count": null,
   "metadata": {},
   "outputs": [],
   "source": [
    "# Fit vectorizer\n",
    "# X_train_tf = vectorizer.fit_transform(X_train.reset_index()[\"cleaned_text\"]).toarray()\n",
    "# X_test_tf = vectorizer.transform(X_test.reset_index()[\"cleaned_text\"]).toarray()\n",
    "X_vectors = vectorizer.transform(tweets_df[\"cleaned_tweet\"].reset_index()['cleaned_tweet']).toarray()"
   ]
  },
  {
   "cell_type": "code",
   "execution_count": null,
   "metadata": {},
   "outputs": [],
   "source": [
    "X_vectors.shape"
   ]
  },
  {
   "cell_type": "code",
   "execution_count": null,
   "metadata": {},
   "outputs": [],
   "source": [
    "feature_names = vectorizer.get_feature_names_out() "
   ]
  },
  {
   "cell_type": "markdown",
   "metadata": {},
   "source": [
    "# Import model"
   ]
  },
  {
   "cell_type": "code",
   "execution_count": 23,
   "metadata": {},
   "outputs": [],
   "source": [
    "# Load vectorizer\n",
    "vectorizer = load('../models/vectorizer.joblib')"
   ]
  },
  {
   "cell_type": "code",
   "execution_count": 24,
   "metadata": {},
   "outputs": [],
   "source": [
    "# Transform text using vectorizer\n",
    "X_vectors = vectorizer.transform(tweets_df[\"cleaned_tweet\"].reset_index()['cleaned_tweet']).toarray()"
   ]
  },
  {
   "cell_type": "code",
   "execution_count": 25,
   "metadata": {},
   "outputs": [
    {
     "data": {
      "text/plain": [
       "(9952, 4014)"
      ]
     },
     "execution_count": 25,
     "metadata": {},
     "output_type": "execute_result"
    }
   ],
   "source": [
    "X_vectors.shape"
   ]
  },
  {
   "cell_type": "code",
   "execution_count": 26,
   "metadata": {},
   "outputs": [],
   "source": [
    "feature_names = vectorizer.get_feature_names_out() "
   ]
  },
  {
   "cell_type": "code",
   "execution_count": 27,
   "metadata": {},
   "outputs": [],
   "source": [
    "# Load linearSVC\n",
    "linearSVC_model = load('../models/linearSVC.joblib')"
   ]
  },
  {
   "cell_type": "code",
   "execution_count": 28,
   "metadata": {},
   "outputs": [],
   "source": [
    "# Generate prediction\n",
    "svc_predict = linearSVC_model.predict(X_vectors)"
   ]
  },
  {
   "cell_type": "code",
   "execution_count": 29,
   "metadata": {},
   "outputs": [
    {
     "name": "stdout",
     "output_type": "stream",
     "text": [
      "ok ' get hat russia ' mind clamp crypto currency quickly otherwise evil russian still buy stuff right -1\n",
      "aryabhata gaganyaan amp nuclear energy india age old tie russia run deep sandhya ramesh report theprinrscience -1\n",
      "sanction bite netflix american express major accountancy firm reject russia -1\n",
      "read blog like husband write one mostly pride old curmudgeon oh well hop since netflix pull russia maybe putin give usa would fit netflix -1\n",
      "complicate exemption give south korean government control export control export control aim military institution russia south korea net importer arm russia say relation strain though -1\n",
      "world order right thing get russia boycottmcdonalds -1\n",
      "russia yikes somebody sure need get back draw board -1\n",
      "harsh mehta easy ask russia u give nuclear head others follow suit -1\n",
      "razaq funny dont smell ukrainian blood fuel use come russia use ukraine pipe boycott also ' west ask ukrainian follow minsk agreement life ' kid ukrainian take need peace see one side never enuf -1\n",
      "national interest india make right choice get involve nato v russia war job take care nation interest -1\n"
     ]
    }
   ],
   "source": [
    "# connect predictions with outputs\n",
    "for i in range(10):\n",
    "\tprint(tweets_df[\"cleaned_tweet\"].iloc[i], svc_predict[i])"
   ]
  },
  {
   "cell_type": "code",
   "execution_count": 30,
   "metadata": {},
   "outputs": [],
   "source": [
    "# Map sentiment encodings\n",
    "\n",
    "emotion = { 0: \"neutral\", 1: \"positive\", -1: \"negative\" }\n",
    "\n",
    "k = np.array(list(emotion.keys()))\n",
    "v = np.array(list(emotion.values()))\n",
    "\n",
    "mapping_arr = np.zeros(k.max()+1, dtype=v.dtype) #k,v from approach #1\n",
    "mapping_arr[k] = v\n",
    "\n",
    "sent_predictions = mapping_arr[svc_predict]"
   ]
  },
  {
   "cell_type": "code",
   "execution_count": 31,
   "metadata": {},
   "outputs": [],
   "source": [
    "# Build df from predictions\n",
    "\n",
    "tweet_sentiments = pd.DataFrame(zip(tweets_df['cleaned_tweet'], sent_predictions), columns=['tweet', 'sentiments_val'])"
   ]
  },
  {
   "cell_type": "code",
   "execution_count": 32,
   "metadata": {},
   "outputs": [
    {
     "data": {
      "text/html": [
       "<div>\n",
       "<style scoped>\n",
       "    .dataframe tbody tr th:only-of-type {\n",
       "        vertical-align: middle;\n",
       "    }\n",
       "\n",
       "    .dataframe tbody tr th {\n",
       "        vertical-align: top;\n",
       "    }\n",
       "\n",
       "    .dataframe thead th {\n",
       "        text-align: right;\n",
       "    }\n",
       "</style>\n",
       "<table border=\"1\" class=\"dataframe\">\n",
       "  <thead>\n",
       "    <tr style=\"text-align: right;\">\n",
       "      <th></th>\n",
       "      <th>tweet</th>\n",
       "      <th>sentiments_val</th>\n",
       "    </tr>\n",
       "  </thead>\n",
       "  <tbody>\n",
       "    <tr>\n",
       "      <th>0</th>\n",
       "      <td>ok ' get hat russia ' mind clamp crypto curren...</td>\n",
       "      <td>negative</td>\n",
       "    </tr>\n",
       "    <tr>\n",
       "      <th>1</th>\n",
       "      <td>aryabhata gaganyaan amp nuclear energy india a...</td>\n",
       "      <td>negative</td>\n",
       "    </tr>\n",
       "    <tr>\n",
       "      <th>2</th>\n",
       "      <td>sanction bite netflix american express major a...</td>\n",
       "      <td>negative</td>\n",
       "    </tr>\n",
       "    <tr>\n",
       "      <th>3</th>\n",
       "      <td>read blog like husband write one mostly pride ...</td>\n",
       "      <td>negative</td>\n",
       "    </tr>\n",
       "    <tr>\n",
       "      <th>4</th>\n",
       "      <td>complicate exemption give south korean governm...</td>\n",
       "      <td>negative</td>\n",
       "    </tr>\n",
       "  </tbody>\n",
       "</table>\n",
       "</div>"
      ],
      "text/plain": [
       "                                               tweet sentiments_val\n",
       "0  ok ' get hat russia ' mind clamp crypto curren...       negative\n",
       "1  aryabhata gaganyaan amp nuclear energy india a...       negative\n",
       "2  sanction bite netflix american express major a...       negative\n",
       "3  read blog like husband write one mostly pride ...       negative\n",
       "4  complicate exemption give south korean governm...       negative"
      ]
     },
     "execution_count": 32,
     "metadata": {},
     "output_type": "execute_result"
    }
   ],
   "source": [
    "tweet_sentiments.head()"
   ]
  },
  {
   "cell_type": "code",
   "execution_count": 33,
   "metadata": {},
   "outputs": [
    {
     "data": {
      "image/png": "[encoded data removed]",
      "text/plain": [
       "<Figure size 504x504 with 1 Axes>"
      ]
     },
     "metadata": {},
     "output_type": "display_data"
    },
    {
     "data": {
      "text/html": [
       "<div>\n",
       "<style scoped>\n",
       "    .dataframe tbody tr th:only-of-type {\n",
       "        vertical-align: middle;\n",
       "    }\n",
       "\n",
       "    .dataframe tbody tr th {\n",
       "        vertical-align: top;\n",
       "    }\n",
       "\n",
       "    .dataframe thead th {\n",
       "        text-align: right;\n",
       "    }\n",
       "</style>\n",
       "<table border=\"1\" class=\"dataframe\">\n",
       "  <thead>\n",
       "    <tr style=\"text-align: right;\">\n",
       "      <th></th>\n",
       "      <th>index</th>\n",
       "      <th>sentiments_val</th>\n",
       "    </tr>\n",
       "  </thead>\n",
       "  <tbody>\n",
       "    <tr>\n",
       "      <th>0</th>\n",
       "      <td>negative</td>\n",
       "      <td>8582</td>\n",
       "    </tr>\n",
       "    <tr>\n",
       "      <th>1</th>\n",
       "      <td>neutral</td>\n",
       "      <td>1370</td>\n",
       "    </tr>\n",
       "  </tbody>\n",
       "</table>\n",
       "</div>"
      ],
      "text/plain": [
       "      index  sentiments_val\n",
       "0  negative            8582\n",
       "1   neutral            1370"
      ]
     },
     "execution_count": 33,
     "metadata": {},
     "output_type": "execute_result"
    }
   ],
   "source": [
    "# Plot pie chart of Sentiment Distribution of words\n",
    "fig = plt.gcf()\n",
    "fig.set_size_inches(7,7)\n",
    "colors = [\"cyan\",\"pink\",\"yellow\"]\n",
    "\n",
    "pie_df = tweet_sentiments['sentiments_val'].value_counts().reset_index()\n",
    "\n",
    "plt.pie(pie_df['sentiments_val'],\n",
    "        labels=pie_df[\"index\"],\n",
    "        radius=2,\n",
    "        colors=colors,\n",
    "        autopct=\"%1.1f%%\")\n",
    "\n",
    "plt.axis('equal')\n",
    "plt.title('Sentiment Distribution of Tweets', fontsize=20)\n",
    "plt.show()\n",
    "pie_df"
   ]
  },
  {
   "cell_type": "code",
   "execution_count": 35,
   "metadata": {},
   "outputs": [
    {
     "data": {
      "image/png": "[encoded data removed]",
      "text/plain": [
       "<Figure size 460.8x403.2 with 1 Axes>"
      ]
     },
     "metadata": {},
     "output_type": "display_data"
    }
   ],
   "source": [
    "# Inspect keyword sentiment\n",
    "keywords=['russia']\n",
    "pattern = '|'.join(keywords)\n",
    "keyword_sent_df = tweet_sentiments[(tweet_sentiments[\"tweet\"].str.contains(pattern))]\n",
    "sns.countplot(x=keyword_sent_df[\"sentiments_val\"]);\n"
   ]
  },
  {
   "cell_type": "code",
   "execution_count": null,
   "metadata": {},
   "outputs": [],
   "source": []
  }
 ],
 "metadata": {
  "interpreter": {
   "hash": "10d883baf2d2c020187d16fb74e1bc85e676b385dd78044a08a209b4abcafece"
  },
  "kernelspec": {
   "display_name": "Python 3.10.2 ('nlp')",
   "language": "python",
   "name": "python3"
  },
  "language_info": {
   "codemirror_mode": {
    "name": "ipython",
    "version": 3
   },
   "file_extension": ".py",
   "mimetype": "text/x-python",
   "name": "python",
   "nbconvert_exporter": "python",
   "pygments_lexer": "ipython3",
   "version": "3.10.4"
  },
  "orig_nbformat": 4
 },
 "nbformat": 4,
 "nbformat_minor": 2
}
