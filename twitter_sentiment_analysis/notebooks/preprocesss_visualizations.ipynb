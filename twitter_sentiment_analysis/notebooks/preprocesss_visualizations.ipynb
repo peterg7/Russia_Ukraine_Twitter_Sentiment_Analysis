{
 "cells": [
  {
   "cell_type": "markdown",
   "metadata": {},
   "source": [
    "# Transform Data for Vizualization"
   ]
  },
  {
   "cell_type": "markdown",
   "metadata": {},
   "source": [
    "## `words.csv` embeddings"
   ]
  },
  {
   "cell_type": "markdown",
   "metadata": {},
   "source": [
    "*Eventually want this to be an executable. Potentially being run after a pipeline*"
   ]
  },
  {
   "cell_type": "code",
   "execution_count": 22,
   "metadata": {},
   "outputs": [],
   "source": [
    "# Import dependencies\n",
    "\n",
    "import pandas as pd\n",
    "import seaborn as sns"
   ]
  },
  {
   "cell_type": "code",
   "execution_count": 7,
   "metadata": {},
   "outputs": [],
   "source": [
    "file_path = '../data/embeddings/words.csv'\n",
    "\n",
    "words_df = pd.read_csv(file_path)"
   ]
  },
  {
   "cell_type": "code",
   "execution_count": 8,
   "metadata": {},
   "outputs": [
    {
     "data": {
      "text/html": [
       "<div>\n",
       "<style scoped>\n",
       "    .dataframe tbody tr th:only-of-type {\n",
       "        vertical-align: middle;\n",
       "    }\n",
       "\n",
       "    .dataframe tbody tr th {\n",
       "        vertical-align: top;\n",
       "    }\n",
       "\n",
       "    .dataframe thead th {\n",
       "        text-align: right;\n",
       "    }\n",
       "</style>\n",
       "<table border=\"1\" class=\"dataframe\">\n",
       "  <thead>\n",
       "    <tr style=\"text-align: right;\">\n",
       "      <th></th>\n",
       "      <th>Unnamed: 0</th>\n",
       "      <th>words</th>\n",
       "      <th>vectors</th>\n",
       "      <th>cluster</th>\n",
       "      <th>cluster_value</th>\n",
       "      <th>closeness_score</th>\n",
       "      <th>sentiment_coeff</th>\n",
       "      <th>sentiments</th>\n",
       "    </tr>\n",
       "  </thead>\n",
       "  <tbody>\n",
       "    <tr>\n",
       "      <th>0</th>\n",
       "      <td>0</td>\n",
       "      <td>slavaukraini</td>\n",
       "      <td>[ 1.35113846e-03 -4.37716506e-02  5.63693643e-...</td>\n",
       "      <td>2</td>\n",
       "      <td>-1</td>\n",
       "      <td>13.419547</td>\n",
       "      <td>-13.419547</td>\n",
       "      <td>negative</td>\n",
       "    </tr>\n",
       "    <tr>\n",
       "      <th>1</th>\n",
       "      <td>1</td>\n",
       "      <td>ukraine</td>\n",
       "      <td>[-0.00833533 -0.0502086   0.05567726 -0.015725...</td>\n",
       "      <td>2</td>\n",
       "      <td>-1</td>\n",
       "      <td>9.034612</td>\n",
       "      <td>-9.034612</td>\n",
       "      <td>negative</td>\n",
       "    </tr>\n",
       "    <tr>\n",
       "      <th>2</th>\n",
       "      <td>2</td>\n",
       "      <td>'</td>\n",
       "      <td>[ 4.05742263e-04 -4.62536104e-02  6.47858679e-...</td>\n",
       "      <td>2</td>\n",
       "      <td>-1</td>\n",
       "      <td>15.928293</td>\n",
       "      <td>-15.928293</td>\n",
       "      <td>negative</td>\n",
       "    </tr>\n",
       "    <tr>\n",
       "      <th>3</th>\n",
       "      <td>3</td>\n",
       "      <td>putin</td>\n",
       "      <td>[-0.00240385 -0.05282527  0.06500029 -0.016937...</td>\n",
       "      <td>2</td>\n",
       "      <td>-1</td>\n",
       "      <td>12.871160</td>\n",
       "      <td>-12.871160</td>\n",
       "      <td>negative</td>\n",
       "    </tr>\n",
       "    <tr>\n",
       "      <th>4</th>\n",
       "      <td>4</td>\n",
       "      <td>russia</td>\n",
       "      <td>[ 3.06908507e-03 -4.81047444e-02  6.40448779e-...</td>\n",
       "      <td>2</td>\n",
       "      <td>-1</td>\n",
       "      <td>18.269216</td>\n",
       "      <td>-18.269216</td>\n",
       "      <td>negative</td>\n",
       "    </tr>\n",
       "  </tbody>\n",
       "</table>\n",
       "</div>"
      ],
      "text/plain": [
       "   Unnamed: 0         words  \\\n",
       "0           0  slavaukraini   \n",
       "1           1       ukraine   \n",
       "2           2             '   \n",
       "3           3         putin   \n",
       "4           4        russia   \n",
       "\n",
       "                                             vectors  cluster  cluster_value  \\\n",
       "0  [ 1.35113846e-03 -4.37716506e-02  5.63693643e-...        2             -1   \n",
       "1  [-0.00833533 -0.0502086   0.05567726 -0.015725...        2             -1   \n",
       "2  [ 4.05742263e-04 -4.62536104e-02  6.47858679e-...        2             -1   \n",
       "3  [-0.00240385 -0.05282527  0.06500029 -0.016937...        2             -1   \n",
       "4  [ 3.06908507e-03 -4.81047444e-02  6.40448779e-...        2             -1   \n",
       "\n",
       "   closeness_score  sentiment_coeff sentiments  \n",
       "0        13.419547       -13.419547   negative  \n",
       "1         9.034612        -9.034612   negative  \n",
       "2        15.928293       -15.928293   negative  \n",
       "3        12.871160       -12.871160   negative  \n",
       "4        18.269216       -18.269216   negative  "
      ]
     },
     "execution_count": 8,
     "metadata": {},
     "output_type": "execute_result"
    }
   ],
   "source": [
    "words_df.head()"
   ]
  },
  {
   "cell_type": "code",
   "execution_count": 19,
   "metadata": {},
   "outputs": [],
   "source": [
    "words_df = words_df.drop(columns=['Unnamed: 0', 'vectors', 'cluster'])"
   ]
  },
  {
   "cell_type": "code",
   "execution_count": 20,
   "metadata": {},
   "outputs": [
    {
     "data": {
      "text/html": [
       "<div>\n",
       "<style scoped>\n",
       "    .dataframe tbody tr th:only-of-type {\n",
       "        vertical-align: middle;\n",
       "    }\n",
       "\n",
       "    .dataframe tbody tr th {\n",
       "        vertical-align: top;\n",
       "    }\n",
       "\n",
       "    .dataframe thead th {\n",
       "        text-align: right;\n",
       "    }\n",
       "</style>\n",
       "<table border=\"1\" class=\"dataframe\">\n",
       "  <thead>\n",
       "    <tr style=\"text-align: right;\">\n",
       "      <th></th>\n",
       "      <th>cluster_value</th>\n",
       "      <th>closeness_score</th>\n",
       "      <th>sentiment_coeff</th>\n",
       "    </tr>\n",
       "  </thead>\n",
       "  <tbody>\n",
       "    <tr>\n",
       "      <th>count</th>\n",
       "      <td>5996.000000</td>\n",
       "      <td>5996.000000</td>\n",
       "      <td>5996.000000</td>\n",
       "    </tr>\n",
       "    <tr>\n",
       "      <th>mean</th>\n",
       "      <td>-0.257672</td>\n",
       "      <td>18.593325</td>\n",
       "      <td>-5.982736</td>\n",
       "    </tr>\n",
       "    <tr>\n",
       "      <th>std</th>\n",
       "      <td>0.930880</td>\n",
       "      <td>5.223059</td>\n",
       "      <td>17.989848</td>\n",
       "    </tr>\n",
       "    <tr>\n",
       "      <th>min</th>\n",
       "      <td>-1.000000</td>\n",
       "      <td>0.601255</td>\n",
       "      <td>-29.412926</td>\n",
       "    </tr>\n",
       "    <tr>\n",
       "      <th>25%</th>\n",
       "      <td>-1.000000</td>\n",
       "      <td>16.237116</td>\n",
       "      <td>-21.529929</td>\n",
       "    </tr>\n",
       "    <tr>\n",
       "      <th>50%</th>\n",
       "      <td>-1.000000</td>\n",
       "      <td>19.378920</td>\n",
       "      <td>-15.971034</td>\n",
       "    </tr>\n",
       "    <tr>\n",
       "      <th>75%</th>\n",
       "      <td>1.000000</td>\n",
       "      <td>22.415127</td>\n",
       "      <td>16.084731</td>\n",
       "    </tr>\n",
       "    <tr>\n",
       "      <th>max</th>\n",
       "      <td>1.000000</td>\n",
       "      <td>29.412926</td>\n",
       "      <td>26.880291</td>\n",
       "    </tr>\n",
       "  </tbody>\n",
       "</table>\n",
       "</div>"
      ],
      "text/plain": [
       "       cluster_value  closeness_score  sentiment_coeff\n",
       "count    5996.000000      5996.000000      5996.000000\n",
       "mean       -0.257672        18.593325        -5.982736\n",
       "std         0.930880         5.223059        17.989848\n",
       "min        -1.000000         0.601255       -29.412926\n",
       "25%        -1.000000        16.237116       -21.529929\n",
       "50%        -1.000000        19.378920       -15.971034\n",
       "75%         1.000000        22.415127        16.084731\n",
       "max         1.000000        29.412926        26.880291"
      ]
     },
     "execution_count": 20,
     "metadata": {},
     "output_type": "execute_result"
    }
   ],
   "source": [
    "words_df.describe()"
   ]
  },
  {
   "cell_type": "code",
   "execution_count": 21,
   "metadata": {},
   "outputs": [
    {
     "name": "stdout",
     "output_type": "stream",
     "text": [
      "<class 'pandas.core.frame.DataFrame'>\n",
      "RangeIndex: 5996 entries, 0 to 5995\n",
      "Data columns (total 5 columns):\n",
      " #   Column           Non-Null Count  Dtype  \n",
      "---  ------           --------------  -----  \n",
      " 0   words            5996 non-null   object \n",
      " 1   cluster_value    5996 non-null   int64  \n",
      " 2   closeness_score  5996 non-null   float64\n",
      " 3   sentiment_coeff  5996 non-null   float64\n",
      " 4   sentiments       5996 non-null   object \n",
      "dtypes: float64(2), int64(1), object(2)\n",
      "memory usage: 234.3+ KB\n"
     ]
    }
   ],
   "source": [
    "words_df.info()"
   ]
  },
  {
   "cell_type": "code",
   "execution_count": 23,
   "metadata": {},
   "outputs": [
    {
     "data": {
      "text/plain": [
       "<seaborn.axisgrid.FacetGrid at 0x156b14640>"
      ]
     },
     "execution_count": 23,
     "metadata": {},
     "output_type": "execute_result"
    },
    {
     "data": {
      "image/png": "[encoded data removed]",
      "text/plain": [
       "<Figure size 360x360 with 1 Axes>"
      ]
     },
     "metadata": {},
     "output_type": "display_data"
    }
   ],
   "source": [
    "sns.displot(words_df, x=\"cluster_value\", kind=\"kde\")"
   ]
  },
  {
   "cell_type": "code",
   "execution_count": 24,
   "metadata": {},
   "outputs": [],
   "source": [
    "# Output to visualizations/\n",
    "\n",
    "words_df.to_csv('../../visualizations/part1/data/words.csv')"
   ]
  },
  {
   "cell_type": "markdown",
   "metadata": {},
   "source": [
    "## Build a \"summary\" file"
   ]
  },
  {
   "cell_type": "code",
   "execution_count": 27,
   "metadata": {},
   "outputs": [],
   "source": [
    "words_summary_df = pd.DataFrame(words_df['sentiments'].value_counts())"
   ]
  },
  {
   "cell_type": "code",
   "execution_count": 30,
   "metadata": {},
   "outputs": [
    {
     "data": {
      "text/html": [
       "<div>\n",
       "<style scoped>\n",
       "    .dataframe tbody tr th:only-of-type {\n",
       "        vertical-align: middle;\n",
       "    }\n",
       "\n",
       "    .dataframe tbody tr th {\n",
       "        vertical-align: top;\n",
       "    }\n",
       "\n",
       "    .dataframe thead th {\n",
       "        text-align: right;\n",
       "    }\n",
       "</style>\n",
       "<table border=\"1\" class=\"dataframe\">\n",
       "  <thead>\n",
       "    <tr style=\"text-align: right;\">\n",
       "      <th></th>\n",
       "      <th>sentiments</th>\n",
       "    </tr>\n",
       "  </thead>\n",
       "  <tbody>\n",
       "    <tr>\n",
       "      <th>negative</th>\n",
       "      <td>3569</td>\n",
       "    </tr>\n",
       "    <tr>\n",
       "      <th>positive</th>\n",
       "      <td>2024</td>\n",
       "    </tr>\n",
       "    <tr>\n",
       "      <th>neutral</th>\n",
       "      <td>403</td>\n",
       "    </tr>\n",
       "  </tbody>\n",
       "</table>\n",
       "</div>"
      ],
      "text/plain": [
       "          sentiments\n",
       "negative        3569\n",
       "positive        2024\n",
       "neutral          403"
      ]
     },
     "execution_count": 30,
     "metadata": {},
     "output_type": "execute_result"
    }
   ],
   "source": [
    "words_summary_df"
   ]
  },
  {
   "cell_type": "code",
   "execution_count": 34,
   "metadata": {},
   "outputs": [
    {
     "data": {
      "text/html": [
       "<div>\n",
       "<style scoped>\n",
       "    .dataframe tbody tr th:only-of-type {\n",
       "        vertical-align: middle;\n",
       "    }\n",
       "\n",
       "    .dataframe tbody tr th {\n",
       "        vertical-align: top;\n",
       "    }\n",
       "\n",
       "    .dataframe thead th {\n",
       "        text-align: right;\n",
       "    }\n",
       "</style>\n",
       "<table border=\"1\" class=\"dataframe\">\n",
       "  <thead>\n",
       "    <tr style=\"text-align: right;\">\n",
       "      <th></th>\n",
       "      <th>sentiment</th>\n",
       "      <th>count</th>\n",
       "    </tr>\n",
       "  </thead>\n",
       "  <tbody>\n",
       "    <tr>\n",
       "      <th>0</th>\n",
       "      <td>negative</td>\n",
       "      <td>3569</td>\n",
       "    </tr>\n",
       "    <tr>\n",
       "      <th>1</th>\n",
       "      <td>positive</td>\n",
       "      <td>2024</td>\n",
       "    </tr>\n",
       "    <tr>\n",
       "      <th>2</th>\n",
       "      <td>neutral</td>\n",
       "      <td>403</td>\n",
       "    </tr>\n",
       "  </tbody>\n",
       "</table>\n",
       "</div>"
      ],
      "text/plain": [
       "  sentiment  count\n",
       "0  negative   3569\n",
       "1  positive   2024\n",
       "2   neutral    403"
      ]
     },
     "execution_count": 34,
     "metadata": {},
     "output_type": "execute_result"
    }
   ],
   "source": [
    "words_summary_df = words_summary_df.reset_index().rename(columns={'index': 'sentiment', 'sentiments': 'count'})\n",
    "words_summary_df"
   ]
  },
  {
   "cell_type": "code",
   "execution_count": 41,
   "metadata": {},
   "outputs": [],
   "source": [
    "s = sum(words_summary_df['count'])\n",
    "words_summary_df['percent'] = words_summary_df['count'] / s * 100"
   ]
  },
  {
   "cell_type": "code",
   "execution_count": 42,
   "metadata": {},
   "outputs": [],
   "source": [
    "# Output to visualizations/\n",
    "\n",
    "words_summary_df.to_csv('../../visualizations/part1/data/words_summary.csv')"
   ]
  },
  {
   "cell_type": "code",
   "execution_count": 35,
   "metadata": {},
   "outputs": [
    {
     "name": "stdout",
     "output_type": "stream",
     "text": [
      "[59.52301534356238, 33.755837224816545, 6.72114743162108]\n",
      "100.0\n"
     ]
    }
   ],
   "source": [
    "test = [3569, 2024, 403]\n",
    "\n",
    "total = sum(test)\n",
    "normal = []\n",
    "for x in test:\n",
    "    normal.append((x / total) * 100)\n",
    "\n",
    "print(normal)\n",
    "print(sum(normal))"
   ]
  },
  {
   "cell_type": "code",
   "execution_count": 38,
   "metadata": {},
   "outputs": [
    {
     "data": {
      "text/plain": [
       "5996"
      ]
     },
     "execution_count": 38,
     "metadata": {},
     "output_type": "execute_result"
    }
   ],
   "source": [
    "sum(test)"
   ]
  }
 ],
 "metadata": {
  "interpreter": {
   "hash": "10d883baf2d2c020187d16fb74e1bc85e676b385dd78044a08a209b4abcafece"
  },
  "kernelspec": {
   "display_name": "Python 3.10.4 ('nlp')",
   "language": "python",
   "name": "python3"
  },
  "language_info": {
   "codemirror_mode": {
    "name": "ipython",
    "version": 3
   },
   "file_extension": ".py",
   "mimetype": "text/x-python",
   "name": "python",
   "nbconvert_exporter": "python",
   "pygments_lexer": "ipython3",
   "version": "3.10.4"
  },
  "orig_nbformat": 4
 },
 "nbformat": 4,
 "nbformat_minor": 2
}
